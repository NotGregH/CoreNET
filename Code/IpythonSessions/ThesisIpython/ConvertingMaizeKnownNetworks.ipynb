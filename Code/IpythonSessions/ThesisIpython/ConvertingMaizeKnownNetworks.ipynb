{
 "cells": [
  {
   "cell_type": "code",
   "execution_count": 1,
   "metadata": {
    "collapsed": false
   },
   "outputs": [
    {
     "name": "stdout",
     "output_type": "stream",
     "text": [
      "C:\\Users\\Greg Hamilton\\Documents\\Vplant\\Networking_Tool\\CrossSpeciesTool\\CaseStudy_2\n"
     ]
    }
   ],
   "source": [
    "cd ../Networking_Tool/CrossSpeciesTool/CaseStudy_2/"
   ]
  },
  {
   "cell_type": "code",
   "execution_count": 2,
   "metadata": {
    "collapsed": true
   },
   "outputs": [],
   "source": [
    "from csv import writer\n",
    "with open(\"MaizePPI.txt\",\"rb\", -1) as f:\n",
    "    lines = [line.strip().split(\"\\t\") for line in f]\n",
    "    with open(\"Maize_pp_Net.SIF\",\"wb\",-1) as o:\n",
    "        write = writer(o, delimiter=\"\\t\")\n",
    "        for i in lines:\n",
    "            if i[3] != \"low\":\n",
    "                write.writerow([i[0],\"pp:\"+i[3],i[1]])\n",
    "        o.close()\n",
    "    f.close()"
   ]
  },
  {
   "cell_type": "code",
   "execution_count": null,
   "metadata": {
    "collapsed": true
   },
   "outputs": [],
   "source": []
  }
 ],
 "metadata": {
  "kernelspec": {
   "display_name": "Python 2",
   "language": "python",
   "name": "python2"
  },
  "language_info": {
   "codemirror_mode": {
    "name": "ipython",
    "version": 2
   },
   "file_extension": ".py",
   "mimetype": "text/x-python",
   "name": "python",
   "nbconvert_exporter": "python",
   "pygments_lexer": "ipython2",
   "version": "2.7.11"
  }
 },
 "nbformat": 4,
 "nbformat_minor": 0
}
