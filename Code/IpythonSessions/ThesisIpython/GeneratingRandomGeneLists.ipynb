{
 "cells": [
  {
   "cell_type": "code",
   "execution_count": 9,
   "metadata": {
    "collapsed": true
   },
   "outputs": [],
   "source": [
    "def randomList(infile, num, outfolder):\n",
    "    import random\n",
    "    from csv import writer\n",
    "    \n",
    "    universe = []\n",
    "    with open(infile, \"rb\", -1) as f:\n",
    "        universe = [line.strip() for line in f]\n",
    "        f.close()\n",
    "    \n",
    "    sample = random.sample(universe, num)\n",
    "    \n",
    "    with open(outfolder+\"/\"+str(num)+\"genes.txt\",\"wb\",-1) as o:\n",
    "        write = writer(o, delimiter= \"\\n\")\n",
    "        write.writerow(sample)\n",
    "        o.close()\n",
    "\n",
    "    return"
   ]
  },
  {
   "cell_type": "code",
   "execution_count": null,
   "metadata": {
    "collapsed": true
   },
   "outputs": [],
   "source": []
  },
  {
   "cell_type": "code",
   "execution_count": 2,
   "metadata": {
    "collapsed": false
   },
   "outputs": [
    {
     "name": "stdout",
     "output_type": "stream",
     "text": [
      "C:\\Users\\Greg Hamilton\\Documents\\Vplant\\Networking_Tool\\Test_Lists\n"
     ]
    }
   ],
   "source": [
    "cd ../Networking_Tool/Test_Lists/"
   ]
  },
  {
   "cell_type": "code",
   "execution_count": 3,
   "metadata": {
    "collapsed": true
   },
   "outputs": [],
   "source": [
    "mkdir Run2"
   ]
  },
  {
   "cell_type": "code",
   "execution_count": 4,
   "metadata": {
    "collapsed": true
   },
   "outputs": [],
   "source": [
    "mkdir Run3"
   ]
  },
  {
   "cell_type": "code",
   "execution_count": 10,
   "metadata": {
    "collapsed": false
   },
   "outputs": [],
   "source": [
    "randomList(\"All_Genes.txt\",1000, \"Run2\")"
   ]
  },
  {
   "cell_type": "code",
   "execution_count": 11,
   "metadata": {
    "collapsed": true
   },
   "outputs": [],
   "source": [
    "randomList(\"All_Genes.txt\",2000, \"Run2\")"
   ]
  },
  {
   "cell_type": "code",
   "execution_count": 12,
   "metadata": {
    "collapsed": true
   },
   "outputs": [],
   "source": [
    "randomList(\"All_Genes.txt\",3000, \"Run2\")"
   ]
  },
  {
   "cell_type": "code",
   "execution_count": 13,
   "metadata": {
    "collapsed": true
   },
   "outputs": [],
   "source": [
    "randomList(\"All_Genes.txt\",4000, \"Run2\")"
   ]
  },
  {
   "cell_type": "code",
   "execution_count": 14,
   "metadata": {
    "collapsed": true
   },
   "outputs": [],
   "source": [
    "randomList(\"All_Genes.txt\",5000, \"Run2\")"
   ]
  },
  {
   "cell_type": "code",
   "execution_count": 15,
   "metadata": {
    "collapsed": true
   },
   "outputs": [],
   "source": [
    "randomList(\"All_Genes.txt\",6000, \"Run2\")"
   ]
  },
  {
   "cell_type": "code",
   "execution_count": 16,
   "metadata": {
    "collapsed": true
   },
   "outputs": [],
   "source": [
    "randomList(\"All_Genes.txt\",7000, \"Run2\")"
   ]
  },
  {
   "cell_type": "code",
   "execution_count": 17,
   "metadata": {
    "collapsed": true
   },
   "outputs": [],
   "source": [
    "randomList(\"All_Genes.txt\",8000, \"Run2\")"
   ]
  },
  {
   "cell_type": "code",
   "execution_count": 18,
   "metadata": {
    "collapsed": true
   },
   "outputs": [],
   "source": [
    "randomList(\"All_Genes.txt\",9000, \"Run2\")\n",
    "randomList(\"All_Genes.txt\",10000, \"Run2\")\n",
    "randomList(\"All_Genes.txt\",11000, \"Run2\")\n",
    "randomList(\"All_Genes.txt\",12000, \"Run2\")\n",
    "randomList(\"All_Genes.txt\",13000, \"Run2\")\n",
    "randomList(\"All_Genes.txt\",14000, \"Run2\")\n",
    "randomList(\"All_Genes.txt\",15000, \"Run2\")"
   ]
  },
  {
   "cell_type": "code",
   "execution_count": 19,
   "metadata": {
    "collapsed": true
   },
   "outputs": [],
   "source": [
    "randomList(\"All_Genes.txt\",1000, \"Run3\")\n",
    "randomList(\"All_Genes.txt\",2000, \"Run3\")\n",
    "randomList(\"All_Genes.txt\",3000, \"Run3\")\n",
    "randomList(\"All_Genes.txt\",4000, \"Run3\")\n",
    "randomList(\"All_Genes.txt\",5000, \"Run3\")\n",
    "randomList(\"All_Genes.txt\",6000, \"Run3\")\n",
    "randomList(\"All_Genes.txt\",7000, \"Run3\")\n",
    "randomList(\"All_Genes.txt\",8000, \"Run3\")\n",
    "randomList(\"All_Genes.txt\",9000, \"Run3\")\n",
    "randomList(\"All_Genes.txt\",10000, \"Run3\")\n",
    "randomList(\"All_Genes.txt\",11000, \"Run3\")\n",
    "randomList(\"All_Genes.txt\",12000, \"Run3\")\n",
    "randomList(\"All_Genes.txt\",13000, \"Run3\")\n",
    "randomList(\"All_Genes.txt\",14000, \"Run3\")\n",
    "randomList(\"All_Genes.txt\",15000, \"Run3\")"
   ]
  }
 ],
 "metadata": {
  "kernelspec": {
   "display_name": "Python 2",
   "language": "python",
   "name": "python2"
  },
  "language_info": {
   "codemirror_mode": {
    "name": "ipython",
    "version": 2
   },
   "file_extension": ".py",
   "mimetype": "text/x-python",
   "name": "python",
   "nbconvert_exporter": "python",
   "pygments_lexer": "ipython2",
   "version": "2.7.11"
  }
 },
 "nbformat": 4,
 "nbformat_minor": 0
}
