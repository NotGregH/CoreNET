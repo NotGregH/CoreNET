{
 "cells": [
  {
   "cell_type": "code",
   "execution_count": 1,
   "metadata": {
    "collapsed": false
   },
   "outputs": [
    {
     "name": "stdout",
     "output_type": "stream",
     "text": [
      "C:\\Users\\Greg Hamilton\\Desktop\\Thesis\\ThesisWriting\\SupplementaryFiles\\Code\n"
     ]
    }
   ],
   "source": [
    "cd ../../"
   ]
  },
  {
   "cell_type": "code",
   "execution_count": 3,
   "metadata": {
    "collapsed": false
   },
   "outputs": [
    {
     "name": "stdout",
     "output_type": "stream",
     "text": [
      "C:\\Users\\Greg Hamilton\\Desktop\\Thesis\\ThesisWriting\\SupplementaryFiles\n"
     ]
    }
   ],
   "source": [
    "cd .."
   ]
  },
  {
   "cell_type": "code",
   "execution_count": 4,
   "metadata": {
    "collapsed": false
   },
   "outputs": [],
   "source": [
    "AraTFdict = {}\n",
    "with open(\"AraTF_objectConn.txt\",\"rb\",-1) as f:\n",
    "    lines = [line.strip().split(\"\\t\") for line in f][1:]\n",
    "    for i in lines:\n",
    "        try:\n",
    "            AraTFdict[i[3]] \n",
    "            AraTFdict[i[3]] = AraTFdict[i[3]] + [i[1]]\n",
    "        except KeyError:\n",
    "            AraTFdict[i[3]] = [i[1]]\n",
    "RiceTFdict = {}\n",
    "with open(\"RiceTF_objectConn.txt\",\"rb\",-1) as f:\n",
    "    lines = [line.strip().split(\"\\t\") for line in f][1:]\n",
    "    for i in lines:\n",
    "        try:\n",
    "            RiceTFdict[i[3]] \n",
    "            RiceTFdict[i[3]] = RiceTFdict[i[3]] + [i[1]]\n",
    "        except KeyError:\n",
    "            RiceTFdict[i[3]] = [i[1]]"
   ]
  },
  {
   "cell_type": "code",
   "execution_count": null,
   "metadata": {
    "collapsed": true
   },
   "outputs": [],
   "source": [
    "### Case Study 1"
   ]
  },
  {
   "cell_type": "code",
   "execution_count": null,
   "metadata": {
    "collapsed": false
   },
   "outputs": [],
   "source": [
    "cd CaseStudy1/Rice_X_Ara_NewMCL/"
   ]
  },
  {
   "cell_type": "code",
   "execution_count": null,
   "metadata": {
    "collapsed": false
   },
   "outputs": [],
   "source": [
    "aragene2tf = []\n",
    "ricegene2tf = []\n",
    "with open(\"AraGenesUnion.txt\",\"rb\",-1) as f:\n",
    "    lines = [line.strip().split(\"\\t\") for line in f]\n",
    "    for i in lines:\n",
    "        try:\n",
    "            AraTFdict[i[0]]\n",
    "            aragene2tf.append([i,AraTFdict[i[0]]])\n",
    "        except KeyError:\n",
    "            continue\n",
    "with open(\"RiceGenesUnion.txt\",\"rb\",-1) as f:\n",
    "    lines = [line.strip().split(\"\\t\") for line in f]\n",
    "    for i in lines:\n",
    "        try:\n",
    "            RiceTFdict[i[0]]\n",
    "            ricegene2tf.append([i,RiceTFdict[i[0]]])\n",
    "        except KeyError:\n",
    "            continue\n",
    "            \n",
    "            "
   ]
  },
  {
   "cell_type": "code",
   "execution_count": null,
   "metadata": {
    "collapsed": false
   },
   "outputs": [],
   "source": [
    "aragene2tf"
   ]
  },
  {
   "cell_type": "code",
   "execution_count": null,
   "metadata": {
    "collapsed": false
   },
   "outputs": [],
   "source": [
    "ricegene2tf"
   ]
  },
  {
   "cell_type": "code",
   "execution_count": null,
   "metadata": {
    "collapsed": true
   },
   "outputs": [],
   "source": [
    "### Case Study 2 ###"
   ]
  },
  {
   "cell_type": "code",
   "execution_count": null,
   "metadata": {
    "collapsed": true
   },
   "outputs": [],
   "source": [
    "## Exp 5"
   ]
  },
  {
   "cell_type": "code",
   "execution_count": 4,
   "metadata": {
    "collapsed": false
   },
   "outputs": [
    {
     "name": "stdout",
     "output_type": "stream",
     "text": [
      "C:\\Users\\Greg Hamilton\\Desktop\\Thesis\\ThesisWriting\\CaseStudy2\\ConservedNetworks\\AraXMaize_Exp5_MCL\n"
     ]
    }
   ],
   "source": [
    "cd ../CaseStudy2/ConservedNetworks/AraXMaize_Exp5_MCL/"
   ]
  },
  {
   "cell_type": "code",
   "execution_count": null,
   "metadata": {
    "collapsed": false
   },
   "outputs": [],
   "source": [
    "cd ../AraXMaize_Exp5_MCL/"
   ]
  },
  {
   "cell_type": "code",
   "execution_count": null,
   "metadata": {
    "collapsed": false
   },
   "outputs": [],
   "source": [
    "aragene2tf = []\n",
    "with open(\"AraUniqueGenesExp5.txt\",\"rb\",-1) as f:\n",
    "    lines = [line.strip().split(\"\\t\") for line in f]\n",
    "    for i in lines:\n",
    "        try:\n",
    "            AraTFdict[i[0]]\n",
    "            aragene2tf.append([i,AraTFdict[i[0]]])\n",
    "        except KeyError:\n",
    "            continue"
   ]
  },
  {
   "cell_type": "code",
   "execution_count": null,
   "metadata": {
    "collapsed": false
   },
   "outputs": [],
   "source": [
    "aragene2tf"
   ]
  },
  {
   "cell_type": "code",
   "execution_count": null,
   "metadata": {
    "collapsed": true
   },
   "outputs": [],
   "source": [
    "## Exp 4"
   ]
  },
  {
   "cell_type": "code",
   "execution_count": null,
   "metadata": {
    "collapsed": false
   },
   "outputs": [],
   "source": [
    "cd ../AraXMaize_Exp4_MCL/"
   ]
  },
  {
   "cell_type": "code",
   "execution_count": null,
   "metadata": {
    "collapsed": true
   },
   "outputs": [],
   "source": [
    "aragene2tf = []\n",
    "with open(\"AraUniqueGenesExp4.txt\",\"rb\",-1) as f:\n",
    "    lines = [line.strip().split(\"\\t\") for line in f]\n",
    "    for i in lines:\n",
    "        try:\n",
    "            AraTFdict[i[0]]\n",
    "            aragene2tf.append([i,AraTFdict[i[0]]])\n",
    "        except KeyError:\n",
    "            continue"
   ]
  },
  {
   "cell_type": "code",
   "execution_count": null,
   "metadata": {
    "collapsed": false
   },
   "outputs": [],
   "source": [
    "aragene2tf"
   ]
  },
  {
   "cell_type": "code",
   "execution_count": null,
   "metadata": {
    "collapsed": true
   },
   "outputs": [],
   "source": [
    "## Exp 2"
   ]
  },
  {
   "cell_type": "code",
   "execution_count": 6,
   "metadata": {
    "collapsed": false
   },
   "outputs": [
    {
     "name": "stdout",
     "output_type": "stream",
     "text": [
      "C:\\Users\\Greg Hamilton\\Desktop\\Thesis\\ThesisWriting\\CaseStudy2\\ConservedNetworks\\AraXMaize_Exp2_MCL\n"
     ]
    }
   ],
   "source": [
    "cd ../AraXMaize_Exp2_MCL/"
   ]
  },
  {
   "cell_type": "code",
   "execution_count": 9,
   "metadata": {
    "collapsed": false
   },
   "outputs": [],
   "source": [
    "aragene2tf = []\n",
    "with open(\"AraUniqueGenesExp2p05.txt\",\"rb\",-1) as f:\n",
    "    lines = [line.strip().split(\"\\t\") for line in f]\n",
    "    for i in lines:\n",
    "        try:\n",
    "            AraTFdict[i[0]]\n",
    "            aragene2tf.append([i,AraTFdict[i[0]]])\n",
    "        except KeyError:\n",
    "            continue"
   ]
  },
  {
   "cell_type": "code",
   "execution_count": 10,
   "metadata": {
    "collapsed": false
   },
   "outputs": [
    {
     "data": {
      "text/plain": [
       "[[['AT3G46600'], ['GRAS']],\n",
       " [['AT3G60030'], ['SBP']],\n",
       " [['AT4G17230'], ['GRAS']],\n",
       " [['AT3G61150'], ['HD-ZIP']],\n",
       " [['AT3G04070'], ['NAC']],\n",
       " [['AT2G20570'], ['G2-like']],\n",
       " [['AT2G38470'], ['WRKY']],\n",
       " [['AT5G24800'], ['bZIP']],\n",
       " [['AT1G01060'], ['MYB_related']],\n",
       " [['AT1G68520'], ['CO-like']],\n",
       " [['AT1G53910'], ['ERF']]]"
      ]
     },
     "execution_count": 10,
     "metadata": {},
     "output_type": "execute_result"
    }
   ],
   "source": [
    "aragene2tf"
   ]
  },
  {
   "cell_type": "code",
   "execution_count": null,
   "metadata": {
    "collapsed": false
   },
   "outputs": [],
   "source": [
    "for i in aragene2tf:\n",
    "    print i[1]"
   ]
  },
  {
   "cell_type": "code",
   "execution_count": null,
   "metadata": {
    "collapsed": true
   },
   "outputs": [],
   "source": [
    "## Exp 1"
   ]
  },
  {
   "cell_type": "code",
   "execution_count": null,
   "metadata": {
    "collapsed": false
   },
   "outputs": [],
   "source": [
    "cd ../AraXMaize_Exp1_MCL/"
   ]
  },
  {
   "cell_type": "code",
   "execution_count": null,
   "metadata": {
    "collapsed": false
   },
   "outputs": [],
   "source": [
    "aragene2tf = []\n",
    "with open(\"AraUniqueGenesExp1.txt\",\"rb\",-1) as f:\n",
    "    lines = [line.strip().split(\"\\t\") for line in f]\n",
    "    for i in lines:\n",
    "        try:\n",
    "            AraTFdict[i[0]]\n",
    "            aragene2tf.append([i,AraTFdict[i[0]]])\n",
    "        except KeyError:\n",
    "            continue"
   ]
  },
  {
   "cell_type": "code",
   "execution_count": null,
   "metadata": {
    "collapsed": false
   },
   "outputs": [],
   "source": [
    "aragene2tf"
   ]
  },
  {
   "cell_type": "code",
   "execution_count": null,
   "metadata": {
    "collapsed": false
   },
   "outputs": [],
   "source": [
    "for i in aragene2tf:\n",
    "    print i[1]"
   ]
  },
  {
   "cell_type": "code",
   "execution_count": null,
   "metadata": {
    "collapsed": true
   },
   "outputs": [],
   "source": []
  },
  {
   "cell_type": "code",
   "execution_count": 3,
   "metadata": {
    "collapsed": true
   },
   "outputs": [],
   "source": [
    "################## Case Study 3 ##################3\n",
    "# Ara X Rice \n",
    "#################################################"
   ]
  },
  {
   "cell_type": "code",
   "execution_count": 4,
   "metadata": {
    "collapsed": false
   },
   "outputs": [
    {
     "name": "stdout",
     "output_type": "stream",
     "text": [
      "C:\\Users\\Greg Hamilton\\Desktop\\Thesis\\ThesisWriting\\CaseStudy3\\ConservedNetwork\\RiceXAra\n"
     ]
    }
   ],
   "source": [
    "cd ../CaseStudy3/ConservedNetwork/RiceXAra/"
   ]
  },
  {
   "cell_type": "code",
   "execution_count": 5,
   "metadata": {
    "collapsed": true
   },
   "outputs": [],
   "source": [
    "aragene2tf = []\n",
    "with open(\"AraXriceUniGenes.txt\",\"rb\",-1) as f:\n",
    "    lines = [line.strip().split(\"\\t\") for line in f]\n",
    "    for i in lines:\n",
    "        try:\n",
    "            AraTFdict[i[0]]\n",
    "            aragene2tf.append([i,AraTFdict[i[0]]])\n",
    "        except KeyError:\n",
    "            continue"
   ]
  },
  {
   "cell_type": "code",
   "execution_count": 6,
   "metadata": {
    "collapsed": false
   },
   "outputs": [
    {
     "data": {
      "text/plain": [
       "[[['AT4G18170'], ['WRKY']]]"
      ]
     },
     "execution_count": 6,
     "metadata": {},
     "output_type": "execute_result"
    }
   ],
   "source": [
    "aragene2tf"
   ]
  },
  {
   "cell_type": "code",
   "execution_count": 8,
   "metadata": {
    "collapsed": false
   },
   "outputs": [],
   "source": [
    "ricegene2tf = []\n",
    "with open(\"RiceGenesUnion.txt\",\"rb\",-1) as f:\n",
    "    lines = [line.strip().split(\"\\t\") for line in f]\n",
    "    for i in lines:\n",
    "        try:\n",
    "            RiceTFdict[i[0]]\n",
    "            ricegene2tf.append([i,RiceTFdict[i[0]]])\n",
    "        except KeyError:\n",
    "            continue"
   ]
  },
  {
   "cell_type": "code",
   "execution_count": 9,
   "metadata": {
    "collapsed": false
   },
   "outputs": [
    {
     "data": {
      "text/plain": [
       "[[['LOC_OS01G43650'], ['WRKY']]]"
      ]
     },
     "execution_count": 9,
     "metadata": {},
     "output_type": "execute_result"
    }
   ],
   "source": [
    "ricegene2tf"
   ]
  },
  {
   "cell_type": "code",
   "execution_count": 17,
   "metadata": {
    "collapsed": true
   },
   "outputs": [],
   "source": [
    "### Ara X Maize"
   ]
  },
  {
   "cell_type": "code",
   "execution_count": 18,
   "metadata": {
    "collapsed": false
   },
   "outputs": [
    {
     "name": "stdout",
     "output_type": "stream",
     "text": [
      "C:\\Users\\Greg Hamilton\\Desktop\\Thesis\\ThesisWriting\\CaseStudy3\\ConservedNetwork\\MaizeXAra\n"
     ]
    }
   ],
   "source": [
    "cd ../MaizeXAra/"
   ]
  },
  {
   "cell_type": "code",
   "execution_count": 14,
   "metadata": {
    "collapsed": true
   },
   "outputs": [],
   "source": [
    "## Exp1 - Ara"
   ]
  },
  {
   "cell_type": "code",
   "execution_count": 19,
   "metadata": {
    "collapsed": false
   },
   "outputs": [
    {
     "data": {
      "text/plain": [
       "[[['AT3G61850'], ['Dof']],\n",
       " [['AT4G37180'], ['G2-like']],\n",
       " [['AT3G53340'], ['NF-YB']],\n",
       " [['AT3G56400'], ['WRKY']],\n",
       " [['AT2G46270'], ['bZIP']],\n",
       " [['AT1G76350'], ['Nin-like']],\n",
       " [['AT5G37260'], ['MYB_related']],\n",
       " [['AT3G16350'], ['MYB_related']],\n",
       " [['AT2G31380'], ['DBB']],\n",
       " [['AT2G21320'], ['DBB']],\n",
       " [['AT1G19510'], ['MYB_related']],\n",
       " [['AT5G10030'], ['bZIP']],\n",
       " [['AT3G02380'], ['CO-like']],\n",
       " [['AT2G20570'], ['G2-like']],\n",
       " [['AT3G05690'], ['NF-YA']],\n",
       " [['AT5G26880'], ['M-type']],\n",
       " [['AT5G13080'], ['WRKY']],\n",
       " [['AT5G65210'], ['bZIP']],\n",
       " [['AT3G12130'], ['C3H']],\n",
       " [['AT5G15850'], ['CO-like']],\n",
       " [['AT1G20640'], ['Nin-like']]]"
      ]
     },
     "execution_count": 19,
     "metadata": {},
     "output_type": "execute_result"
    }
   ],
   "source": [
    "aragene2tf = []\n",
    "with open(\"Ara_MaizeExp1_UnionGenes.txt\",\"rb\",-1) as f:\n",
    "    lines = [line.strip().split(\"\\t\") for line in f]\n",
    "    for i in lines:\n",
    "        try:\n",
    "            AraTFdict[i[0]]\n",
    "            aragene2tf.append([i,AraTFdict[i[0]]])\n",
    "        except KeyError:\n",
    "            continue\n",
    "aragene2tf"
   ]
  },
  {
   "cell_type": "code",
   "execution_count": 20,
   "metadata": {
    "collapsed": false
   },
   "outputs": [
    {
     "name": "stdout",
     "output_type": "stream",
     "text": [
      "['AT3G61850']\n",
      "['AT4G37180']\n",
      "['AT3G53340']\n",
      "['AT3G56400']\n",
      "['AT2G46270']\n",
      "['AT1G76350']\n",
      "['AT5G37260']\n",
      "['AT3G16350']\n",
      "['AT2G31380']\n",
      "['AT2G21320']\n",
      "['AT1G19510']\n",
      "['AT5G10030']\n",
      "['AT3G02380']\n",
      "['AT2G20570']\n",
      "['AT3G05690']\n",
      "['AT5G26880']\n",
      "['AT5G13080']\n",
      "['AT5G65210']\n",
      "['AT3G12130']\n",
      "['AT5G15850']\n",
      "['AT1G20640']\n"
     ]
    }
   ],
   "source": [
    "for i in aragene2tf:\n",
    "    print i[0]"
   ]
  },
  {
   "cell_type": "code",
   "execution_count": 21,
   "metadata": {
    "collapsed": false
   },
   "outputs": [
    {
     "name": "stdout",
     "output_type": "stream",
     "text": [
      "['Dof']\n",
      "['G2-like']\n",
      "['NF-YB']\n",
      "['WRKY']\n",
      "['bZIP']\n",
      "['Nin-like']\n",
      "['MYB_related']\n",
      "['MYB_related']\n",
      "['DBB']\n",
      "['DBB']\n",
      "['MYB_related']\n",
      "['bZIP']\n",
      "['CO-like']\n",
      "['G2-like']\n",
      "['NF-YA']\n",
      "['M-type']\n",
      "['WRKY']\n",
      "['bZIP']\n",
      "['C3H']\n",
      "['CO-like']\n",
      "['Nin-like']\n"
     ]
    }
   ],
   "source": [
    "for i in aragene2tf:\n",
    "    print i[1]"
   ]
  },
  {
   "cell_type": "code",
   "execution_count": 15,
   "metadata": {
    "collapsed": true
   },
   "outputs": [],
   "source": [
    "## Exp2 - Ara"
   ]
  },
  {
   "cell_type": "code",
   "execution_count": 22,
   "metadata": {
    "collapsed": false
   },
   "outputs": [
    {
     "name": "stdout",
     "output_type": "stream",
     "text": [
      "['AT3G61850']\n",
      "['AT1G49010']\n",
      "['AT4G37180']\n",
      "['AT3G53340']\n",
      "['AT3G56400']\n",
      "['AT2G46270']\n",
      "['AT1G76350']\n",
      "['AT1G73410']\n",
      "['AT5G37260']\n",
      "['AT3G16350']\n",
      "['AT2G31380']\n",
      "['AT2G21320']\n",
      "['AT1G19510']\n",
      "['AT5G10030']\n",
      "['AT3G02380']\n",
      "['AT2G20570']\n",
      "['AT5G13080']\n",
      "['AT5G65210']\n",
      "['AT3G12130']\n",
      "['AT5G15850']\n",
      "['AT1G20640']\n"
     ]
    }
   ],
   "source": [
    "aragene2tf = []\n",
    "with open(\"Ara_MaizeExp2_UnionGenes.txt\",\"rb\",-1) as f:\n",
    "    lines = [line.strip().split(\"\\t\") for line in f]\n",
    "    for i in lines:\n",
    "        try:\n",
    "            AraTFdict[i[0]]\n",
    "            aragene2tf.append([i,AraTFdict[i[0]]])\n",
    "        except KeyError:\n",
    "            continue\n",
    "for i in aragene2tf:\n",
    "    print i[0]"
   ]
  },
  {
   "cell_type": "code",
   "execution_count": 23,
   "metadata": {
    "collapsed": false
   },
   "outputs": [
    {
     "name": "stdout",
     "output_type": "stream",
     "text": [
      "['Dof']\n",
      "['MYB']\n",
      "['G2-like']\n",
      "['NF-YB']\n",
      "['WRKY']\n",
      "['bZIP']\n",
      "['Nin-like']\n",
      "['MYB']\n",
      "['MYB_related']\n",
      "['MYB_related']\n",
      "['DBB']\n",
      "['DBB']\n",
      "['MYB_related']\n",
      "['bZIP']\n",
      "['CO-like']\n",
      "['G2-like']\n",
      "['WRKY']\n",
      "['bZIP']\n",
      "['C3H']\n",
      "['CO-like']\n",
      "['Nin-like']\n"
     ]
    }
   ],
   "source": [
    "for i in aragene2tf:\n",
    "    print i[1]"
   ]
  },
  {
   "cell_type": "code",
   "execution_count": null,
   "metadata": {
    "collapsed": true
   },
   "outputs": [],
   "source": []
  },
  {
   "cell_type": "code",
   "execution_count": 16,
   "metadata": {
    "collapsed": true
   },
   "outputs": [],
   "source": [
    "## Exp4 - Ara"
   ]
  },
  {
   "cell_type": "code",
   "execution_count": 24,
   "metadata": {
    "collapsed": false
   },
   "outputs": [
    {
     "name": "stdout",
     "output_type": "stream",
     "text": [
      "['AT3G12130']\n",
      "['AT1G19510']\n",
      "['AT5G13080']\n",
      "['AT4G37180']\n"
     ]
    }
   ],
   "source": [
    "aragene2tf = []\n",
    "with open(\"Ara_MaizeExp4_UnionGenes.txt\",\"rb\",-1) as f:\n",
    "    lines = [line.strip().split(\"\\t\") for line in f]\n",
    "    for i in lines:\n",
    "        try:\n",
    "            AraTFdict[i[0]]\n",
    "            aragene2tf.append([i,AraTFdict[i[0]]])\n",
    "        except KeyError:\n",
    "            continue\n",
    "for i in aragene2tf:\n",
    "    print i[0]"
   ]
  },
  {
   "cell_type": "code",
   "execution_count": null,
   "metadata": {
    "collapsed": true
   },
   "outputs": [],
   "source": []
  },
  {
   "cell_type": "code",
   "execution_count": 25,
   "metadata": {
    "collapsed": false
   },
   "outputs": [
    {
     "name": "stdout",
     "output_type": "stream",
     "text": [
      "['C3H']\n",
      "['MYB_related']\n",
      "['WRKY']\n",
      "['G2-like']\n"
     ]
    }
   ],
   "source": [
    "for i in aragene2tf:\n",
    "    print i[1]"
   ]
  },
  {
   "cell_type": "code",
   "execution_count": null,
   "metadata": {
    "collapsed": true
   },
   "outputs": [],
   "source": []
  },
  {
   "cell_type": "code",
   "execution_count": null,
   "metadata": {
    "collapsed": true
   },
   "outputs": [],
   "source": []
  },
  {
   "cell_type": "code",
   "execution_count": null,
   "metadata": {
    "collapsed": true
   },
   "outputs": [],
   "source": []
  },
  {
   "cell_type": "code",
   "execution_count": 13,
   "metadata": {
    "collapsed": true
   },
   "outputs": [],
   "source": [
    "## Exp5 - Ara"
   ]
  },
  {
   "cell_type": "code",
   "execution_count": 26,
   "metadata": {
    "collapsed": false
   },
   "outputs": [
    {
     "name": "stdout",
     "output_type": "stream",
     "text": [
      "['AT2G46870']\n"
     ]
    }
   ],
   "source": [
    "aragene2tf = []\n",
    "with open(\"Ara_MaizeExp5_UnionGenes.txt\",\"rb\",-1) as f:\n",
    "    lines = [line.strip().split(\"\\t\") for line in f]\n",
    "    for i in lines:\n",
    "        try:\n",
    "            AraTFdict[i[0]]\n",
    "            aragene2tf.append([i,AraTFdict[i[0]]])\n",
    "        except KeyError:\n",
    "            continue\n",
    "for i in aragene2tf:\n",
    "    print i[0]"
   ]
  },
  {
   "cell_type": "code",
   "execution_count": 27,
   "metadata": {
    "collapsed": false
   },
   "outputs": [
    {
     "name": "stdout",
     "output_type": "stream",
     "text": [
      "['B3']\n"
     ]
    }
   ],
   "source": [
    "for i in aragene2tf:\n",
    "    print i[1]"
   ]
  },
  {
   "cell_type": "code",
   "execution_count": null,
   "metadata": {
    "collapsed": true
   },
   "outputs": [],
   "source": [
    "### Ara X Maize"
   ]
  },
  {
   "cell_type": "code",
   "execution_count": 30,
   "metadata": {
    "collapsed": false
   },
   "outputs": [
    {
     "name": "stdout",
     "output_type": "stream",
     "text": [
      "C:\\Users\\Greg Hamilton\\Desktop\\Thesis\\ThesisWriting\\CaseStudy3\\ConservedNetwork\\RIceXMaize\n"
     ]
    }
   ],
   "source": [
    "cd ../RIceXMaize/"
   ]
  },
  {
   "cell_type": "code",
   "execution_count": null,
   "metadata": {
    "collapsed": true
   },
   "outputs": [],
   "source": [
    "# Exp1"
   ]
  },
  {
   "cell_type": "code",
   "execution_count": 32,
   "metadata": {
    "collapsed": false
   },
   "outputs": [
    {
     "name": "stdout",
     "output_type": "stream",
     "text": [
      "['LOC_OS07G02800']\n",
      "['LOC_OS04G56990']\n",
      "['LOC_OS09G26420']\n",
      "['LOC_OS02G06910']\n",
      "['LOC_OS03G55590']\n",
      "['LOC_OS03G41330']\n",
      "['LOC_OS05G38140']\n",
      "['LOC_OS03G04310']\n",
      "['LOC_OS11G47870']\n"
     ]
    }
   ],
   "source": [
    "ricegene2tf = []\n",
    "with open(\"Rice_MaizeExp1_UnionGenes.txt\",\"rb\",-1) as f:\n",
    "    lines = [line.strip().split(\"\\t\") for line in f]\n",
    "    for i in lines:\n",
    "        try:\n",
    "            RiceTFdict[i[0]]\n",
    "            ricegene2tf.append([i,RiceTFdict[i[0]]])\n",
    "        except KeyError:\n",
    "            continue\n",
    "for i in ricegene2tf:\n",
    "    print i[0]"
   ]
  },
  {
   "cell_type": "code",
   "execution_count": 33,
   "metadata": {
    "collapsed": false
   },
   "outputs": [
    {
     "name": "stdout",
     "output_type": "stream",
     "text": [
      "['G2-like']\n",
      "['G2-like']\n",
      "['ERF']\n",
      "['ARF']\n",
      "['G2-like']\n",
      "['LBD']\n",
      "['bHLH']\n",
      "['bHLH']\n",
      "['GRAS']\n"
     ]
    }
   ],
   "source": [
    "for i in ricegene2tf:\n",
    "    print i[1]"
   ]
  },
  {
   "cell_type": "code",
   "execution_count": null,
   "metadata": {
    "collapsed": true
   },
   "outputs": [],
   "source": [
    "# Exp2"
   ]
  },
  {
   "cell_type": "code",
   "execution_count": 34,
   "metadata": {
    "collapsed": false
   },
   "outputs": [
    {
     "name": "stdout",
     "output_type": "stream",
     "text": [
      "['LOC_OS07G02800']\n",
      "['LOC_OS09G26420']\n",
      "['LOC_OS03G55590']\n",
      "['LOC_OS01G34060']\n",
      "['LOC_OS03G41330']\n",
      "['LOC_OS05G38140']\n",
      "['LOC_OS11G47870']\n"
     ]
    }
   ],
   "source": [
    "ricegene2tf = []\n",
    "with open(\"Rice_MaizeExp2_UnionGenes.txt\",\"rb\",-1) as f:\n",
    "    lines = [line.strip().split(\"\\t\") for line in f]\n",
    "    for i in lines:\n",
    "        try:\n",
    "            RiceTFdict[i[0]]\n",
    "            ricegene2tf.append([i,RiceTFdict[i[0]]])\n",
    "        except KeyError:\n",
    "            continue\n",
    "for i in ricegene2tf:\n",
    "    print i[0]"
   ]
  },
  {
   "cell_type": "code",
   "execution_count": 35,
   "metadata": {
    "collapsed": false
   },
   "outputs": [
    {
     "name": "stdout",
     "output_type": "stream",
     "text": [
      "['G2-like']\n",
      "['ERF']\n",
      "['G2-like']\n",
      "['MYB_related']\n",
      "['LBD']\n",
      "['bHLH']\n",
      "['GRAS']\n"
     ]
    }
   ],
   "source": [
    "for i in ricegene2tf:\n",
    "    print i[1]"
   ]
  },
  {
   "cell_type": "code",
   "execution_count": null,
   "metadata": {
    "collapsed": true
   },
   "outputs": [],
   "source": []
  },
  {
   "cell_type": "code",
   "execution_count": 28,
   "metadata": {
    "collapsed": true
   },
   "outputs": [],
   "source": [
    "# Exp4"
   ]
  },
  {
   "cell_type": "code",
   "execution_count": 36,
   "metadata": {
    "collapsed": false
   },
   "outputs": [
    {
     "name": "stdout",
     "output_type": "stream",
     "text": [
      "['LOC_OS03G41330']\n",
      "['LOC_OS07G02800']\n",
      "['LOC_OS03G55590']\n"
     ]
    }
   ],
   "source": [
    "ricegene2tf = []\n",
    "with open(\"Rice_MaizeExp4_UnionGenes.txt\",\"rb\",-1) as f:\n",
    "    lines = [line.strip().split(\"\\t\") for line in f]\n",
    "    for i in lines:\n",
    "        try:\n",
    "            RiceTFdict[i[0]]\n",
    "            ricegene2tf.append([i,RiceTFdict[i[0]]])\n",
    "        except KeyError:\n",
    "            continue\n",
    "for i in ricegene2tf:\n",
    "    print i[0]"
   ]
  },
  {
   "cell_type": "code",
   "execution_count": 37,
   "metadata": {
    "collapsed": false
   },
   "outputs": [
    {
     "name": "stdout",
     "output_type": "stream",
     "text": [
      "['LBD']\n",
      "['G2-like']\n",
      "['G2-like']\n"
     ]
    }
   ],
   "source": [
    "for i in ricegene2tf:\n",
    "    print i[1]"
   ]
  },
  {
   "cell_type": "code",
   "execution_count": 29,
   "metadata": {
    "collapsed": true
   },
   "outputs": [],
   "source": [
    "# Exp5"
   ]
  },
  {
   "cell_type": "code",
   "execution_count": 38,
   "metadata": {
    "collapsed": false
   },
   "outputs": [
    {
     "name": "stdout",
     "output_type": "stream",
     "text": [
      "['LOC_OS11G47870']\n",
      "['LOC_OS04G56990']\n",
      "['LOC_OS02G06910']\n"
     ]
    }
   ],
   "source": [
    "ricegene2tf = []\n",
    "with open(\"Rice_MaizeExp5_UnionGenes.txt\",\"rb\",-1) as f:\n",
    "    lines = [line.strip().split(\"\\t\") for line in f]\n",
    "    for i in lines:\n",
    "        try:\n",
    "            RiceTFdict[i[0]]\n",
    "            ricegene2tf.append([i,RiceTFdict[i[0]]])\n",
    "        except KeyError:\n",
    "            continue\n",
    "for i in ricegene2tf:\n",
    "    print i[0]"
   ]
  },
  {
   "cell_type": "code",
   "execution_count": 39,
   "metadata": {
    "collapsed": false
   },
   "outputs": [
    {
     "name": "stdout",
     "output_type": "stream",
     "text": [
      "['GRAS']\n",
      "['G2-like']\n",
      "['ARF']\n"
     ]
    }
   ],
   "source": [
    "for i in ricegene2tf:\n",
    "    print i[1]"
   ]
  },
  {
   "cell_type": "code",
   "execution_count": 5,
   "metadata": {
    "collapsed": false
   },
   "outputs": [
    {
     "name": "stdout",
     "output_type": "stream",
     "text": [
      "C:\\Users\\Greg Hamilton\\Desktop\\Thesis\\ThesisWriting\\CaseStudy3\\ConservedNetwork\n"
     ]
    }
   ],
   "source": [
    "cd ../CaseStudy3/ConservedNetwork/"
   ]
  },
  {
   "cell_type": "code",
   "execution_count": 7,
   "metadata": {
    "collapsed": false
   },
   "outputs": [
    {
     "name": "stdout",
     "output_type": "stream",
     "text": [
      "C:\\Users\\Greg Hamilton\\Desktop\\Thesis\\ThesisWriting\\CaseStudy3\\ConservedNetwork\\IntersectNets\n"
     ]
    }
   ],
   "source": [
    "cd IntersectNets/"
   ]
  },
  {
   "cell_type": "code",
   "execution_count": null,
   "metadata": {
    "collapsed": true
   },
   "outputs": [],
   "source": [
    "#### Ara Intersect"
   ]
  },
  {
   "cell_type": "code",
   "execution_count": 10,
   "metadata": {
    "collapsed": false
   },
   "outputs": [
    {
     "name": "stdout",
     "output_type": "stream",
     "text": [
      "C:\\Users\\Greg Hamilton\\Desktop\\Thesis\\ThesisWriting\\CaseStudy3\\ConservedNetwork\\IntersectGeneLists\\Ara\n"
     ]
    }
   ],
   "source": [
    "cd ../../IntersectGeneLists/Ara/"
   ]
  },
  {
   "cell_type": "code",
   "execution_count": 11,
   "metadata": {
    "collapsed": false
   },
   "outputs": [],
   "source": [
    "aragene2tf = []\n",
    "with open(\"Ara_MaizeExp2_RiceGenes.txt\",\"rb\",-1) as f:\n",
    "    lines = [line.strip().split(\"\\t\") for line in f]\n",
    "    for i in lines:\n",
    "        try:\n",
    "            AraTFdict[i[0]]\n",
    "            aragene2tf.append([i,AraTFdict[i[0]]])\n",
    "        except KeyError:\n",
    "            continue\n",
    "for i in aragene2tf:\n",
    "    print i[0]"
   ]
  },
  {
   "cell_type": "code",
   "execution_count": 12,
   "metadata": {
    "collapsed": true
   },
   "outputs": [],
   "source": [
    "aragene2tf = []\n",
    "with open(\"Ara_MaizeExp4_RiceGenes.txt\",\"rb\",-1) as f:\n",
    "    lines = [line.strip().split(\"\\t\") for line in f]\n",
    "    for i in lines:\n",
    "        try:\n",
    "            AraTFdict[i[0]]\n",
    "            aragene2tf.append([i,AraTFdict[i[0]]])\n",
    "        except KeyError:\n",
    "            continue\n",
    "for i in aragene2tf:\n",
    "    print i[0]"
   ]
  },
  {
   "cell_type": "code",
   "execution_count": 13,
   "metadata": {
    "collapsed": true
   },
   "outputs": [],
   "source": [
    "aragene2tf = []\n",
    "with open(\"Ara_MaizeExp5_RiceGenes.txt\",\"rb\",-1) as f:\n",
    "    lines = [line.strip().split(\"\\t\") for line in f]\n",
    "    for i in lines:\n",
    "        try:\n",
    "            AraTFdict[i[0]]\n",
    "            aragene2tf.append([i,AraTFdict[i[0]]])\n",
    "        except KeyError:\n",
    "            continue\n",
    "for i in aragene2tf:\n",
    "    print i[0]"
   ]
  },
  {
   "cell_type": "code",
   "execution_count": 40,
   "metadata": {
    "collapsed": true
   },
   "outputs": [],
   "source": [
    "##### Rice Intersect"
   ]
  },
  {
   "cell_type": "code",
   "execution_count": 15,
   "metadata": {
    "collapsed": false
   },
   "outputs": [
    {
     "name": "stdout",
     "output_type": "stream",
     "text": [
      "C:\\Users\\Greg Hamilton\\Desktop\\Thesis\\ThesisWriting\\CaseStudy3\\ConservedNetwork\\IntersectGeneLists\\Rice\n"
     ]
    }
   ],
   "source": [
    "cd ../Rice/"
   ]
  },
  {
   "cell_type": "code",
   "execution_count": 16,
   "metadata": {
    "collapsed": false
   },
   "outputs": [],
   "source": [
    "ricegene2tf = []\n",
    "with open(\"Rice_MaizeExp2_Ara_Genes.txt\",\"rb\",-1) as f:\n",
    "    lines = [line.strip().split(\"\\t\") for line in f]\n",
    "    for i in lines:\n",
    "        try:\n",
    "            RiceTFdict[i[0]]\n",
    "            ricegene2tf.append([i,RiceTFdict[i[0]]])\n",
    "        except KeyError:\n",
    "            continue\n",
    "for i in ricegene2tf:\n",
    "    print i[0]"
   ]
  },
  {
   "cell_type": "code",
   "execution_count": 17,
   "metadata": {
    "collapsed": true
   },
   "outputs": [],
   "source": [
    "ricegene2tf = []\n",
    "with open(\"Rice_MaizeExp4_Ara_Genes.txt\",\"rb\",-1) as f:\n",
    "    lines = [line.strip().split(\"\\t\") for line in f]\n",
    "    for i in lines:\n",
    "        try:\n",
    "            RiceTFdict[i[0]]\n",
    "            ricegene2tf.append([i,RiceTFdict[i[0]]])\n",
    "        except KeyError:\n",
    "            continue\n",
    "for i in ricegene2tf:\n",
    "    print i[0]"
   ]
  },
  {
   "cell_type": "code",
   "execution_count": 18,
   "metadata": {
    "collapsed": true
   },
   "outputs": [],
   "source": [
    "ricegene2tf = []\n",
    "with open(\"Rice_MaizeExp5_Ara_Genes.txt\",\"rb\",-1) as f:\n",
    "    lines = [line.strip().split(\"\\t\") for line in f]\n",
    "    for i in lines:\n",
    "        try:\n",
    "            RiceTFdict[i[0]]\n",
    "            ricegene2tf.append([i,RiceTFdict[i[0]]])\n",
    "        except KeyError:\n",
    "            continue\n",
    "for i in ricegene2tf:\n",
    "    print i[0]"
   ]
  },
  {
   "cell_type": "code",
   "execution_count": 43,
   "metadata": {
    "collapsed": true
   },
   "outputs": [],
   "source": [
    "for i in ricegene2tf:\n",
    "    print i[1]"
   ]
  },
  {
   "cell_type": "code",
   "execution_count": null,
   "metadata": {
    "collapsed": true
   },
   "outputs": [],
   "source": []
  },
  {
   "cell_type": "code",
   "execution_count": null,
   "metadata": {
    "collapsed": true
   },
   "outputs": [],
   "source": []
  }
 ],
 "metadata": {
  "kernelspec": {
   "display_name": "Python 2",
   "language": "python",
   "name": "python2"
  },
  "language_info": {
   "codemirror_mode": {
    "name": "ipython",
    "version": 2
   },
   "file_extension": ".py",
   "mimetype": "text/x-python",
   "name": "python",
   "nbconvert_exporter": "python",
   "pygments_lexer": "ipython2",
   "version": "2.7.11"
  }
 },
 "nbformat": 4,
 "nbformat_minor": 0
}
