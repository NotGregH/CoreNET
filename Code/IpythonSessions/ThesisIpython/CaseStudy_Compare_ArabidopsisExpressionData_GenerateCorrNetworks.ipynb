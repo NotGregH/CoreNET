{
 "cells": [
  {
   "cell_type": "code",
   "execution_count": 1,
   "metadata": {
    "collapsed": false
   },
   "outputs": [
    {
     "name": "stdout",
     "output_type": "stream",
     "text": [
      "C:\\Users\\Greg Hamilton\\Desktop\\Thesis\\ThesisWriting\\SupplementaryFiles\\Code\\NetworkTools2.0\n"
     ]
    }
   ],
   "source": [
    "cd ../Code/NetworkTools2.0/"
   ]
  },
  {
   "cell_type": "code",
   "execution_count": 2,
   "metadata": {
    "collapsed": true
   },
   "outputs": [],
   "source": [
    "from Network_Correlation import correlation,run_corr, pearson_corr, format_expression_data, saveSif"
   ]
  },
  {
   "cell_type": "code",
   "execution_count": 3,
   "metadata": {
    "collapsed": true
   },
   "outputs": [],
   "source": [
    "def saveGeneList(geneList,outfile,title):\n",
    "    from csv import writer \n",
    "    with open(outfile, \"wb\",-1) as o:\n",
    "        write = writer(o, delimiter=\"\\t\")\n",
    "        write.writerow([title])\n",
    "        for i in geneList:\n",
    "            write.writerow([i])\n",
    "    o.close()\n",
    "    return"
   ]
  },
  {
   "cell_type": "code",
   "execution_count": 4,
   "metadata": {
    "collapsed": false
   },
   "outputs": [
    {
     "name": "stdout",
     "output_type": "stream",
     "text": [
      "C:\\Users\\Greg Hamilton\\Desktop\\Thesis\\ThesisWriting\\CaseStudy3\n"
     ]
    }
   ],
   "source": [
    "cd ../../../CaseStudy3/"
   ]
  },
  {
   "cell_type": "code",
   "execution_count": 5,
   "metadata": {
    "collapsed": false
   },
   "outputs": [
    {
     "name": "stdout",
     "output_type": "stream",
     "text": [
      "C:\\Users\\Greg Hamilton\\Desktop\\Thesis\\ThesisWriting\\CaseStudy3\\ArabData\n"
     ]
    }
   ],
   "source": [
    "cd ArabData/"
   ]
  },
  {
   "cell_type": "code",
   "execution_count": 6,
   "metadata": {
    "collapsed": false
   },
   "outputs": [
    {
     "name": "stdout",
     "output_type": "stream",
     "text": [
      " Volume in drive C has no label.\n",
      " Volume Serial Number is 3656-8D3F\n",
      "\n",
      " Directory of C:\\Users\\Greg Hamilton\\Desktop\\Thesis\\ThesisWriting\\CaseStudy3\\ArabData\n",
      "\n",
      "05/02/2016  12:41 PM    <DIR>          .\n",
      "05/02/2016  12:41 PM    <DIR>          ..\n",
      "04/04/2016  07:07 PM        10,211,328 ArabCross.sqlite\n",
      "05/02/2016  12:09 PM    <DIR>          MSX\n",
      "05/02/2016  12:08 PM    <DIR>          Orbetello et al\n",
      "               1 File(s)     10,211,328 bytes\n",
      "               4 Dir(s)  85,856,903,168 bytes free\n"
     ]
    }
   ],
   "source": [
    "ls"
   ]
  },
  {
   "cell_type": "code",
   "execution_count": 12,
   "metadata": {
    "collapsed": false
   },
   "outputs": [
    {
     "name": "stdout",
     "output_type": "stream",
     "text": [
      "C:\\Users\\Greg Hamilton\\Desktop\\Thesis\\ThesisWriting\\CaseStudy3\\ArabData\\MSX\n"
     ]
    }
   ],
   "source": [
    "cd MSX"
   ]
  },
  {
   "cell_type": "code",
   "execution_count": 13,
   "metadata": {
    "collapsed": false
   },
   "outputs": [
    {
     "name": "stdout",
     "output_type": "stream",
     "text": [
      " Volume in drive C has no label.\n",
      " Volume Serial Number is 3656-8D3F\n",
      "\n",
      " Directory of C:\\Users\\Greg Hamilton\\Desktop\\Thesis\\ThesisWriting\\CaseStudy3\\ArabData\\MSX\n",
      "\n",
      "05/02/2016  01:08 PM    <DIR>          .\n",
      "05/02/2016  01:08 PM    <DIR>          ..\n",
      "05/02/2016  12:26 AM           119,316 filteredgenes_NormExpMas5.tab\n",
      "05/02/2016  12:17 AM           630,703 genes_NormExpMas5.tab\n",
      "03/10/2016  04:13 PM             8,660 MSX_probe2genelist.txt\n",
      "05/02/2016  01:08 PM             8,979 MSXSigGenes.txt\n",
      "04/13/2016  03:00 PM           124,367 Probe2GenesArab.txt\n",
      "               5 File(s)        892,025 bytes\n",
      "               2 Dir(s)  85,771,550,720 bytes free\n"
     ]
    }
   ],
   "source": [
    "ls"
   ]
  },
  {
   "cell_type": "code",
   "execution_count": 14,
   "metadata": {
    "collapsed": false
   },
   "outputs": [],
   "source": [
    "MSX_SigGenes = [] \n",
    "with open(\"filteredgenes_NormExpMas5.tab\",\"rb\",-1) as f:\n",
    "    MSX_SigGenes = [line.strip().split(\"\\t\")[0] for line in f][1:]\n",
    "\n",
    "saveGeneList(MSX_SigGenes,\"MSXSigGenes.txt\",\">MSXSigGenes\")"
   ]
  },
  {
   "cell_type": "code",
   "execution_count": 15,
   "metadata": {
    "collapsed": false
   },
   "outputs": [
    {
     "data": {
      "text/plain": [
       "815"
      ]
     },
     "execution_count": 15,
     "metadata": {},
     "output_type": "execute_result"
    }
   ],
   "source": [
    "len(MSX_SigGenes)"
   ]
  },
  {
   "cell_type": "code",
   "execution_count": 16,
   "metadata": {
    "collapsed": false
   },
   "outputs": [
    {
     "name": "stdout",
     "output_type": "stream",
     "text": [
      "C:\\Users\\Greg Hamilton\\Desktop\\Thesis\\ThesisWriting\\CaseStudy3\\ArabData\n"
     ]
    }
   ],
   "source": [
    "cd ../"
   ]
  },
  {
   "cell_type": "code",
   "execution_count": 17,
   "metadata": {
    "collapsed": false
   },
   "outputs": [
    {
     "name": "stdout",
     "output_type": "stream",
     "text": [
      "C:\\Users\\Greg Hamilton\\Desktop\\Thesis\\ThesisWriting\\CaseStudy3\\ArabData\\Orbetello\n"
     ]
    }
   ],
   "source": [
    "cd Orbetello/"
   ]
  },
  {
   "cell_type": "code",
   "execution_count": 18,
   "metadata": {
    "collapsed": false
   },
   "outputs": [],
   "source": [
    "Orbetello_SigGenes = [] \n",
    "with open(\"ArabidopsisonlyNetwork_1417.txt\",\"rb\",-1) as f:\n",
    "    Orbetello_SigGenes = [line.strip().split(\"\\t\")[0].upper() for line in f][1:]\n",
    "\n",
    "saveGeneList(Orbetello_SigGenes,\"OrbetelloSigGenes.txt\",\">OrbetelloSigGenes\")"
   ]
  },
  {
   "cell_type": "code",
   "execution_count": 19,
   "metadata": {
    "collapsed": false
   },
   "outputs": [],
   "source": [
    "uniGenesOrbetello = []\n",
    "uniGenesMSX = []\n",
    "intersectGenes = []\n",
    "for i in MSX_SigGenes:\n",
    "    if i not in Orbetello_SigGenes:\n",
    "        uniGenesMSX.append(i)\n",
    "    if i in Orbetello_SigGenes:\n",
    "        intersectGenes.append(i)\n",
    "for i in Orbetello_SigGenes:\n",
    "    if i not in MSX_SigGenes:\n",
    "        uniGenesOrbetello.append(i)\n",
    "    if i in MSX_SigGenes:\n",
    "        intersectGenes.append(i)\n",
    "intersectGenes = list(set(intersectGenes))"
   ]
  },
  {
   "cell_type": "code",
   "execution_count": 20,
   "metadata": {
    "collapsed": false
   },
   "outputs": [
    {
     "data": {
      "text/plain": [
       "94"
      ]
     },
     "execution_count": 20,
     "metadata": {},
     "output_type": "execute_result"
    }
   ],
   "source": [
    "len(intersectGenes) ### only 94 overlap explaining eariler results"
   ]
  },
  {
   "cell_type": "code",
   "execution_count": 21,
   "metadata": {
    "collapsed": false
   },
   "outputs": [
    {
     "data": {
      "text/plain": [
       "721"
      ]
     },
     "execution_count": 21,
     "metadata": {},
     "output_type": "execute_result"
    }
   ],
   "source": [
    "len(uniGenesMSX)"
   ]
  },
  {
   "cell_type": "code",
   "execution_count": 22,
   "metadata": {
    "collapsed": true
   },
   "outputs": [],
   "source": [
    "saveGeneList(uniGenesMSX,\"uniGenesinMSX.txt\",\">uniSigGenesinMSX\")"
   ]
  },
  {
   "cell_type": "code",
   "execution_count": 23,
   "metadata": {
    "collapsed": false
   },
   "outputs": [
    {
     "data": {
      "text/plain": [
       "1323"
      ]
     },
     "execution_count": 23,
     "metadata": {},
     "output_type": "execute_result"
    }
   ],
   "source": [
    "len(uniGenesOrbetello)"
   ]
  },
  {
   "cell_type": "code",
   "execution_count": 24,
   "metadata": {
    "collapsed": true
   },
   "outputs": [],
   "source": [
    "saveGeneList(uniGenesOrbetello,\"uniGenesiOrbetello.txt\",\">uniSigGenesinOrbetello\")"
   ]
  },
  {
   "cell_type": "code",
   "execution_count": 31,
   "metadata": {
    "collapsed": true
   },
   "outputs": [],
   "source": [
    "saveGeneList(intersectGenes,\"sigGenesinMSXandOrbetello.txt\",\">sigGenesinBothArasets\")"
   ]
  },
  {
   "cell_type": "code",
   "execution_count": 30,
   "metadata": {
    "collapsed": true
   },
   "outputs": [],
   "source": [
    "##################################\n",
    "# Generating the Correlation Networks \n",
    "#################################"
   ]
  },
  {
   "cell_type": "code",
   "execution_count": 9,
   "metadata": {
    "collapsed": false
   },
   "outputs": [],
   "source": [
    "corr_sif = correlation(\"Orbetello/AraRMADiffShoots.txt\",None,0.05)\n",
    "saveSif(corr_sif,\"CorrNetOrbetelloAraShoots\")"
   ]
  },
  {
   "cell_type": "code",
   "execution_count": 8,
   "metadata": {
    "collapsed": true
   },
   "outputs": [],
   "source": [
    "corr_sif = correlation(\"Orbetello/AraRMADiffRoots.txt\",None,0.05)\n",
    "saveSif(corr_sif,\"CorrNetOrbetelloAraRoots\")"
   ]
  },
  {
   "cell_type": "code",
   "execution_count": 11,
   "metadata": {
    "collapsed": false
   },
   "outputs": [],
   "source": [
    "corr_sif = correlation(\"MSX/filteredgenes_NormExpMas5.tab\",None,0.05)\n",
    "saveSif(corr_sif,\"CorrNetMSXAra\")"
   ]
  },
  {
   "cell_type": "code",
   "execution_count": 25,
   "metadata": {
    "collapsed": false
   },
   "outputs": [
    {
     "name": "stdout",
     "output_type": "stream",
     "text": [
      "C:\\Users\\Greg Hamilton\\Desktop\\Thesis\\ThesisWriting\\CaseStudy3\\ArabData\n"
     ]
    }
   ],
   "source": [
    "cd .."
   ]
  },
  {
   "cell_type": "code",
   "execution_count": 26,
   "metadata": {
    "collapsed": false
   },
   "outputs": [
    {
     "name": "stdout",
     "output_type": "stream",
     "text": [
      "C:\\Users\\Greg Hamilton\\Desktop\\Thesis\\ThesisWriting\\CaseStudy3\\MaizeData\n"
     ]
    }
   ],
   "source": [
    "cd ../MaizeData/"
   ]
  },
  {
   "cell_type": "code",
   "execution_count": null,
   "metadata": {
    "collapsed": true
   },
   "outputs": [],
   "source": [
    "corr_sif = correlation(\"Exp1/uniqueGenes_filteredNormalized_exp1.txt\",None,0.05)\n",
    "saveSif(corr_sif,\"CorrNetMaizeExp1\")\n",
    "corr_sif = correlation(\"Exp2/uniqueGenes_filteredNormalized_exp2.txt\",None,0.05)\n",
    "saveSif(corr_sif,\"CorrNetMaizeExp2\")\n",
    "corr_sif = correlation(\"Exp4/genes_Significant.probes.E4.N.txt\",None,0.05)\n",
    "saveSif(corr_sif,\"CorrNetMaizeExp4\")\n",
    "corr_sif = correlation(\"Exp5/nitrogen_only_2554UniqueGenesExprs.txt\",None,0.05)\n",
    "saveSif(corr_sif,\"CorrNetMaizeExp5\")"
   ]
  },
  {
   "cell_type": "code",
   "execution_count": null,
   "metadata": {
    "collapsed": true
   },
   "outputs": [],
   "source": [
    "cd ../RiceData"
   ]
  },
  {
   "cell_type": "code",
   "execution_count": null,
   "metadata": {
    "collapsed": true
   },
   "outputs": [],
   "source": [
    "corr_sif = correlation(\"Orbetello/RiceRMADiffShoots.txt\",None,0.05)\n",
    "saveSif(corr_sif,\"CorrNetRiceShoot\")\n",
    "corr_sif = correlation(\"Orbetello/RiceRMADiffRoots.txt\",None,0.05)\n",
    "saveSif(corr_sif,\"CorrNetRiceRoot\")"
   ]
  }
 ],
 "metadata": {
  "kernelspec": {
   "display_name": "Python 2",
   "language": "python",
   "name": "python2"
  },
  "language_info": {
   "codemirror_mode": {
    "name": "ipython",
    "version": 2
   },
   "file_extension": ".py",
   "mimetype": "text/x-python",
   "name": "python",
   "nbconvert_exporter": "python",
   "pygments_lexer": "ipython2",
   "version": "2.7.11"
  }
 },
 "nbformat": 4,
 "nbformat_minor": 0
}
