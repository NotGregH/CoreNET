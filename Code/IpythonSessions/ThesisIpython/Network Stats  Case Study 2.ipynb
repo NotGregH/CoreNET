{
 "cells": [
  {
   "cell_type": "code",
   "execution_count": 3,
   "metadata": {
    "collapsed": false
   },
   "outputs": [
    {
     "name": "stdout",
     "output_type": "stream",
     "text": [
      "C:\\Users\\Greg Hamilton\\Desktop\\Thesis\\ThesisWriting\\CaseStudy2\\ConservedNetworks\n"
     ]
    }
   ],
   "source": [
    "cd ../../CaseStudy2/ConservedNetworks"
   ]
  },
  {
   "cell_type": "code",
   "execution_count": 1,
   "metadata": {
    "collapsed": false
   },
   "outputs": [],
   "source": [
    "def netStatsAra(NetworkFile):\n",
    "    with open(NetworkFile,\"rb\",-1) as f:\n",
    "        geneList = []\n",
    "        edgeCount = {}\n",
    "        metabolites = []\n",
    "        edges = []\n",
    "        networkList = []\n",
    "        lines =[line.strip().split(\"\\t\") for line in f][1:]\n",
    "        for i in lines:\n",
    "            if i[0].startswith(\"AT\"):\n",
    "                geneList.append(i[0])\n",
    "            if i[2].startswith(\"AT\"):\n",
    "                geneList.append(i[2])\n",
    "            if not i[0].startswith(\"AT\"):\n",
    "                metabolites.append(i[0])\n",
    "            if not i[2].startswith(\"AT\"):\n",
    "                metabolites.append(i[2])\n",
    "            networkList.append([i[0],i[1],i[2]])\n",
    "            edgeCount[i[1]] = 0\n",
    "            edges.append(i[1])\n",
    "    geneList = list(set(geneList))\n",
    "    for i in edges:\n",
    "        count = edgeCount[i]\n",
    "        edgeCount[i] = count + 1 \n",
    "    metabolites = list(set(metabolites))\n",
    "    return geneList, edgeCount, networkList, metabolites"
   ]
  },
  {
   "cell_type": "code",
   "execution_count": 2,
   "metadata": {
    "collapsed": true
   },
   "outputs": [],
   "source": [
    "def netStatsMaize(NetworkFile):\n",
    "    with open(NetworkFile,\"rb\",-1) as f:\n",
    "        geneList = []\n",
    "        edgeCount = {}\n",
    "        metabolites = []\n",
    "        edges = []\n",
    "        networkList = []\n",
    "        lines =[line.strip().split(\"\\t\") for line in f][1:]\n",
    "        for i in lines:\n",
    "            if i[0].startswith(\"GRMZM\"):\n",
    "                geneList.append(i[0])\n",
    "            if i[2].startswith(\"GRMZM\"):\n",
    "                geneList.append(i[2])\n",
    "            if not i[0].startswith(\"GRMZM\"):\n",
    "                metabolites.append(i[0])\n",
    "            if not i[2].startswith(\"GRMZM\"):\n",
    "                metabolites.append(i[2])\n",
    "            networkList.append([i[0],i[1],i[2]])\n",
    "            edgeCount[i[1]] = 0\n",
    "            edges.append(i[1])\n",
    "    geneList = list(set(geneList))\n",
    "    for i in edges:\n",
    "        count = edgeCount[i]\n",
    "        edgeCount[i] = count + 1 \n",
    "    metabolites = list(set(metabolites))\n",
    "    return geneList, edgeCount, networkList, metabolites"
   ]
  },
  {
   "cell_type": "code",
   "execution_count": 10,
   "metadata": {
    "collapsed": true
   },
   "outputs": [],
   "source": [
    "def saveGeneList(geneList,outfile,title):\n",
    "    from csv import writer \n",
    "    with open(outfile, \"wb\",-1) as o:\n",
    "        write = writer(o, delimiter=\"\\t\")\n",
    "        write.writerow([title])\n",
    "        for i in geneList:\n",
    "            write.writerow([i])\n",
    "    o.close()\n",
    "    return"
   ]
  },
  {
   "cell_type": "code",
   "execution_count": 2,
   "metadata": {
    "collapsed": true
   },
   "outputs": [],
   "source": [
    "### Ara X Maize Exp 5"
   ]
  },
  {
   "cell_type": "code",
   "execution_count": 61,
   "metadata": {
    "collapsed": false
   },
   "outputs": [
    {
     "name": "stdout",
     "output_type": "stream",
     "text": [
      "C:\\Users\\Greg Hamilton\\Desktop\\Thesis\\ThesisWriting\\CaseStudy2\\ConservedNetworks\\AraXMaize_Exp5_MCL\n"
     ]
    }
   ],
   "source": [
    "cd ../AraXMaize_Exp5_MCL/"
   ]
  },
  {
   "cell_type": "code",
   "execution_count": 3,
   "metadata": {
    "collapsed": false
   },
   "outputs": [
    {
     "name": "stdout",
     "output_type": "stream",
     "text": [
      "C:\\Users\\Greg Hamilton\\Desktop\\Thesis\\ThesisWriting\\CaseStudy2\\ConservedNetworks\\AraXMaize_Exp5_MCL\n"
     ]
    }
   ],
   "source": [
    "cd AraXMaize_Exp5_MCL/"
   ]
  },
  {
   "cell_type": "code",
   "execution_count": null,
   "metadata": {
    "collapsed": true
   },
   "outputs": [],
   "source": [
    "## AraNetwork"
   ]
  },
  {
   "cell_type": "code",
   "execution_count": 62,
   "metadata": {
    "collapsed": false
   },
   "outputs": [],
   "source": [
    "geneList, edgeCount,NetworkList, metabolites = netStatsAra(\"AraMaizeExp5MCL.sif\")\n",
    "saveGeneList(geneList,\"AraUniqueGenesExp5.txt\",\">AraGenesExp5\")\n",
    "saveGeneList(metabolites,\"AraUniqueMetabolitesExp5.txt\",\">AraMetabolitesExp5\")"
   ]
  },
  {
   "cell_type": "code",
   "execution_count": 63,
   "metadata": {
    "collapsed": false
   },
   "outputs": [
    {
     "data": {
      "text/plain": [
       "150"
      ]
     },
     "execution_count": 63,
     "metadata": {},
     "output_type": "execute_result"
    }
   ],
   "source": [
    "len(geneList)"
   ]
  },
  {
   "cell_type": "code",
   "execution_count": 64,
   "metadata": {
    "collapsed": false
   },
   "outputs": [
    {
     "data": {
      "text/plain": [
       "69"
      ]
     },
     "execution_count": 64,
     "metadata": {},
     "output_type": "execute_result"
    }
   ],
   "source": [
    "len(metabolites)"
   ]
  },
  {
   "cell_type": "code",
   "execution_count": 65,
   "metadata": {
    "collapsed": false
   },
   "outputs": [
    {
     "data": {
      "text/plain": [
       "{'corr': 515,\n",
       " 'met:Aracyc': 131,\n",
       " 'met:Irc:KEGG': 42,\n",
       " 'met:Irv:KEGG': 3,\n",
       " 'met:rc:KEGG': 15,\n",
       " 'met:rv:KEGG': 1,\n",
       " 'negCorr': 224,\n",
       " 'pp:AtPID': 5,\n",
       " 'pp:EnsemblBiomartBioGrid40': 3,\n",
       " 'pp:InparanoidBioGrid40': 2}"
      ]
     },
     "execution_count": 65,
     "metadata": {},
     "output_type": "execute_result"
    }
   ],
   "source": [
    "edgeCount"
   ]
  },
  {
   "cell_type": "code",
   "execution_count": 66,
   "metadata": {
    "collapsed": false
   },
   "outputs": [
    {
     "data": {
      "text/plain": [
       "941"
      ]
     },
     "execution_count": 66,
     "metadata": {},
     "output_type": "execute_result"
    }
   ],
   "source": [
    "len(NetworkList)"
   ]
  },
  {
   "cell_type": "code",
   "execution_count": null,
   "metadata": {
    "collapsed": true
   },
   "outputs": [],
   "source": [
    "### MaizeNetwork"
   ]
  },
  {
   "cell_type": "code",
   "execution_count": 67,
   "metadata": {
    "collapsed": false
   },
   "outputs": [],
   "source": [
    "geneList, edgeCount,NetworkList, maizeMetabolites = netStatsMaize(\"MaizeExp5AraMCL.sif\")\n",
    "saveGeneList(geneList,\"MazieUniqueGenesExp5.txt\",\">MaizeGenesExp5\")\n",
    "saveGeneList(maizeMetabolites,\"MaizeUniqueMetabolitesExp5.txt\",\">MaizeMetabolitesExp5\")"
   ]
  },
  {
   "cell_type": "code",
   "execution_count": 68,
   "metadata": {
    "collapsed": false
   },
   "outputs": [
    {
     "data": {
      "text/plain": [
       "{'corr': 565, 'met:Corncyc': 144, 'negCorr': 241, 'pp:high': 4, 'pp:medium': 2}"
      ]
     },
     "execution_count": 68,
     "metadata": {},
     "output_type": "execute_result"
    }
   ],
   "source": [
    "edgeCount"
   ]
  },
  {
   "cell_type": "code",
   "execution_count": 69,
   "metadata": {
    "collapsed": false
   },
   "outputs": [
    {
     "data": {
      "text/plain": [
       "956"
      ]
     },
     "execution_count": 69,
     "metadata": {},
     "output_type": "execute_result"
    }
   ],
   "source": [
    "len(NetworkList)"
   ]
  },
  {
   "cell_type": "code",
   "execution_count": 38,
   "metadata": {
    "collapsed": false
   },
   "outputs": [
    {
     "data": {
      "text/plain": [
       "154"
      ]
     },
     "execution_count": 38,
     "metadata": {},
     "output_type": "execute_result"
    }
   ],
   "source": [
    "len(geneList)"
   ]
  },
  {
   "cell_type": "code",
   "execution_count": 70,
   "metadata": {
    "collapsed": false
   },
   "outputs": [
    {
     "data": {
      "text/plain": [
       "69"
      ]
     },
     "execution_count": 70,
     "metadata": {},
     "output_type": "execute_result"
    }
   ],
   "source": [
    "len(maizeMetabolites)"
   ]
  },
  {
   "cell_type": "code",
   "execution_count": null,
   "metadata": {
    "collapsed": true
   },
   "outputs": [],
   "source": [
    "### Ara X Maize Exp 4"
   ]
  },
  {
   "cell_type": "code",
   "execution_count": 42,
   "metadata": {
    "collapsed": false
   },
   "outputs": [
    {
     "name": "stdout",
     "output_type": "stream",
     "text": [
      "C:\\Users\\Greg Hamilton\\Desktop\\Thesis\\ThesisWriting\\CaseStudy2\\ConservedNetworks\\AraXMaize_Exp4_MCL\n"
     ]
    }
   ],
   "source": [
    "cd ../AraXMaize_Exp4_MCL/"
   ]
  },
  {
   "cell_type": "code",
   "execution_count": null,
   "metadata": {
    "collapsed": true
   },
   "outputs": [],
   "source": [
    "## Ara Net"
   ]
  },
  {
   "cell_type": "code",
   "execution_count": 43,
   "metadata": {
    "collapsed": true
   },
   "outputs": [],
   "source": [
    "geneList, edgeCount,NetworkList, metabolites = netStatsAra(\"AraMaizeExp4MCL.sif\")\n",
    "saveGeneList(geneList,\"AraUniqueGenesExp4.txt\",\">AraGenesExp4\")\n",
    "saveGeneList(metabolites,\"AraUniqueMetabolitesExp4.txt\",\">AraMetabolitesExp4\")"
   ]
  },
  {
   "cell_type": "code",
   "execution_count": 44,
   "metadata": {
    "collapsed": false
   },
   "outputs": [
    {
     "data": {
      "text/plain": [
       "59"
      ]
     },
     "execution_count": 44,
     "metadata": {},
     "output_type": "execute_result"
    }
   ],
   "source": [
    "len(geneList)"
   ]
  },
  {
   "cell_type": "code",
   "execution_count": 45,
   "metadata": {
    "collapsed": false
   },
   "outputs": [
    {
     "data": {
      "text/plain": [
       "22"
      ]
     },
     "execution_count": 45,
     "metadata": {},
     "output_type": "execute_result"
    }
   ],
   "source": [
    "len(metabolites)"
   ]
  },
  {
   "cell_type": "code",
   "execution_count": 46,
   "metadata": {
    "collapsed": false
   },
   "outputs": [
    {
     "data": {
      "text/plain": [
       "{'corr': 95,\n",
       " 'met:Aracyc': 37,\n",
       " 'met:Irc:KEGG': 3,\n",
       " 'met:rc:KEGG': 11,\n",
       " 'negCorr': 69}"
      ]
     },
     "execution_count": 46,
     "metadata": {},
     "output_type": "execute_result"
    }
   ],
   "source": [
    "edgeCount"
   ]
  },
  {
   "cell_type": "code",
   "execution_count": 47,
   "metadata": {
    "collapsed": false
   },
   "outputs": [
    {
     "data": {
      "text/plain": [
       "215"
      ]
     },
     "execution_count": 47,
     "metadata": {},
     "output_type": "execute_result"
    }
   ],
   "source": [
    "len(NetworkList)"
   ]
  },
  {
   "cell_type": "code",
   "execution_count": 48,
   "metadata": {
    "collapsed": true
   },
   "outputs": [],
   "source": [
    "## Maize Net"
   ]
  },
  {
   "cell_type": "code",
   "execution_count": 49,
   "metadata": {
    "collapsed": true
   },
   "outputs": [],
   "source": [
    "geneList, edgeCount,NetworkList, maizeMetabolites = netStatsMaize(\"MaizeExp4AraMCL.sif\")\n",
    "saveGeneList(geneList,\"MazieUniqueGenesExp4.txt\",\">MaizeGenesExp4\")\n",
    "saveGeneList(maizeMetabolites,\"MaizeUniqueMetabolitesExp4.txt\",\">MaizeMetabolitesExp4\")"
   ]
  },
  {
   "cell_type": "code",
   "execution_count": 50,
   "metadata": {
    "collapsed": false
   },
   "outputs": [
    {
     "data": {
      "text/plain": [
       "52"
      ]
     },
     "execution_count": 50,
     "metadata": {},
     "output_type": "execute_result"
    }
   ],
   "source": [
    "len(geneList)"
   ]
  },
  {
   "cell_type": "code",
   "execution_count": 51,
   "metadata": {
    "collapsed": false
   },
   "outputs": [
    {
     "data": {
      "text/plain": [
       "22"
      ]
     },
     "execution_count": 51,
     "metadata": {},
     "output_type": "execute_result"
    }
   ],
   "source": [
    "len(metabolites)"
   ]
  },
  {
   "cell_type": "code",
   "execution_count": 52,
   "metadata": {
    "collapsed": false
   },
   "outputs": [
    {
     "data": {
      "text/plain": [
       "267"
      ]
     },
     "execution_count": 52,
     "metadata": {},
     "output_type": "execute_result"
    }
   ],
   "source": [
    "len(NetworkList)"
   ]
  },
  {
   "cell_type": "code",
   "execution_count": 53,
   "metadata": {
    "collapsed": false
   },
   "outputs": [
    {
     "data": {
      "text/plain": [
       "{'corr': 136, 'met:Corncyc': 37, 'negCorr': 94}"
      ]
     },
     "execution_count": 53,
     "metadata": {},
     "output_type": "execute_result"
    }
   ],
   "source": [
    "edgeCount"
   ]
  },
  {
   "cell_type": "code",
   "execution_count": null,
   "metadata": {
    "collapsed": true
   },
   "outputs": [],
   "source": [
    "### Ara X Maize Exp 2"
   ]
  },
  {
   "cell_type": "code",
   "execution_count": 7,
   "metadata": {
    "collapsed": false
   },
   "outputs": [
    {
     "name": "stdout",
     "output_type": "stream",
     "text": [
      "C:\\Users\\Greg Hamilton\\Desktop\\Thesis\\ThesisWriting\\CaseStudy2\\ConservedNetworks\\AraXMaize_Exp2_MCL\n"
     ]
    }
   ],
   "source": [
    "cd AraXMaize_Exp2_MCL/"
   ]
  },
  {
   "cell_type": "code",
   "execution_count": 55,
   "metadata": {
    "collapsed": true
   },
   "outputs": [],
   "source": [
    "## AraNet"
   ]
  },
  {
   "cell_type": "code",
   "execution_count": 12,
   "metadata": {
    "collapsed": false
   },
   "outputs": [],
   "source": [
    "geneList, edgeCount,NetworkList, metabolites = netStatsAra(\"AraMaizeExp2MCLp01.sif\")\n",
    "saveGeneList(geneList,\"AraUniqueGenesExp2.txt\",\">AraGenesExp2\")\n",
    "saveGeneList(metabolites,\"AraUniqueMetabolitesExp2.txt\",\">AraMetabolitesExp2\")"
   ]
  },
  {
   "cell_type": "code",
   "execution_count": 13,
   "metadata": {
    "collapsed": false
   },
   "outputs": [
    {
     "data": {
      "text/plain": [
       "282"
      ]
     },
     "execution_count": 13,
     "metadata": {},
     "output_type": "execute_result"
    }
   ],
   "source": [
    "len(geneList)"
   ]
  },
  {
   "cell_type": "code",
   "execution_count": 14,
   "metadata": {
    "collapsed": false
   },
   "outputs": [
    {
     "data": {
      "text/plain": [
       "1241"
      ]
     },
     "execution_count": 14,
     "metadata": {},
     "output_type": "execute_result"
    }
   ],
   "source": [
    "len(NetworkList)"
   ]
  },
  {
   "cell_type": "code",
   "execution_count": 15,
   "metadata": {
    "collapsed": false
   },
   "outputs": [
    {
     "data": {
      "text/plain": [
       "{'corr': 638,\n",
       " 'met:Aracyc': 173,\n",
       " 'met:Irc:KEGG': 55,\n",
       " 'met:Irv:KEGG': 4,\n",
       " 'met:rc:KEGG': 20,\n",
       " 'met:rv:KEGG': 3,\n",
       " 'negCorr': 287,\n",
       " 'pp:AtPID': 14,\n",
       " 'pp:BIND': 1,\n",
       " 'pp:BioGrid': 1,\n",
       " 'pp:Braun': 6,\n",
       " 'pp:EckerArray': 3,\n",
       " 'pp:EckerLiterature': 3,\n",
       " 'pp:EnsemblBiomartBioGrid40': 8,\n",
       " 'pp:Frommer': 1,\n",
       " 'pp:InparanoidBioGrid40': 10,\n",
       " 'pp:InparanoidIntAct': 2,\n",
       " 'pp:Inparanoid_onetomanyBioGrid40': 7,\n",
       " 'pp:Inparanoid_onetomanyDIP': 4,\n",
       " 'pp:Intact': 1}"
      ]
     },
     "execution_count": 15,
     "metadata": {},
     "output_type": "execute_result"
    }
   ],
   "source": [
    "edgeCount"
   ]
  },
  {
   "cell_type": "code",
   "execution_count": 91,
   "metadata": {
    "collapsed": false
   },
   "outputs": [
    {
     "data": {
      "text/plain": [
       "89"
      ]
     },
     "execution_count": 91,
     "metadata": {},
     "output_type": "execute_result"
    }
   ],
   "source": [
    "len(metabolites)"
   ]
  },
  {
   "cell_type": "code",
   "execution_count": null,
   "metadata": {
    "collapsed": true
   },
   "outputs": [],
   "source": [
    "## Maize Net"
   ]
  },
  {
   "cell_type": "code",
   "execution_count": 16,
   "metadata": {
    "collapsed": true
   },
   "outputs": [],
   "source": [
    "geneList, edgeCount,NetworkList, maizeMetabolites = netStatsMaize(\"MaizeExp2AraMCLp01.sif\")\n",
    "saveGeneList(geneList,\"MazieUniqueGenesExp2.txt\",\">MaizeGenesExp2\")\n",
    "saveGeneList(maizeMetabolites,\"MaizeUniqueMetabolitesExp2.txt\",\">MaizeMetabolitesExp2\")"
   ]
  },
  {
   "cell_type": "code",
   "execution_count": 17,
   "metadata": {
    "collapsed": false
   },
   "outputs": [
    {
     "data": {
      "text/plain": [
       "395"
      ]
     },
     "execution_count": 17,
     "metadata": {},
     "output_type": "execute_result"
    }
   ],
   "source": [
    "len(geneList)"
   ]
  },
  {
   "cell_type": "code",
   "execution_count": null,
   "metadata": {
    "collapsed": true
   },
   "outputs": [],
   "source": []
  },
  {
   "cell_type": "code",
   "execution_count": null,
   "metadata": {
    "collapsed": true
   },
   "outputs": [],
   "source": []
  },
  {
   "cell_type": "code",
   "execution_count": null,
   "metadata": {
    "collapsed": true
   },
   "outputs": [],
   "source": []
  },
  {
   "cell_type": "code",
   "execution_count": null,
   "metadata": {
    "collapsed": true
   },
   "outputs": [],
   "source": []
  },
  {
   "cell_type": "code",
   "execution_count": null,
   "metadata": {
    "collapsed": true
   },
   "outputs": [],
   "source": [
    "# ARaNet p05"
   ]
  },
  {
   "cell_type": "code",
   "execution_count": 24,
   "metadata": {
    "collapsed": true
   },
   "outputs": [],
   "source": [
    "geneList, edgeCount,NetworkList, metabolites = netStatsAra(\"AraMaizeExp2MCLp05.sif\")\n",
    "saveGeneList(geneList,\"AraUniqueGenesExp2p05.txt\",\">AraGenesExp2p05\")\n",
    "saveGeneList(metabolites,\"AraUniqueMetabolitesExp2p05.txt\",\">AraMetabolitesExp2p05\")"
   ]
  },
  {
   "cell_type": "code",
   "execution_count": 25,
   "metadata": {
    "collapsed": false
   },
   "outputs": [
    {
     "data": {
      "text/plain": [
       "301"
      ]
     },
     "execution_count": 25,
     "metadata": {},
     "output_type": "execute_result"
    }
   ],
   "source": [
    "len(geneList)"
   ]
  },
  {
   "cell_type": "code",
   "execution_count": 20,
   "metadata": {
    "collapsed": false
   },
   "outputs": [
    {
     "data": {
      "text/plain": [
       "3596"
      ]
     },
     "execution_count": 20,
     "metadata": {},
     "output_type": "execute_result"
    }
   ],
   "source": [
    "len(NetworkList)"
   ]
  },
  {
   "cell_type": "code",
   "execution_count": 21,
   "metadata": {
    "collapsed": false
   },
   "outputs": [
    {
     "data": {
      "text/plain": [
       "89"
      ]
     },
     "execution_count": 21,
     "metadata": {},
     "output_type": "execute_result"
    }
   ],
   "source": [
    "len(metabolites)"
   ]
  },
  {
   "cell_type": "code",
   "execution_count": 22,
   "metadata": {
    "collapsed": false
   },
   "outputs": [
    {
     "data": {
      "text/plain": [
       "{'corr': 2171,\n",
       " 'met:Aracyc': 173,\n",
       " 'met:Irc:KEGG': 55,\n",
       " 'met:Irv:KEGG': 4,\n",
       " 'met:rc:KEGG': 20,\n",
       " 'met:rv:KEGG': 3,\n",
       " 'negCorr': 1109,\n",
       " 'pp:AtPID': 14,\n",
       " 'pp:BIND': 1,\n",
       " 'pp:BioGrid': 1,\n",
       " 'pp:Braun': 6,\n",
       " 'pp:EckerArray': 3,\n",
       " 'pp:EckerLiterature': 3,\n",
       " 'pp:EnsemblBiomartBioGrid40': 8,\n",
       " 'pp:Frommer': 1,\n",
       " 'pp:InparanoidBioGrid40': 10,\n",
       " 'pp:InparanoidIntAct': 2,\n",
       " 'pp:Inparanoid_onetomanyBioGrid40': 7,\n",
       " 'pp:Inparanoid_onetomanyDIP': 4,\n",
       " 'pp:Intact': 1}"
      ]
     },
     "execution_count": 22,
     "metadata": {},
     "output_type": "execute_result"
    }
   ],
   "source": [
    "edgeCount"
   ]
  },
  {
   "cell_type": "code",
   "execution_count": null,
   "metadata": {
    "collapsed": true
   },
   "outputs": [],
   "source": []
  },
  {
   "cell_type": "code",
   "execution_count": null,
   "metadata": {
    "collapsed": true
   },
   "outputs": [],
   "source": [
    "### Ara X Maize Exp 1"
   ]
  },
  {
   "cell_type": "code",
   "execution_count": 71,
   "metadata": {
    "collapsed": false
   },
   "outputs": [
    {
     "name": "stdout",
     "output_type": "stream",
     "text": [
      "C:\\Users\\Greg Hamilton\\Desktop\\Thesis\\ThesisWriting\\CaseStudy2\\ConservedNetworks\\AraXMaize_Exp1_MCL\n"
     ]
    }
   ],
   "source": [
    "cd ../AraXMaize_Exp1_MCL/"
   ]
  },
  {
   "cell_type": "code",
   "execution_count": null,
   "metadata": {
    "collapsed": true
   },
   "outputs": [],
   "source": [
    "# AraNet"
   ]
  },
  {
   "cell_type": "code",
   "execution_count": 72,
   "metadata": {
    "collapsed": true
   },
   "outputs": [],
   "source": [
    "geneList, edgeCount,NetworkList, metabolites = netStatsAra(\"AraMaizeExp1MCLp01.SIF\")\n",
    "saveGeneList(geneList,\"AraUniqueGenesExp1.txt\",\">AraGenesExp1\")\n",
    "saveGeneList(metabolites,\"AraUniqueMetabolitesExp1.txt\",\">AraMetabolitesExp1\")"
   ]
  },
  {
   "cell_type": "code",
   "execution_count": 73,
   "metadata": {
    "collapsed": false
   },
   "outputs": [
    {
     "data": {
      "text/plain": [
       "1923"
      ]
     },
     "execution_count": 73,
     "metadata": {},
     "output_type": "execute_result"
    }
   ],
   "source": [
    "len(NetworkList)"
   ]
  },
  {
   "cell_type": "code",
   "execution_count": 74,
   "metadata": {
    "collapsed": false
   },
   "outputs": [
    {
     "data": {
      "text/plain": [
       "{'corr': 1039,\n",
       " 'met:Aracyc': 185,\n",
       " 'met:Irc:KEGG': 61,\n",
       " 'met:Irv:KEGG': 7,\n",
       " 'met:rc:KEGG': 22,\n",
       " 'met:rv:KEGG': 3,\n",
       " 'negCorr': 539,\n",
       " 'pp:AtPID': 18,\n",
       " 'pp:BIND': 1,\n",
       " 'pp:BioGrid': 1,\n",
       " 'pp:Braun': 5,\n",
       " 'pp:EckerArray': 2,\n",
       " 'pp:EckerLiterature': 3,\n",
       " 'pp:EnsemblBiomartBioGrid40': 9,\n",
       " 'pp:Frommer': 1,\n",
       " 'pp:InparanoidBioGrid40': 12,\n",
       " 'pp:InparanoidIntAct': 2,\n",
       " 'pp:Inparanoid_onetomanyBioGrid40': 7,\n",
       " 'pp:Inparanoid_onetomanyDIP': 4,\n",
       " 'pp:Intact': 2}"
      ]
     },
     "execution_count": 74,
     "metadata": {},
     "output_type": "execute_result"
    }
   ],
   "source": [
    "edgeCount"
   ]
  },
  {
   "cell_type": "code",
   "execution_count": 75,
   "metadata": {
    "collapsed": false
   },
   "outputs": [
    {
     "data": {
      "text/plain": [
       "322"
      ]
     },
     "execution_count": 75,
     "metadata": {},
     "output_type": "execute_result"
    }
   ],
   "source": [
    "len(geneList)"
   ]
  },
  {
   "cell_type": "code",
   "execution_count": 76,
   "metadata": {
    "collapsed": false
   },
   "outputs": [
    {
     "data": {
      "text/plain": [
       "93"
      ]
     },
     "execution_count": 76,
     "metadata": {},
     "output_type": "execute_result"
    }
   ],
   "source": [
    "len(metabolites)"
   ]
  },
  {
   "cell_type": "code",
   "execution_count": null,
   "metadata": {
    "collapsed": true
   },
   "outputs": [],
   "source": [
    "## Maize Net"
   ]
  },
  {
   "cell_type": "code",
   "execution_count": 77,
   "metadata": {
    "collapsed": true
   },
   "outputs": [],
   "source": [
    "geneList, edgeCount,NetworkList, maizeMetabolites = netStatsMaize(\"MaizeExp1AraMCLp01.sif\")\n",
    "saveGeneList(geneList,\"MazieUniqueGenesExp1.txt\",\">MaizeGenesExp1\")\n",
    "saveGeneList(maizeMetabolites,\"MaizeUniqueMetabolitesExp1.txt\",\">MaizeMetabolitesExp1\")"
   ]
  },
  {
   "cell_type": "code",
   "execution_count": 78,
   "metadata": {
    "collapsed": false
   },
   "outputs": [
    {
     "data": {
      "text/plain": [
       "470"
      ]
     },
     "execution_count": 78,
     "metadata": {},
     "output_type": "execute_result"
    }
   ],
   "source": [
    "len(geneList)"
   ]
  },
  {
   "cell_type": "code",
   "execution_count": 79,
   "metadata": {
    "collapsed": false
   },
   "outputs": [
    {
     "data": {
      "text/plain": [
       "93"
      ]
     },
     "execution_count": 79,
     "metadata": {},
     "output_type": "execute_result"
    }
   ],
   "source": [
    "len(metabolites)"
   ]
  },
  {
   "cell_type": "code",
   "execution_count": 80,
   "metadata": {
    "collapsed": false
   },
   "outputs": [
    {
     "data": {
      "text/plain": [
       "{'corr': 2136,\n",
       " 'met:Corncyc': 354,\n",
       " 'negCorr': 909,\n",
       " 'pp:high': 55,\n",
       " 'pp:literature': 1,\n",
       " 'pp:medium': 58}"
      ]
     },
     "execution_count": 80,
     "metadata": {},
     "output_type": "execute_result"
    }
   ],
   "source": [
    "edgeCount"
   ]
  },
  {
   "cell_type": "code",
   "execution_count": 81,
   "metadata": {
    "collapsed": false
   },
   "outputs": [
    {
     "data": {
      "text/plain": [
       "3513"
      ]
     },
     "execution_count": 81,
     "metadata": {},
     "output_type": "execute_result"
    }
   ],
   "source": [
    "len(NetworkList)"
   ]
  }
 ],
 "metadata": {
  "kernelspec": {
   "display_name": "Python 2",
   "language": "python",
   "name": "python2"
  },
  "language_info": {
   "codemirror_mode": {
    "name": "ipython",
    "version": 2
   },
   "file_extension": ".py",
   "mimetype": "text/x-python",
   "name": "python",
   "nbconvert_exporter": "python",
   "pygments_lexer": "ipython2",
   "version": "2.7.11"
  }
 },
 "nbformat": 4,
 "nbformat_minor": 0
}
