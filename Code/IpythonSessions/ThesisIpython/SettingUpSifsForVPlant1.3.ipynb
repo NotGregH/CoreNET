{
 "cells": [
  {
   "cell_type": "code",
   "execution_count": 1,
   "metadata": {
    "collapsed": false
   },
   "outputs": [
    {
     "name": "stdout",
     "output_type": "stream",
     "text": [
      "C:\\Users\\Greg Hamilton\\Documents\\Vplant\\Networking_Tool\\CrossSpeciesTool\\Rice_X_Ara_NewMCL\n"
     ]
    }
   ],
   "source": [
    "cd ../Networking_Tool/CrossSpeciesTool/Rice_X_Ara_NewMCL/"
   ]
  },
  {
   "cell_type": "code",
   "execution_count": 2,
   "metadata": {
    "collapsed": true
   },
   "outputs": [],
   "source": [
    "from csv import writer"
   ]
  },
  {
   "cell_type": "code",
   "execution_count": 12,
   "metadata": {
    "collapsed": false
   },
   "outputs": [],
   "source": [
    "with open(\"RootsAraNewMCL.sif\",\"rb\",-1) as f:\n",
    "    lines = [line.strip().split(\"\\t\") for line in f][1:]\n",
    "    f.close()\n",
    "with open(\"ShootsAraNewMCL.sif\",\"rb\",-1) as f:\n",
    "    lines2 = [line.strip().split(\"\\t\") for line in f][1:]\n",
    "    f.close()\n",
    "lines = lines+lines2\n",
    "output = []\n",
    "for i in lines:\n",
    "    if i not in output:\n",
    "        output.append(i)\n",
    "with open(\"VP_AraUnionNewMCL.SIF\",\"wb\",-1) as f:\n",
    "    write = writer(f,delimiter=\"\\t\")\n",
    "    for i in output:\n",
    "        write.writerow([i[0],i[1],i[2]])\n",
    "    f.close()\n",
    "lines = []\n",
    "lines2 = []\n",
    "with open(\"RootsRiceNewMCL.sif\",\"rb\",-1) as f:\n",
    "    lines = [line.strip().split(\"\\t\") for line in f][1:]\n",
    "    f.close()\n",
    "with open(\"ShootsRiceNewMCL.sif\",\"rb\",-1) as f:\n",
    "    lines2 = [line.strip().split(\"\\t\") for line in f][1:]\n",
    "    f.close()\n",
    "lines = lines+lines2\n",
    "output = []\n",
    "for i in lines:\n",
    "    if i not in output:\n",
    "        output.append(i)\n",
    "with open(\"VP_RiceUnionNewMCL.SIF\",\"wb\",-1) as f:\n",
    "    write = writer(f,delimiter = \"\\t\")\n",
    "    for i in output:\n",
    "        write.writerow([i[0],i[1],i[2]])\n",
    "    f.close()"
   ]
  },
  {
   "cell_type": "code",
   "execution_count": null,
   "metadata": {
    "collapsed": true
   },
   "outputs": [],
   "source": []
  },
  {
   "cell_type": "code",
   "execution_count": null,
   "metadata": {
    "collapsed": true
   },
   "outputs": [],
   "source": []
  },
  {
   "cell_type": "code",
   "execution_count": null,
   "metadata": {
    "collapsed": true
   },
   "outputs": [],
   "source": []
  },
  {
   "cell_type": "code",
   "execution_count": null,
   "metadata": {
    "collapsed": true
   },
   "outputs": [],
   "source": []
  },
  {
   "cell_type": "code",
   "execution_count": null,
   "metadata": {
    "collapsed": true
   },
   "outputs": [],
   "source": []
  },
  {
   "cell_type": "code",
   "execution_count": null,
   "metadata": {
    "collapsed": true
   },
   "outputs": [],
   "source": []
  }
 ],
 "metadata": {
  "kernelspec": {
   "display_name": "Python 2",
   "language": "python",
   "name": "python2"
  },
  "language_info": {
   "codemirror_mode": {
    "name": "ipython",
    "version": 2
   },
   "file_extension": ".py",
   "mimetype": "text/x-python",
   "name": "python",
   "nbconvert_exporter": "python",
   "pygments_lexer": "ipython2",
   "version": "2.7.11"
  }
 },
 "nbformat": 4,
 "nbformat_minor": 0
}
