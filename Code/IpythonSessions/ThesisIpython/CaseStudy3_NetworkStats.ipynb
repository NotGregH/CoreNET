{
 "cells": [
  {
   "cell_type": "code",
   "execution_count": 2,
   "metadata": {
    "collapsed": true
   },
   "outputs": [],
   "source": [
    "def unionNetworks(netFile1,netFile2,outfile):\n",
    "    netList = []\n",
    "    from csv import writer\n",
    "    with open(netFile1,\"rb\",-1) as f:\n",
    "        \n",
    "        lines = [line.strip().split(\"\\t\") for line in f][1:]\n",
    "        \n",
    "        for i in lines:\n",
    "            \n",
    "            if [i[0],i[1],i[2]] not in netList and [i[2],i[1],i[0]] not in netList:\n",
    "        \n",
    "                netList.append([i[0],i[1],i[2]])\n",
    "        \n",
    "        f.close()\n",
    "        \n",
    "    with open(netFile2,\"rb\",-1) as f:\n",
    "        \n",
    "        lines = [line.strip().split(\"\\t\") for line in f][1:]\n",
    "        \n",
    "        for i in lines:\n",
    "            \n",
    "            if [i[0],i[1],i[2]] not in netList and [i[2],i[1],i[0]] not in netList:\n",
    "                    \n",
    "                netList.append([i[0],i[1],i[2]])\n",
    "                \n",
    "        f.close()\n",
    "    \n",
    "    with open(outfile,\"wb\",-1) as o:\n",
    "        write = writer(o,delimiter=\"\\t\")\n",
    "        write.writerow([\"node_1\",\"edge\",\"node_2\"])\n",
    "        write.writerows(netList)\n",
    "        o.close()\n",
    "        \n",
    "    return\n",
    "        \n",
    "        \n",
    "        \n",
    "def netStatsAra(NetworkFile):\n",
    "    with open(NetworkFile,\"rb\",-1) as f:\n",
    "        geneList = []\n",
    "        edgeCount = {}\n",
    "        metabolites = []\n",
    "        edges = []\n",
    "        networkList = []\n",
    "        lines =[line.strip().split(\"\\t\") for line in f][1:]\n",
    "        for i in lines:\n",
    "            if i[0].startswith(\"AT\"):\n",
    "                geneList.append(i[0])\n",
    "            if i[2].startswith(\"AT\"):\n",
    "                geneList.append(i[2])\n",
    "            if not i[0].startswith(\"AT\"):\n",
    "                metabolites.append(i[0])\n",
    "            if not i[2].startswith(\"AT\"):\n",
    "                metabolites.append(i[2])\n",
    "            networkList.append([i[0],i[1],i[2]])\n",
    "            edgeCount[i[1]] = 0\n",
    "            edges.append(i[1])\n",
    "    geneList = list(set(geneList))\n",
    "    for i in edges:\n",
    "        count = edgeCount[i]\n",
    "        edgeCount[i] = count + 1 \n",
    "    metabolites = list(set(metabolites))\n",
    "    return geneList, edgeCount, networkList, metabolites\n",
    "\n",
    "def netStatsMaize(NetworkFile):\n",
    "    with open(NetworkFile,\"rb\",-1) as f:\n",
    "        geneList = []\n",
    "        edgeCount = {}\n",
    "        metabolites = []\n",
    "        edges = []\n",
    "        networkList = []\n",
    "        lines =[line.strip().split(\"\\t\") for line in f][1:]\n",
    "        for i in lines:\n",
    "            if i[0].startswith(\"GRMZM\"):\n",
    "                geneList.append(i[0])\n",
    "            if i[2].startswith(\"GRMZM\"):\n",
    "                geneList.append(i[2])\n",
    "            if not i[0].startswith(\"GRMZM\"):\n",
    "                metabolites.append(i[0])\n",
    "            if not i[2].startswith(\"GRMZM\"):\n",
    "                metabolites.append(i[2])\n",
    "            networkList.append([i[0],i[1],i[2]])\n",
    "            edgeCount[i[1]] = 0\n",
    "            edges.append(i[1])\n",
    "    geneList = list(set(geneList))\n",
    "    for i in edges:\n",
    "        count = edgeCount[i]\n",
    "        edgeCount[i] = count + 1 \n",
    "    metabolites = list(set(metabolites))\n",
    "    return geneList, edgeCount, networkList, metabolites\n",
    "\n",
    "def netStatsRice(NetworkFile):\n",
    "    with open(NetworkFile,\"rb\",-1) as f:\n",
    "        geneList = []\n",
    "        edgeCount = {}\n",
    "        metabolites = []\n",
    "        edges = []\n",
    "        networkList = []\n",
    "        lines =[line.strip().split(\"\\t\") for line in f][1:]\n",
    "        for i in lines:\n",
    "            if i[0].startswith(\"LOC_\"):\n",
    "                geneList.append(i[0])\n",
    "            if i[2].startswith(\"LOC_\"):\n",
    "                geneList.append(i[2])\n",
    "            if not i[0].startswith(\"LOC_\"):\n",
    "                metabolites.append(i[0])\n",
    "            if not i[2].startswith(\"LOC_\"):\n",
    "                metabolites.append(i[2])\n",
    "            networkList.append([i[0],i[1],i[2]])\n",
    "            edgeCount[i[1]] = 0\n",
    "            edges.append(i[1])\n",
    "    geneList = list(set(geneList))\n",
    "    for i in edges:\n",
    "        count = edgeCount[i]\n",
    "        edgeCount[i] = count + 1 \n",
    "    metabolites = list(set(metabolites))\n",
    "    return geneList, edgeCount, networkList, metabolites\n",
    "\n",
    "\n",
    "def saveGeneList(geneList,outfile,title):\n",
    "    from csv import writer \n",
    "    with open(outfile, \"wb\",-1) as o:\n",
    "        write = writer(o, delimiter=\"\\t\")\n",
    "        write.writerow([title])\n",
    "        for i in geneList:\n",
    "            write.writerow([i])\n",
    "    o.close()\n",
    "    return"
   ]
  },
  {
   "cell_type": "code",
   "execution_count": 2,
   "metadata": {
    "collapsed": true
   },
   "outputs": [],
   "source": [
    "###################\n",
    "# AraXRice\n",
    "###################"
   ]
  },
  {
   "cell_type": "code",
   "execution_count": 3,
   "metadata": {
    "collapsed": false
   },
   "outputs": [
    {
     "name": "stdout",
     "output_type": "stream",
     "text": [
      "C:\\Users\\Greg Hamilton\\Desktop\\Thesis\\ThesisWriting\\CaseStudy3\\ConservedNetwork\\RiceXAra\n"
     ]
    }
   ],
   "source": [
    "cd ../../CaseStudy3/ConservedNetwork/RiceXAra/"
   ]
  },
  {
   "cell_type": "code",
   "execution_count": 8,
   "metadata": {
    "collapsed": false
   },
   "outputs": [],
   "source": [
    "unionNetworks(\"RootsAraNewMCL.SIF\",\"ShootsAraNewMCL.SIF\",\"Ara_Rice_UnionMCL.SIF\")"
   ]
  },
  {
   "cell_type": "code",
   "execution_count": 9,
   "metadata": {
    "collapsed": true
   },
   "outputs": [],
   "source": [
    "unionNetworks(\"RootsRiceNewMCL.SIF\",\"ShootsRiceNewMCL.SIF\",\"Rice_Ara_UnionMCL.SIF\")"
   ]
  },
  {
   "cell_type": "code",
   "execution_count": null,
   "metadata": {
    "collapsed": true
   },
   "outputs": [],
   "source": [
    "## Ara Stats ##"
   ]
  },
  {
   "cell_type": "code",
   "execution_count": 10,
   "metadata": {
    "collapsed": true
   },
   "outputs": [],
   "source": [
    "geneList, edgeCount, networkList, metabolites = netStatsAra(\"Ara_Rice_UnionMCL.SIF\")"
   ]
  },
  {
   "cell_type": "code",
   "execution_count": 11,
   "metadata": {
    "collapsed": true
   },
   "outputs": [],
   "source": [
    "saveGeneList(geneList,\"AraXriceUniGenes.txt\",\">Ara_X_Rice_Genes\")"
   ]
  },
  {
   "cell_type": "code",
   "execution_count": 12,
   "metadata": {
    "collapsed": false
   },
   "outputs": [
    {
     "data": {
      "text/plain": [
       "528"
      ]
     },
     "execution_count": 12,
     "metadata": {},
     "output_type": "execute_result"
    }
   ],
   "source": [
    "len(networkList)"
   ]
  },
  {
   "cell_type": "code",
   "execution_count": 13,
   "metadata": {
    "collapsed": false
   },
   "outputs": [
    {
     "data": {
      "text/plain": [
       "65"
      ]
     },
     "execution_count": 13,
     "metadata": {},
     "output_type": "execute_result"
    }
   ],
   "source": [
    "len(geneList)"
   ]
  },
  {
   "cell_type": "code",
   "execution_count": 14,
   "metadata": {
    "collapsed": false
   },
   "outputs": [
    {
     "data": {
      "text/plain": [
       "23"
      ]
     },
     "execution_count": 14,
     "metadata": {},
     "output_type": "execute_result"
    }
   ],
   "source": [
    "len(metabolites)"
   ]
  },
  {
   "cell_type": "code",
   "execution_count": 15,
   "metadata": {
    "collapsed": false
   },
   "outputs": [
    {
     "data": {
      "text/plain": [
       "{'corr': 401,\n",
       " 'met:Aracyc': 38,\n",
       " 'met:Irc:KEGG': 10,\n",
       " 'met:rc:KEGG': 4,\n",
       " 'negCorr': 67,\n",
       " 'pp:AtPID': 3,\n",
       " 'pp:EnsemblBiomartBioGrid40': 4,\n",
       " 'pp:Inparanoid_onetomanyBioGrid40': 1}"
      ]
     },
     "execution_count": 15,
     "metadata": {},
     "output_type": "execute_result"
    }
   ],
   "source": [
    "edgeCount"
   ]
  },
  {
   "cell_type": "code",
   "execution_count": null,
   "metadata": {
    "collapsed": true
   },
   "outputs": [],
   "source": [
    "#### Rice Stats ########"
   ]
  },
  {
   "cell_type": "code",
   "execution_count": 20,
   "metadata": {
    "collapsed": false
   },
   "outputs": [
    {
     "name": "stdout",
     "output_type": "stream",
     "text": [
      "Genes 58\n",
      "metabolites 23\n",
      "interactions 396\n",
      "{'negCorr': 54, 'pp:Geisler:Interactome': 1, 'pp:PRIN:HighConfidence': 2, 'corr': 298, 'pp:PRIN:HighCoverage': 7, 'met:Ricecyc': 34}\n"
     ]
    }
   ],
   "source": [
    "geneList, edgeCount, networkList, metabolites = netStatsRice(\"Rice_Ara_UnionMCL.SIF\")\n",
    "print \"Genes\", len(geneList)\n",
    "print \"metabolites\" , len(metabolites)\n",
    "print \"interactions\", len(networkList)\n",
    "print edgeCount\n",
    "saveGeneList(geneList,\"Rice_Ara_UnionGenes.txt\",\">Rice_X_Ara_Genes\")"
   ]
  },
  {
   "cell_type": "code",
   "execution_count": null,
   "metadata": {
    "collapsed": true
   },
   "outputs": [],
   "source": []
  },
  {
   "cell_type": "code",
   "execution_count": null,
   "metadata": {
    "collapsed": true
   },
   "outputs": [],
   "source": [
    "#################\n",
    "# Maize x Ara\n",
    "################"
   ]
  },
  {
   "cell_type": "code",
   "execution_count": 21,
   "metadata": {
    "collapsed": false
   },
   "outputs": [
    {
     "name": "stdout",
     "output_type": "stream",
     "text": [
      "C:\\Users\\Greg Hamilton\\Desktop\\Thesis\\ThesisWriting\\CaseStudy3\\ConservedNetwork\\MaizeXAra\n"
     ]
    }
   ],
   "source": [
    "cd ../MaizeXAra/"
   ]
  },
  {
   "cell_type": "code",
   "execution_count": 23,
   "metadata": {
    "collapsed": true
   },
   "outputs": [],
   "source": [
    "unionNetworks(\"AraRootsMaizeExp1MCL.SIF\",\"AraShootsMaizeExp1MCL.SIF\",\"Ara_MaizeExp1_UnionMCL.SIF\")\n",
    "unionNetworks(\"AraRootsMaizeExp2MCL.SIF\",\"AraShootsMaizeExp2MCL.SIF\",\"Ara_MaizeExp2_UnionMCL.SIF\")\n",
    "unionNetworks(\"AraRootsMaizeExp4MCL.SIF\",\"AraShootsMaizeExp4MCL.SIF\",\"Ara_MaizeExp4_UnionMCL.SIF\")\n",
    "unionNetworks(\"AraRootsMaizeExp5MCL.SIF\",\"AraShootsMaizeExp5MCL.SIF\",\"Ara_MaizeExp5_UnionMCL.SIF\")"
   ]
  },
  {
   "cell_type": "code",
   "execution_count": 25,
   "metadata": {
    "collapsed": false
   },
   "outputs": [],
   "source": [
    "unionNetworks(\"MaizeExp1AraRootsMCL.SIF\",\"MaizeExp1AraShootsMCL.SIF\",\"MaizeExp1_Ara_UnionMCL.SIF\")\n",
    "unionNetworks(\"MaizeExp2AraRootsMCL.SIF\",\"MaizeExp2AraShootsMCL.SIF\",\"MaizeExp2_Ara_UnionMCL.SIF\")\n",
    "unionNetworks(\"MaizeExp4AraRootsMCL.SIF\",\"MaizeExp4AraShootsMCL.SIF\",\"MaizeExp4_Ara_UnionMCL.SIF\")\n",
    "unionNetworks(\"MaizeExp5AraRootsMCL.SIF\",\"MaizeExp5AraShootsMCL.SIF\",\"MaizeExp5_Ara_UnionMCL.SIF\")"
   ]
  },
  {
   "cell_type": "code",
   "execution_count": 26,
   "metadata": {
    "collapsed": true
   },
   "outputs": [],
   "source": [
    "##### Ara Stats ####\n",
    "# Exp1"
   ]
  },
  {
   "cell_type": "code",
   "execution_count": 32,
   "metadata": {
    "collapsed": false
   },
   "outputs": [
    {
     "name": "stdout",
     "output_type": "stream",
     "text": [
      "Genes 394\n",
      "metabolites 98\n",
      "interactions 18991\n",
      "{'met:Irv:KEGG': 8, 'pp:AtPID': 9, 'pp:Inparanoid_onetomanyDIP': 1, 'met:Aracyc': 164, 'pp:EnsemblBiomartBioGrid40': 15, 'met:rv:KEGG': 4, 'pp:Inparanoid_onetomanyBioGrid40': 7, 'pp:EckerLiterature': 2, 'pp:InparanoidBioGrid40': 7, 'pp:Braun': 6, 'met:rc:KEGG': 14, 'corr': 12868, 'pp:BIND': 1, 'met:Irc:KEGG': 39, 'pp:EckerArray': 4, 'negCorr': 5842}\n"
     ]
    }
   ],
   "source": [
    "geneList, edgeCount, networkList, metabolites = netStatsAra(\"Ara_MaizeExp1_UnionMCL.SIF\")\n",
    "print \"Genes\", len(geneList)\n",
    "print \"metabolites\" , len(metabolites)\n",
    "print \"interactions\", len(networkList)\n",
    "print edgeCount\n",
    "saveGeneList(geneList,\"Ara_MaizeExp1_UnionGenes.txt\",\">Ara_X_MaizeExp1_Genes\")"
   ]
  },
  {
   "cell_type": "code",
   "execution_count": 27,
   "metadata": {
    "collapsed": true
   },
   "outputs": [],
   "source": [
    "# Exp2"
   ]
  },
  {
   "cell_type": "code",
   "execution_count": 33,
   "metadata": {
    "collapsed": false
   },
   "outputs": [
    {
     "name": "stdout",
     "output_type": "stream",
     "text": [
      "Genes 354\n",
      "metabolites 89\n",
      "interactions 10940\n",
      "{'met:Irv:KEGG': 4, 'pp:AtPID': 8, 'pp:EckerArray': 4, 'met:Aracyc': 149, 'pp:EnsemblBiomartBioGrid40': 11, 'met:rv:KEGG': 3, 'pp:Inparanoid_onetomanyBioGrid40': 7, 'pp:EckerLiterature': 2, 'pp:InparanoidBioGrid40': 9, 'pp:Braun': 6, 'met:Irc:KEGG': 41, 'corr': 7721, 'pp:BIND': 1, 'met:rc:KEGG': 12, 'negCorr': 2961, 'pp:Inparanoid_onetomanyDIP': 1}\n"
     ]
    }
   ],
   "source": [
    "geneList, edgeCount, networkList, metabolites = netStatsAra(\"Ara_MaizeExp2_UnionMCL.SIF\")\n",
    "print \"Genes\", len(geneList)\n",
    "print \"metabolites\" , len(metabolites)\n",
    "print \"interactions\", len(networkList)\n",
    "print edgeCount\n",
    "saveGeneList(geneList,\"Ara_MaizeExp2_UnionGenes.txt\",\">Ara_X_MaizeExp2_Genes\")"
   ]
  },
  {
   "cell_type": "code",
   "execution_count": null,
   "metadata": {
    "collapsed": true
   },
   "outputs": [],
   "source": []
  },
  {
   "cell_type": "code",
   "execution_count": null,
   "metadata": {
    "collapsed": true
   },
   "outputs": [],
   "source": [
    "# Exp4"
   ]
  },
  {
   "cell_type": "code",
   "execution_count": 34,
   "metadata": {
    "collapsed": false
   },
   "outputs": [
    {
     "name": "stdout",
     "output_type": "stream",
     "text": [
      "Genes 63\n",
      "metabolites 35\n",
      "interactions 652\n",
      "{'negCorr': 182, 'met:Aracyc': 52, 'pp:EnsemblBiomartBioGrid40': 3, 'met:rv:KEGG': 2, 'pp:Inparanoid_onetomanyBioGrid40': 1, 'pp:InparanoidBioGrid40': 2, 'met:Irc:KEGG': 6, 'corr': 395, 'met:rc:KEGG': 7, 'met:Irv:KEGG': 2}\n"
     ]
    }
   ],
   "source": [
    "geneList, edgeCount, networkList, metabolites = netStatsAra(\"Ara_MaizeExp4_UnionMCL.SIF\")\n",
    "print \"Genes\", len(geneList)\n",
    "print \"metabolites\" , len(metabolites)\n",
    "print \"interactions\", len(networkList)\n",
    "print edgeCount\n",
    "saveGeneList(geneList,\"Ara_MaizeExp4_UnionGenes.txt\",\">Ara_X_MaizeExp4_Genes\")"
   ]
  },
  {
   "cell_type": "code",
   "execution_count": null,
   "metadata": {
    "collapsed": true
   },
   "outputs": [],
   "source": []
  },
  {
   "cell_type": "code",
   "execution_count": null,
   "metadata": {
    "collapsed": true
   },
   "outputs": [],
   "source": [
    "# Exp5"
   ]
  },
  {
   "cell_type": "code",
   "execution_count": 35,
   "metadata": {
    "collapsed": false
   },
   "outputs": [
    {
     "name": "stdout",
     "output_type": "stream",
     "text": [
      "Genes 193\n",
      "metabolites 53\n",
      "interactions 3381\n",
      "{'met:Irv:KEGG': 2, 'pp:AtPID': 2, 'met:Aracyc': 77, 'pp:EnsemblBiomartBioGrid40': 6, 'met:rv:KEGG': 1, 'pp:Inparanoid_onetomanyBioGrid40': 1, 'pp:InparanoidBioGrid40': 1, 'met:rc:KEGG': 10, 'corr': 2012, 'met:Irc:KEGG': 15, 'negCorr': 1254}\n"
     ]
    }
   ],
   "source": [
    "geneList, edgeCount, networkList, metabolites = netStatsAra(\"Ara_MaizeExp5_UnionMCL.SIF\")\n",
    "print \"Genes\", len(geneList)\n",
    "print \"metabolites\" , len(metabolites)\n",
    "print \"interactions\", len(networkList)\n",
    "print edgeCount\n",
    "saveGeneList(geneList,\"Ara_MaizeExp5_UnionGenes.txt\",\">Ara_X_MaizeExp5_Genes\")"
   ]
  },
  {
   "cell_type": "code",
   "execution_count": null,
   "metadata": {
    "collapsed": true
   },
   "outputs": [],
   "source": []
  },
  {
   "cell_type": "code",
   "execution_count": null,
   "metadata": {
    "collapsed": true
   },
   "outputs": [],
   "source": []
  },
  {
   "cell_type": "code",
   "execution_count": 28,
   "metadata": {
    "collapsed": true
   },
   "outputs": [],
   "source": [
    "##### Maize Stats ####\n",
    "# Exp1"
   ]
  },
  {
   "cell_type": "code",
   "execution_count": 37,
   "metadata": {
    "collapsed": false
   },
   "outputs": [
    {
     "name": "stdout",
     "output_type": "stream",
     "text": [
      "Genes 534\n",
      "metabolites 98\n",
      "interactions 29029\n",
      "{'met:Corncyc': 276, 'negCorr': 9017, 'pp:medium': 123, 'corr': 19566, 'pp:high': 47}\n"
     ]
    }
   ],
   "source": [
    "geneList, edgeCount, networkList, metabolites = netStatsMaize(\"MaizeExp1_Ara_UnionMCL.SIF\")\n",
    "print \"Genes\", len(geneList)\n",
    "print \"metabolites\" , len(metabolites)\n",
    "print \"interactions\", len(networkList)\n",
    "print edgeCount\n",
    "saveGeneList(geneList,\"MaizeExp1_Ara_UnionGenes.txt\",\">MaizeExp1_X_Ara_Genes\")"
   ]
  },
  {
   "cell_type": "code",
   "execution_count": null,
   "metadata": {
    "collapsed": true
   },
   "outputs": [],
   "source": []
  },
  {
   "cell_type": "code",
   "execution_count": 29,
   "metadata": {
    "collapsed": true
   },
   "outputs": [],
   "source": [
    "# Exp2"
   ]
  },
  {
   "cell_type": "code",
   "execution_count": 38,
   "metadata": {
    "collapsed": false
   },
   "outputs": [
    {
     "name": "stdout",
     "output_type": "stream",
     "text": [
      "Genes 463\n",
      "metabolites 89\n",
      "interactions 14550\n",
      "{'met:Corncyc': 246, 'negCorr': 3964, 'pp:medium': 80, 'corr': 10223, 'pp:high': 37}\n"
     ]
    }
   ],
   "source": [
    "geneList, edgeCount, networkList, metabolites = netStatsMaize(\"MaizeExp2_Ara_UnionMCL.SIF\")\n",
    "print \"Genes\", len(geneList)\n",
    "print \"metabolites\" , len(metabolites)\n",
    "print \"interactions\", len(networkList)\n",
    "print edgeCount\n",
    "saveGeneList(geneList,\"MaizeExp2_Ara_UnionGenes.txt\",\">MaizeExp2_X_Ara_Genes\")"
   ]
  },
  {
   "cell_type": "code",
   "execution_count": null,
   "metadata": {
    "collapsed": true
   },
   "outputs": [],
   "source": []
  },
  {
   "cell_type": "code",
   "execution_count": 30,
   "metadata": {
    "collapsed": true
   },
   "outputs": [],
   "source": [
    "# Exp4"
   ]
  },
  {
   "cell_type": "code",
   "execution_count": 39,
   "metadata": {
    "collapsed": false
   },
   "outputs": [
    {
     "name": "stdout",
     "output_type": "stream",
     "text": [
      "Genes 58\n",
      "metabolites 35\n",
      "interactions 604\n",
      "{'met:Corncyc': 48, 'negCorr': 175, 'pp:medium': 2, 'corr': 377, 'pp:high': 2}\n"
     ]
    }
   ],
   "source": [
    "geneList, edgeCount, networkList, metabolites = netStatsMaize(\"MaizeExp4_Ara_UnionMCL.SIF\")\n",
    "print \"Genes\", len(geneList)\n",
    "print \"metabolites\" , len(metabolites)\n",
    "print \"interactions\", len(networkList)\n",
    "print edgeCount\n",
    "saveGeneList(geneList,\"MaizeExp4_Ara_UnionGenes.txt\",\">MaizeExp4_X_Ara_Genes\")"
   ]
  },
  {
   "cell_type": "code",
   "execution_count": null,
   "metadata": {
    "collapsed": true
   },
   "outputs": [],
   "source": []
  },
  {
   "cell_type": "code",
   "execution_count": 31,
   "metadata": {
    "collapsed": true
   },
   "outputs": [],
   "source": [
    "# Exp5"
   ]
  },
  {
   "cell_type": "code",
   "execution_count": 40,
   "metadata": {
    "collapsed": false
   },
   "outputs": [
    {
     "name": "stdout",
     "output_type": "stream",
     "text": [
      "Genes 190\n",
      "metabolites 53\n",
      "interactions 3294\n",
      "{'met:Corncyc': 71, 'negCorr': 1230, 'pp:medium': 5, 'pp:high': 6, 'corr': 1982}\n"
     ]
    }
   ],
   "source": [
    "geneList, edgeCount, networkList, metabolites = netStatsMaize(\"MaizeExp5_Ara_UnionMCL.SIF\")\n",
    "print \"Genes\", len(geneList)\n",
    "print \"metabolites\" , len(metabolites)\n",
    "print \"interactions\", len(networkList)\n",
    "print edgeCount\n",
    "saveGeneList(geneList,\"MaizeExp5_Ara_UnionGenes.txt\",\">MaizeExp5_X_Ara_Genes\")"
   ]
  },
  {
   "cell_type": "code",
   "execution_count": null,
   "metadata": {
    "collapsed": true
   },
   "outputs": [],
   "source": []
  },
  {
   "cell_type": "code",
   "execution_count": null,
   "metadata": {
    "collapsed": true
   },
   "outputs": [],
   "source": [
    "###############################\n",
    "# Maize X Rice\n",
    "################################"
   ]
  },
  {
   "cell_type": "code",
   "execution_count": 42,
   "metadata": {
    "collapsed": false
   },
   "outputs": [
    {
     "name": "stdout",
     "output_type": "stream",
     "text": [
      "C:\\Users\\Greg Hamilton\\Desktop\\Thesis\\ThesisWriting\\CaseStudy3\\ConservedNetwork\\RIceXMaize\n"
     ]
    }
   ],
   "source": [
    "cd ../RIceXMaize/"
   ]
  },
  {
   "cell_type": "code",
   "execution_count": 45,
   "metadata": {
    "collapsed": false
   },
   "outputs": [],
   "source": [
    "unionNetworks(\"RiceRootsMaizeExp1.SIF\",\"RiceShootsMaizeExp1.SIF\",\"Rice_MaizeExp1_UnionMCL.SIF\")\n",
    "unionNetworks(\"RiceRootsMaizeExp2.SIF\",\"RiceShootsMaizeExp2.SIF\",\"Rice_MaizeExp2_UnionMCL.SIF\")\n",
    "unionNetworks(\"RiceRootsMaizeExp4.SIF\",\"RiceShootsMaizeExp4.SIF\",\"Rice_MaizeExp4_UnionMCL.SIF\")\n",
    "unionNetworks(\"RiceRootsMaizeExp5.SIF\",\"RiceShootsMaizeExp5.SIF\",\"Rice_MaizeExp5_UnionMCL.SIF\")"
   ]
  },
  {
   "cell_type": "code",
   "execution_count": 46,
   "metadata": {
    "collapsed": true
   },
   "outputs": [],
   "source": [
    "unionNetworks(\"MaizeExp1RiceRoots.SIF\",\"MaizeExp1RiceShoots.SIF\",\"MaizeExp1_Rice_UnionMCL.SIF\")\n",
    "unionNetworks(\"MaizeExp2RiceRoots.SIF\",\"MaizeExp2RiceShoots.SIF\",\"MaizeExp2_Rice_UnionMCL.SIF\")\n",
    "unionNetworks(\"MaizeExp4RiceRoots.SIF\",\"MaizeExp4RiceShoots.SIF\",\"MaizeExp4_Rice_UnionMCL.SIF\")\n",
    "unionNetworks(\"MaizeExp5RiceRoots.SIF\",\"MaizeExp5RiceShoots.SIF\",\"MaizeExp5_Rice_UnionMCL.SIF\")"
   ]
  },
  {
   "cell_type": "code",
   "execution_count": 47,
   "metadata": {
    "collapsed": true
   },
   "outputs": [],
   "source": [
    "#### Rice stats ###"
   ]
  },
  {
   "cell_type": "code",
   "execution_count": 49,
   "metadata": {
    "collapsed": true
   },
   "outputs": [],
   "source": [
    "#Exp1"
   ]
  },
  {
   "cell_type": "code",
   "execution_count": 50,
   "metadata": {
    "collapsed": false
   },
   "outputs": [
    {
     "name": "stdout",
     "output_type": "stream",
     "text": [
      "Genes 149\n",
      "metabolites 40\n",
      "interactions 2372\n",
      "{'pp:PRIN:HighCoverage': 34, 'pp:Geisler:Interactome': 3, 'pp:PRIN:HighConfidence': 5, 'corr': 1619, 'negCorr': 651, 'met:Ricecyc': 60}\n"
     ]
    }
   ],
   "source": [
    "geneList, edgeCount, networkList, metabolites = netStatsRice(\"Rice_MaizeExp1_UnionMCL.SIF\")\n",
    "print \"Genes\", len(geneList)\n",
    "print \"metabolites\" , len(metabolites)\n",
    "print \"interactions\", len(networkList)\n",
    "print edgeCount\n",
    "saveGeneList(geneList,\"Rice_MaizeExp1_UnionGenes.txt\",\">Rice_X_MaizeExp1_Genes\")"
   ]
  },
  {
   "cell_type": "code",
   "execution_count": null,
   "metadata": {
    "collapsed": true
   },
   "outputs": [],
   "source": []
  },
  {
   "cell_type": "code",
   "execution_count": null,
   "metadata": {
    "collapsed": true
   },
   "outputs": [],
   "source": [
    "#Exp2"
   ]
  },
  {
   "cell_type": "code",
   "execution_count": 51,
   "metadata": {
    "collapsed": false
   },
   "outputs": [
    {
     "name": "stdout",
     "output_type": "stream",
     "text": [
      "Genes 131\n",
      "metabolites 40\n",
      "interactions 1530\n",
      "{'pp:PRIN:HighCoverage': 43, 'pp:Geisler:Interactome': 2, 'pp:PRIN:HighConfidence': 4, 'corr': 1081, 'negCorr': 340, 'met:Ricecyc': 60}\n"
     ]
    }
   ],
   "source": [
    "geneList, edgeCount, networkList, metabolites = netStatsRice(\"Rice_MaizeExp2_UnionMCL.SIF\")\n",
    "print \"Genes\", len(geneList)\n",
    "print \"metabolites\" , len(metabolites)\n",
    "print \"interactions\", len(networkList)\n",
    "print edgeCount\n",
    "saveGeneList(geneList,\"Rice_MaizeExp2_UnionGenes.txt\",\">Rice_X_MaizeExp2_Genes\")"
   ]
  },
  {
   "cell_type": "code",
   "execution_count": null,
   "metadata": {
    "collapsed": true
   },
   "outputs": [],
   "source": [
    "# Exp4"
   ]
  },
  {
   "cell_type": "code",
   "execution_count": 52,
   "metadata": {
    "collapsed": false
   },
   "outputs": [
    {
     "name": "stdout",
     "output_type": "stream",
     "text": [
      "Genes 36\n",
      "metabolites 18\n",
      "interactions 321\n",
      "{'negCorr': 71, 'pp:PRIN:HighCoverage': 3, 'met:Ricecyc': 23, 'corr': 224}\n"
     ]
    }
   ],
   "source": [
    "geneList, edgeCount, networkList, metabolites = netStatsRice(\"Rice_MaizeExp4_UnionMCL.SIF\")\n",
    "print \"Genes\", len(geneList)\n",
    "print \"metabolites\" , len(metabolites)\n",
    "print \"interactions\", len(networkList)\n",
    "print edgeCount\n",
    "saveGeneList(geneList,\"Rice_MaizeExp4_UnionGenes.txt\",\">Rice_X_MaizeExp4_Genes\")"
   ]
  },
  {
   "cell_type": "code",
   "execution_count": null,
   "metadata": {
    "collapsed": true
   },
   "outputs": [],
   "source": []
  },
  {
   "cell_type": "code",
   "execution_count": null,
   "metadata": {
    "collapsed": true
   },
   "outputs": [],
   "source": [
    "# Exp5"
   ]
  },
  {
   "cell_type": "code",
   "execution_count": 53,
   "metadata": {
    "collapsed": false
   },
   "outputs": [
    {
     "name": "stdout",
     "output_type": "stream",
     "text": [
      "Genes 75\n",
      "metabolites 17\n",
      "interactions 535\n",
      "{'pp:PRIN:HighCoverage': 8, 'pp:Geisler:Interactome': 3, 'pp:PRIN:HighConfidence': 2, 'corr': 294, 'negCorr': 206, 'met:Ricecyc': 22}\n"
     ]
    }
   ],
   "source": [
    "geneList, edgeCount, networkList, metabolites = netStatsRice(\"Rice_MaizeExp5_UnionMCL.SIF\")\n",
    "print \"Genes\", len(geneList)\n",
    "print \"metabolites\" , len(metabolites)\n",
    "print \"interactions\", len(networkList)\n",
    "print edgeCount\n",
    "saveGeneList(geneList,\"Rice_MaizeExp5_UnionGenes.txt\",\">Rice_X_MaizeExp5_Genes\")"
   ]
  },
  {
   "cell_type": "code",
   "execution_count": null,
   "metadata": {
    "collapsed": true
   },
   "outputs": [],
   "source": [
    "############### \n",
    "# Maize Stats\n",
    "###############\n",
    "# Exp1"
   ]
  },
  {
   "cell_type": "code",
   "execution_count": 56,
   "metadata": {
    "collapsed": false
   },
   "outputs": [
    {
     "name": "stdout",
     "output_type": "stream",
     "text": [
      "Genes 237\n",
      "metabolites 40\n",
      "interactions 4923\n",
      "{'met:Corncyc': 122, 'negCorr': 1221, 'pp:medium': 147, 'corr': 3418, 'pp:high': 15}\n"
     ]
    }
   ],
   "source": [
    "geneList, edgeCount, networkList, metabolites = netStatsMaize(\"MaizeExp1_Rice_UnionMCL.SIF\")\n",
    "print \"Genes\", len(geneList)\n",
    "print \"metabolites\" , len(metabolites)\n",
    "print \"interactions\", len(networkList)\n",
    "print edgeCount\n",
    "saveGeneList(geneList,\"MaizeExp1_Rice_UnionGenes.txt\",\">MaizeExp1_X_Rice_Genes\")"
   ]
  },
  {
   "cell_type": "code",
   "execution_count": null,
   "metadata": {
    "collapsed": true
   },
   "outputs": [],
   "source": []
  },
  {
   "cell_type": "code",
   "execution_count": null,
   "metadata": {
    "collapsed": true
   },
   "outputs": [],
   "source": [
    "# Exp2"
   ]
  },
  {
   "cell_type": "code",
   "execution_count": 57,
   "metadata": {
    "collapsed": false
   },
   "outputs": [
    {
     "name": "stdout",
     "output_type": "stream",
     "text": [
      "Genes 195\n",
      "metabolites 40\n",
      "interactions 2449\n",
      "{'met:Corncyc': 113, 'negCorr': 500, 'pp:medium': 112, 'corr': 1710, 'pp:high': 14}\n"
     ]
    }
   ],
   "source": [
    "geneList, edgeCount, networkList, metabolites = netStatsMaize(\"MaizeExp2_Rice_UnionMCL.SIF\")\n",
    "print \"Genes\", len(geneList)\n",
    "print \"metabolites\" , len(metabolites)\n",
    "print \"interactions\", len(networkList)\n",
    "print edgeCount\n",
    "saveGeneList(geneList,\"MaizeExp2_Rice_UnionGenes.txt\",\">MaizeExp2_X_Rice_Genes\")"
   ]
  },
  {
   "cell_type": "code",
   "execution_count": 54,
   "metadata": {
    "collapsed": true
   },
   "outputs": [],
   "source": [
    "# Exp4"
   ]
  },
  {
   "cell_type": "code",
   "execution_count": 58,
   "metadata": {
    "collapsed": false
   },
   "outputs": [
    {
     "name": "stdout",
     "output_type": "stream",
     "text": [
      "Genes 34\n",
      "metabolites 18\n",
      "interactions 310\n",
      "{'met:Corncyc': 19, 'negCorr': 85, 'pp:medium': 2, 'pp:high': 1, 'corr': 203}\n"
     ]
    }
   ],
   "source": [
    "geneList, edgeCount, networkList, metabolites = netStatsMaize(\"MaizeExp4_Rice_UnionMCL.SIF\")\n",
    "print \"Genes\", len(geneList)\n",
    "print \"metabolites\" , len(metabolites)\n",
    "print \"interactions\", len(networkList)\n",
    "print edgeCount\n",
    "saveGeneList(geneList,\"MaizeExp4_Rice_UnionGenes.txt\",\">MaizeExp4_X_Rice_Genes\")"
   ]
  },
  {
   "cell_type": "code",
   "execution_count": 55,
   "metadata": {
    "collapsed": true
   },
   "outputs": [],
   "source": [
    "# Exp5"
   ]
  },
  {
   "cell_type": "code",
   "execution_count": 59,
   "metadata": {
    "collapsed": false
   },
   "outputs": [
    {
     "name": "stdout",
     "output_type": "stream",
     "text": [
      "Genes 81\n",
      "metabolites 17\n",
      "interactions 532\n",
      "{'met:Corncyc': 18, 'negCorr': 204, 'pp:medium': 5, 'corr': 304, 'pp:high': 1}\n"
     ]
    }
   ],
   "source": [
    "geneList, edgeCount, networkList, metabolites = netStatsMaize(\"MaizeExp5_Rice_UnionMCL.SIF\")\n",
    "print \"Genes\", len(geneList)\n",
    "print \"metabolites\" , len(metabolites)\n",
    "print \"interactions\", len(networkList)\n",
    "print edgeCount\n",
    "saveGeneList(geneList,\"MaizeExp5_Rice_UnionGenes.txt\",\">MaizeExp5_X_Rice_Genes\")"
   ]
  },
  {
   "cell_type": "code",
   "execution_count": null,
   "metadata": {
    "collapsed": true
   },
   "outputs": [],
   "source": []
  },
  {
   "cell_type": "code",
   "execution_count": null,
   "metadata": {
    "collapsed": true
   },
   "outputs": [],
   "source": []
  },
  {
   "cell_type": "code",
   "execution_count": null,
   "metadata": {
    "collapsed": true
   },
   "outputs": [],
   "source": []
  },
  {
   "cell_type": "code",
   "execution_count": null,
   "metadata": {
    "collapsed": true
   },
   "outputs": [],
   "source": [
    "######################################\n",
    "# Creating the intersect networks\n",
    "# then performing statitical anaylsis\n",
    "######################################"
   ]
  },
  {
   "cell_type": "code",
   "execution_count": 1,
   "metadata": {
    "collapsed": true
   },
   "outputs": [],
   "source": [
    "def intersectNetworks(netFile1,netFile2,outfile):\n",
    "    netList = []\n",
    "    from csv import writer\n",
    "    with open(netFile1,\"rb\",-1) as f:\n",
    "        \n",
    "        lines = [line.strip().split(\"\\t\") for line in f][1:]\n",
    "        \n",
    "        for i in lines:\n",
    "        \n",
    "            netList.append((i[0],i[1],i[2]))\n",
    "        \n",
    "        f.close()\n",
    "    net2list = []\n",
    "    with open(netFile2,\"rb\",-1) as f:\n",
    "        \n",
    "        lines = [line.strip().split(\"\\t\") for line in f][1:]\n",
    "        \n",
    "        for i in lines:\n",
    "                    \n",
    "            net2list.append((i[0],i[1],i[2]))\n",
    "                \n",
    "        f.close()\n",
    "    intersectNet = []\n",
    "    for i in netList:\n",
    "        if i in net2list:\n",
    "            intersectNet.append(i)\n",
    "            continue\n",
    "        if i not in net2list:\n",
    "            if \"pp:\" in i[1] or \"corr\" in i[1] or \"negCorr\" in i[1]:\n",
    "                if (i[2],i[1],i[0]) in net2list:\n",
    "                    intersectNet.append(i)\n",
    "    \n",
    "    for i in net2list:\n",
    "        if i in netList:\n",
    "            intersectNet.append(i)\n",
    "            continue\n",
    "        if i not in netList:\n",
    "            if \"pp:\" in i[1] or \"corr\" in i[1] or \"negCorr\" in i[1]:\n",
    "                if (i[2],i[1],i[0]) in netList:\n",
    "                    intersectNet.append(i)\n",
    "                    \n",
    "    intersectNet = list(set(intersectNet))\n",
    "    with open(outfile,\"wb\",-1) as o:\n",
    "        write = writer(o,delimiter=\"\\t\")\n",
    "        write.writerow([\"node_1\",\"edge\",\"node_2\"])\n",
    "        write.writerows(intersectNet)\n",
    "        o.close()\n",
    "        \n",
    "    return\n",
    "        "
   ]
  },
  {
   "cell_type": "code",
   "execution_count": null,
   "metadata": {
    "collapsed": true
   },
   "outputs": [],
   "source": []
  },
  {
   "cell_type": "code",
   "execution_count": 4,
   "metadata": {
    "collapsed": false
   },
   "outputs": [
    {
     "name": "stdout",
     "output_type": "stream",
     "text": [
      "C:\\Users\\Greg Hamilton\\Desktop\\Thesis\\ThesisWriting\\CaseStudy3\\ConservedNetwork\n"
     ]
    }
   ],
   "source": [
    "cd .."
   ]
  },
  {
   "cell_type": "code",
   "execution_count": 62,
   "metadata": {
    "collapsed": false
   },
   "outputs": [
    {
     "name": "stdout",
     "output_type": "stream",
     "text": [
      " Volume in drive C has no label.\n",
      " Volume Serial Number is 3656-8D3F\n",
      "\n",
      " Directory of C:\\Users\\Greg Hamilton\\Desktop\\Thesis\\ThesisWriting\\CaseStudy3\\ConservedNetwork\n",
      "\n",
      "05/02/2016  04:13 PM    <DIR>          .\n",
      "05/02/2016  04:13 PM    <DIR>          ..\n",
      "05/02/2016  03:40 PM    <DIR>          MaizeXAra\n",
      "05/02/2016  04:13 PM            18,274 NetworkStats.xlsx\n",
      "05/02/2016  02:54 PM    <DIR>          RiceXAra\n",
      "05/02/2016  04:13 PM    <DIR>          RIceXMaize\n",
      "               1 File(s)         18,274 bytes\n",
      "               5 Dir(s)  84,580,020,224 bytes free\n"
     ]
    }
   ],
   "source": [
    "ls"
   ]
  },
  {
   "cell_type": "code",
   "execution_count": 67,
   "metadata": {
    "collapsed": false
   },
   "outputs": [],
   "source": [
    "intersectNetworks(\"RiceXAra/Ara_Rice_UnionMCL.SIF\",\"MaizeXAra/Ara_MaizeExp5_UnionMCL.SIF\",\"Ara_Rice_MaizeExp5.SIF\")"
   ]
  },
  {
   "cell_type": "code",
   "execution_count": 68,
   "metadata": {
    "collapsed": true
   },
   "outputs": [],
   "source": [
    "intersectNetworks(\"RiceXAra/Rice_Ara_UnionMCL.SIF\",\"RIceXMaize/Rice_MaizeExp5_UnionMCL.SIF\",\"Rice_Ara_MaizeExp5.SIF\")"
   ]
  },
  {
   "cell_type": "code",
   "execution_count": 70,
   "metadata": {
    "collapsed": false
   },
   "outputs": [],
   "source": [
    "intersectNetworks(\"RIceXMaize/MaizeExp5_Rice_UnionMCL.SIF\",\"MaizeXAra/MaizeExp5_Ara_UnionMCL.SIF\",\"MaizeExp5_Ara_Rice.SIF\")"
   ]
  },
  {
   "cell_type": "code",
   "execution_count": null,
   "metadata": {
    "collapsed": true
   },
   "outputs": [],
   "source": []
  },
  {
   "cell_type": "code",
   "execution_count": null,
   "metadata": {
    "collapsed": true
   },
   "outputs": [],
   "source": [
    "### Maize"
   ]
  },
  {
   "cell_type": "code",
   "execution_count": 73,
   "metadata": {
    "collapsed": false
   },
   "outputs": [
    {
     "name": "stdout",
     "output_type": "stream",
     "text": [
      "Genes 22\n",
      "metabolites 10\n",
      "interactions 48\n",
      "{'met:Corncyc': 11, 'negCorr': 6, 'pp:medium': 1, 'corr': 29, 'pp:high': 1}\n"
     ]
    }
   ],
   "source": [
    "geneList, edgeCount, networkList, metabolites = netStatsMaize(\"MaizeExp5_Ara_Rice.SIF\")\n",
    "print \"Genes\", len(geneList)\n",
    "print \"metabolites\" , len(metabolites)\n",
    "print \"interactions\", len(networkList)\n",
    "print edgeCount\n",
    "saveGeneList(geneList,\"MaizeExp5_Rice_Ara_Genes.txt\",\">MaizeExp5_X_Rice_X_Ara_Genes\")"
   ]
  },
  {
   "cell_type": "code",
   "execution_count": null,
   "metadata": {
    "collapsed": true
   },
   "outputs": [],
   "source": []
  },
  {
   "cell_type": "code",
   "execution_count": null,
   "metadata": {
    "collapsed": true
   },
   "outputs": [],
   "source": []
  },
  {
   "cell_type": "code",
   "execution_count": null,
   "metadata": {
    "collapsed": true
   },
   "outputs": [],
   "source": [
    "## Ara"
   ]
  },
  {
   "cell_type": "code",
   "execution_count": 72,
   "metadata": {
    "collapsed": false
   },
   "outputs": [
    {
     "name": "stdout",
     "output_type": "stream",
     "text": [
      "Genes 20\n",
      "metabolites 12\n",
      "interactions 58\n",
      "{'pp:AtPID': 1, 'met:Aracyc': 19, 'pp:EnsemblBiomartBioGrid40': 1, 'met:Irc:KEGG': 3, 'corr': 20, 'met:rc:KEGG': 4, 'negCorr': 10}\n"
     ]
    }
   ],
   "source": [
    "geneList, edgeCount, networkList, metabolites = netStatsAra(\"Ara_Rice_MaizeExp5.SIF\")\n",
    "print \"Genes\", len(geneList)\n",
    "print \"metabolites\" , len(metabolites)\n",
    "print \"interactions\", len(networkList)\n",
    "print edgeCount\n",
    "saveGeneList(geneList,\"Ara_MaizeExp5_RiceGenes.txt\",\">Ara_X_MaizeExp5_X_RiceGenes\")"
   ]
  },
  {
   "cell_type": "code",
   "execution_count": null,
   "metadata": {
    "collapsed": true
   },
   "outputs": [],
   "source": []
  },
  {
   "cell_type": "code",
   "execution_count": null,
   "metadata": {
    "collapsed": true
   },
   "outputs": [],
   "source": []
  },
  {
   "cell_type": "code",
   "execution_count": null,
   "metadata": {
    "collapsed": true
   },
   "outputs": [],
   "source": [
    "### Rice"
   ]
  },
  {
   "cell_type": "code",
   "execution_count": 74,
   "metadata": {
    "collapsed": false
   },
   "outputs": [
    {
     "name": "stdout",
     "output_type": "stream",
     "text": [
      "Genes 17\n",
      "metabolites 12\n",
      "interactions 49\n",
      "{'pp:PRIN:HighCoverage': 2, 'pp:Geisler:Interactome': 1, 'pp:PRIN:HighConfidence': 1, 'corr': 22, 'negCorr': 7, 'met:Ricecyc': 16}\n"
     ]
    }
   ],
   "source": [
    "geneList, edgeCount, networkList, metabolites = netStatsRice(\"Rice_Ara_MaizeExp5.SIF\")\n",
    "print \"Genes\", len(geneList)\n",
    "print \"metabolites\" , len(metabolites)\n",
    "print \"interactions\", len(networkList)\n",
    "print edgeCount\n",
    "saveGeneList(geneList,\"Rice_MaizeExp5_Ara_Genes.txt\",\">Rice_X_MaizeExp5_X_Ara_Genes\")"
   ]
  },
  {
   "cell_type": "code",
   "execution_count": null,
   "metadata": {
    "collapsed": true
   },
   "outputs": [],
   "source": []
  },
  {
   "cell_type": "code",
   "execution_count": null,
   "metadata": {
    "collapsed": true
   },
   "outputs": [],
   "source": [
    "################################################\n",
    "#  Generating the other intersect Nets\n",
    "################################################\n"
   ]
  },
  {
   "cell_type": "code",
   "execution_count": 5,
   "metadata": {
    "collapsed": true
   },
   "outputs": [],
   "source": [
    "## Exp4\n",
    "intersectNetworks(\"RiceXAra/Ara_Rice_UnionMCL.SIF\",\"MaizeXAra/Ara_MaizeExp4_UnionMCL.SIF\",\"Ara_Rice_MaizeExp4.SIF\")\n",
    "intersectNetworks(\"RiceXAra/Rice_Ara_UnionMCL.SIF\",\"RIceXMaize/Rice_MaizeExp4_UnionMCL.SIF\",\"Rice_Ara_MaizeExp4.SIF\")\n",
    "intersectNetworks(\"RIceXMaize/MaizeExp4_Rice_UnionMCL.SIF\",\"MaizeXAra/MaizeExp4_Ara_UnionMCL.SIF\",\"MaizeExp4_Ara_Rice.SIF\")\n",
    "## Exp2\n",
    "intersectNetworks(\"RiceXAra/Ara_Rice_UnionMCL.SIF\",\"MaizeXAra/Ara_MaizeExp2_UnionMCL.SIF\",\"Ara_Rice_MaizeExp2.SIF\")\n",
    "intersectNetworks(\"RiceXAra/Rice_Ara_UnionMCL.SIF\",\"RIceXMaize/Rice_MaizeExp2_UnionMCL.SIF\",\"Rice_Ara_MaizeExp2.SIF\")\n",
    "intersectNetworks(\"RIceXMaize/MaizeExp2_Rice_UnionMCL.SIF\",\"MaizeXAra/MaizeExp2_Ara_UnionMCL.SIF\",\"MaizeExp2_Ara_Rice.SIF\")\n",
    "## Exp1\n",
    "intersectNetworks(\"RiceXAra/Ara_Rice_UnionMCL.SIF\",\"MaizeXAra/Ara_MaizeExp1_UnionMCL.SIF\",\"Ara_Rice_MaizeExp1.SIF\")\n",
    "intersectNetworks(\"RiceXAra/Rice_Ara_UnionMCL.SIF\",\"RIceXMaize/Rice_MaizeExp1_UnionMCL.SIF\",\"Rice_Ara_MaizeExp1.SIF\")\n",
    "intersectNetworks(\"RIceXMaize/MaizeExp1_Rice_UnionMCL.SIF\",\"MaizeXAra/MaizeExp1_Ara_UnionMCL.SIF\",\"MaizeExp1_Ara_Rice.SIF\")"
   ]
  },
  {
   "cell_type": "code",
   "execution_count": 6,
   "metadata": {
    "collapsed": true
   },
   "outputs": [],
   "source": [
    "########### Maize Stats"
   ]
  },
  {
   "cell_type": "code",
   "execution_count": 7,
   "metadata": {
    "collapsed": false
   },
   "outputs": [
    {
     "name": "stdout",
     "output_type": "stream",
     "text": [
      "Genes 18\n",
      "metabolites 17\n",
      "interactions 96\n",
      "{'met:Corncyc': 17, 'negCorr': 8, 'pp:medium': 2, 'corr': 69}\n"
     ]
    }
   ],
   "source": [
    "geneList, edgeCount, networkList, metabolites = netStatsMaize(\"MaizeExp4_Ara_Rice.SIF\")\n",
    "print \"Genes\", len(geneList)\n",
    "print \"metabolites\" , len(metabolites)\n",
    "print \"interactions\", len(networkList)\n",
    "print edgeCount\n",
    "saveGeneList(geneList,\"MaizeExp4_Rice_Ara_Genes.txt\",\">MaizeExp4_X_Rice_X_Ara_Genes\")"
   ]
  },
  {
   "cell_type": "code",
   "execution_count": 8,
   "metadata": {
    "collapsed": false
   },
   "outputs": [
    {
     "name": "stdout",
     "output_type": "stream",
     "text": [
      "Genes 103\n",
      "metabolites 21\n",
      "interactions 488\n",
      "{'met:Corncyc': 63, 'negCorr': 47, 'pp:medium': 67, 'corr': 299, 'pp:high': 12}\n"
     ]
    }
   ],
   "source": [
    "geneList, edgeCount, networkList, metabolites = netStatsMaize(\"MaizeExp2_Ara_Rice.SIF\")\n",
    "print \"Genes\", len(geneList)\n",
    "print \"metabolites\" , len(metabolites)\n",
    "print \"interactions\", len(networkList)\n",
    "print edgeCount\n",
    "saveGeneList(geneList,\"MaizeExp2_Rice_Ara_Genes.txt\",\">MaizeExp2_X_Rice_X_Ara_Genes\")"
   ]
  },
  {
   "cell_type": "code",
   "execution_count": 9,
   "metadata": {
    "collapsed": false
   },
   "outputs": [
    {
     "name": "stdout",
     "output_type": "stream",
     "text": [
      "Genes 122\n",
      "metabolites 21\n",
      "interactions 791\n",
      "{'met:Corncyc': 68, 'negCorr': 104, 'pp:medium': 93, 'corr': 514, 'pp:high': 12}\n"
     ]
    }
   ],
   "source": [
    "geneList, edgeCount, networkList, metabolites = netStatsMaize(\"MaizeExp1_Ara_Rice.SIF\")\n",
    "print \"Genes\", len(geneList)\n",
    "print \"metabolites\" , len(metabolites)\n",
    "print \"interactions\", len(networkList)\n",
    "print edgeCount\n",
    "saveGeneList(geneList,\"MaizeExp1_Rice_Ara_Genes.txt\",\">MaizeExp1_X_Rice_X_Ara_Genes\")"
   ]
  },
  {
   "cell_type": "code",
   "execution_count": null,
   "metadata": {
    "collapsed": true
   },
   "outputs": [],
   "source": [
    "############## Ara Stats"
   ]
  },
  {
   "cell_type": "code",
   "execution_count": 12,
   "metadata": {
    "collapsed": false
   },
   "outputs": [
    {
     "name": "stdout",
     "output_type": "stream",
     "text": [
      "Genes 20\n",
      "metabolites 17\n",
      "interactions 118\n",
      "{'met:Aracyc': 21, 'pp:EnsemblBiomartBioGrid40': 1, 'met:rc:KEGG': 4, 'corr': 76, 'met:Irc:KEGG': 5, 'negCorr': 11}\n"
     ]
    }
   ],
   "source": [
    "geneList, edgeCount, networkList, metabolites = netStatsAra(\"Ara_Rice_MaizeExp4.SIF\")\n",
    "print \"Genes\", len(geneList)\n",
    "print \"metabolites\" , len(metabolites)\n",
    "print \"interactions\", len(networkList)\n",
    "print edgeCount\n",
    "saveGeneList(geneList,\"Ara_MaizeExp4_RiceGenes.txt\",\">Ara_X_MaizeExp4_X_RiceGenes\")"
   ]
  },
  {
   "cell_type": "code",
   "execution_count": 11,
   "metadata": {
    "collapsed": false
   },
   "outputs": [
    {
     "name": "stdout",
     "output_type": "stream",
     "text": [
      "Genes 49\n",
      "metabolites 21\n",
      "interactions 249\n",
      "{'pp:AtPID': 2, 'met:Aracyc': 34, 'pp:EnsemblBiomartBioGrid40': 3, 'pp:Inparanoid_onetomanyBioGrid40': 1, 'met:Irc:KEGG': 9, 'corr': 180, 'met:rc:KEGG': 4, 'negCorr': 16}\n"
     ]
    }
   ],
   "source": [
    "geneList, edgeCount, networkList, metabolites = netStatsAra(\"Ara_Rice_MaizeExp2.SIF\")\n",
    "print \"Genes\", len(geneList)\n",
    "print \"metabolites\" , len(metabolites)\n",
    "print \"interactions\", len(networkList)\n",
    "print edgeCount\n",
    "saveGeneList(geneList,\"Ara_MaizeExp2_RiceGenes.txt\",\">Ara_X_MaizeExp2_X_RiceGenes\")"
   ]
  },
  {
   "cell_type": "code",
   "execution_count": 10,
   "metadata": {
    "collapsed": false
   },
   "outputs": [
    {
     "name": "stdout",
     "output_type": "stream",
     "text": [
      "Genes 53\n",
      "metabolites 21\n",
      "interactions 314\n",
      "{'pp:AtPID': 3, 'met:Aracyc': 35, 'pp:EnsemblBiomartBioGrid40': 4, 'pp:Inparanoid_onetomanyBioGrid40': 1, 'met:Irc:KEGG': 9, 'corr': 222, 'met:rc:KEGG': 4, 'negCorr': 36}\n"
     ]
    }
   ],
   "source": [
    "geneList, edgeCount, networkList, metabolites = netStatsAra(\"Ara_Rice_MaizeExp1.SIF\")\n",
    "print \"Genes\", len(geneList)\n",
    "print \"metabolites\" , len(metabolites)\n",
    "print \"interactions\", len(networkList)\n",
    "print edgeCount\n",
    "saveGeneList(geneList,\"Ara_MaizeExp1_RiceGenes.txt\",\">Ara_X_MaizeExp1_X_RiceGenes\")"
   ]
  },
  {
   "cell_type": "code",
   "execution_count": null,
   "metadata": {
    "collapsed": true
   },
   "outputs": [],
   "source": [
    "###### Rice Stats"
   ]
  },
  {
   "cell_type": "code",
   "execution_count": 13,
   "metadata": {
    "collapsed": false
   },
   "outputs": [
    {
     "name": "stdout",
     "output_type": "stream",
     "text": [
      "Genes 15\n",
      "metabolites 17\n",
      "interactions 81\n",
      "{'negCorr': 7, 'pp:PRIN:HighCoverage': 1, 'met:Ricecyc': 21, 'corr': 52}\n"
     ]
    }
   ],
   "source": [
    "geneList, edgeCount, networkList, metabolites = netStatsRice(\"Rice_Ara_MaizeExp4.SIF\")\n",
    "print \"Genes\", len(geneList)\n",
    "print \"metabolites\" , len(metabolites)\n",
    "print \"interactions\", len(networkList)\n",
    "print edgeCount\n",
    "saveGeneList(geneList,\"Rice_MaizeExp4_Ara_Genes.txt\",\">Rice_X_MaizeExp4_X_Ara_Genes\")"
   ]
  },
  {
   "cell_type": "code",
   "execution_count": 14,
   "metadata": {
    "collapsed": false
   },
   "outputs": [
    {
     "name": "stdout",
     "output_type": "stream",
     "text": [
      "Genes 42\n",
      "metabolites 23\n",
      "interactions 185\n",
      "{'negCorr': 13, 'pp:PRIN:HighCoverage': 4, 'met:Ricecyc': 33, 'corr': 135}\n"
     ]
    }
   ],
   "source": [
    "geneList, edgeCount, networkList, metabolites = netStatsRice(\"Rice_Ara_MaizeExp2.SIF\")\n",
    "print \"Genes\", len(geneList)\n",
    "print \"metabolites\" , len(metabolites)\n",
    "print \"interactions\", len(networkList)\n",
    "print edgeCount\n",
    "saveGeneList(geneList,\"Rice_MaizeExp2_Ara_Genes.txt\",\">Rice_X_MaizeExp2_X_Ara_Genes\")"
   ]
  },
  {
   "cell_type": "code",
   "execution_count": 15,
   "metadata": {
    "collapsed": false
   },
   "outputs": [
    {
     "name": "stdout",
     "output_type": "stream",
     "text": [
      "Genes 45\n",
      "metabolites 23\n",
      "interactions 221\n",
      "{'negCorr': 28, 'pp:Geisler:Interactome': 1, 'pp:PRIN:HighConfidence': 1, 'corr': 152, 'pp:PRIN:HighCoverage': 6, 'met:Ricecyc': 33}\n"
     ]
    }
   ],
   "source": [
    "geneList, edgeCount, networkList, metabolites = netStatsRice(\"Rice_Ara_MaizeExp1.SIF\")\n",
    "print \"Genes\", len(geneList)\n",
    "print \"metabolites\" , len(metabolites)\n",
    "print \"interactions\", len(networkList)\n",
    "print edgeCount\n",
    "saveGeneList(geneList,\"Rice_MaizeExp1_Ara_Genes.txt\",\">Rice_X_MaizeExp1_X_Ara_Genes\")"
   ]
  },
  {
   "cell_type": "code",
   "execution_count": null,
   "metadata": {
    "collapsed": true
   },
   "outputs": [],
   "source": []
  },
  {
   "cell_type": "code",
   "execution_count": null,
   "metadata": {
    "collapsed": true
   },
   "outputs": [],
   "source": []
  },
  {
   "cell_type": "code",
   "execution_count": null,
   "metadata": {
    "collapsed": true
   },
   "outputs": [],
   "source": [
    "def intersectNetworks(netFile1,netFile2,outfile):\n",
    "    netList = []\n",
    "    from csv import writer\n",
    "    with open(netFile1,\"rb\",-1) as f:\n",
    "        \n",
    "        lines = [line.strip().split(\"\\t\") for line in f][1:]\n",
    "        \n",
    "        for i in lines:\n",
    "        \n",
    "            netList.append((i[0],i[1],i[2]))\n",
    "        \n",
    "        f.close()\n",
    "    net2list = []\n",
    "    with open(netFile2,\"rb\",-1) as f:\n",
    "        \n",
    "        lines = [line.strip().split(\"\\t\") for line in f][1:]\n",
    "        \n",
    "        for i in lines:\n",
    "                    \n",
    "            net2list.append((i[0],i[1],i[2]))\n",
    "                \n",
    "        f.close()\n",
    "    intersectNet = []\n",
    "    for i in netList:\n",
    "        if i in net2list:\n",
    "            intersectNet.append(i)\n",
    "            continue\n",
    "        if i not in net2list:\n",
    "            if \"pp:\" in i[1] or \"corr\" in i[1] or \"negCorr\" in i[1]:\n",
    "                if (i[2],i[1],i[0]) in net2list:\n",
    "                    intersectNet.append(i)\n",
    "    \n",
    "    for i in net2list:\n",
    "        if i in netList:\n",
    "            intersectNet.append(i)\n",
    "            continue\n",
    "        if i not in netList:\n",
    "            if \"pp:\" in i[1] or \"corr\" in i[1] or \"negCorr\" in i[1]:\n",
    "                if (i[2],i[1],i[0]) in netList:\n",
    "                    intersectNet.append(i)\n",
    "                    \n",
    "    intersectNet = list(set(intersectNet))\n",
    "    with open(outfile,\"wb\",-1) as o:\n",
    "        write = writer(o,delimiter=\"\\t\")\n",
    "        write.writerow([\"node_1\",\"edge\",\"node_2\"])\n",
    "        write.writerows(intersectNet)\n",
    "        o.close()\n",
    "        \n",
    "    return\n",
    "        "
   ]
  },
  {
   "cell_type": "code",
   "execution_count": 3,
   "metadata": {
    "collapsed": false
   },
   "outputs": [
    {
     "name": "stdout",
     "output_type": "stream",
     "text": [
      "C:\\Users\\Greg Hamilton\\Desktop\\Thesis\\ThesisWriting\\CaseStudy3\\ConservedNetwork\\IntersectGeneLists\\Ara\n"
     ]
    }
   ],
   "source": [
    "cd ../../../../CaseStudy3/ConservedNetwork/IntersectGeneLists/Ara/"
   ]
  },
  {
   "cell_type": "code",
   "execution_count": 4,
   "metadata": {
    "collapsed": true
   },
   "outputs": [],
   "source": [
    "AraGeneList = []\n",
    "with open(\"Ara_MaizeExp4_RiceGenes.txt\",\"rb\",-1) as f:\n",
    "    for line in f:\n",
    "        if \">\" not in line:\n",
    "            line = line.strip()\n",
    "            AraGeneList.append(line)"
   ]
  },
  {
   "cell_type": "code",
   "execution_count": 6,
   "metadata": {
    "collapsed": false
   },
   "outputs": [
    {
     "name": "stdout",
     "output_type": "stream",
     "text": [
      "C:\\Users\\Greg Hamilton\\Desktop\\Thesis\\ThesisWriting\\SupplementaryFiles\\Network_data\\Arabidopsis_data\n"
     ]
    }
   ],
   "source": [
    "cd ../../../../SupplementaryFiles/Network_data/Arabidopsis_data/"
   ]
  },
  {
   "cell_type": "code",
   "execution_count": 10,
   "metadata": {
    "collapsed": false
   },
   "outputs": [
    {
     "data": {
      "text/plain": [
       "['AT2G34180',\n",
       " 'AT1G48600',\n",
       " 'AT1G77760',\n",
       " 'AT1G30510',\n",
       " 'AT1G37130',\n",
       " 'AT1G73600',\n",
       " 'AT5G62720',\n",
       " 'AT5G50200',\n",
       " 'AT5G41670',\n",
       " 'AT3G21760',\n",
       " 'AT4G05390',\n",
       " 'AT1G63940',\n",
       " 'AT1G64190',\n",
       " 'AT1G60140',\n",
       " 'AT5G40850',\n",
       " 'AT3G56200',\n",
       " 'AT2G15620',\n",
       " 'AT5G53460',\n",
       " 'AT3G47980',\n",
       " 'AT4G15280']"
      ]
     },
     "execution_count": 10,
     "metadata": {},
     "output_type": "execute_result"
    }
   ],
   "source": [
    "AraGeneList"
   ]
  },
  {
   "cell_type": "code",
   "execution_count": 7,
   "metadata": {
    "collapsed": true
   },
   "outputs": [],
   "source": [
    "Agris = []\n",
    "with open(\"newAgrisPred.sif\",\"rb\",-1) as f:\n",
    "    lines = [line.strip().split(\"\\t\") for line in f]\n",
    "    for i in lines:\n",
    "        if i[0] in AraGeneList and i[2] in AraGeneList:\n",
    "            Agris.append(i)"
   ]
  }
 ],
 "metadata": {
  "kernelspec": {
   "display_name": "Python 2",
   "language": "python",
   "name": "python2"
  },
  "language_info": {
   "codemirror_mode": {
    "name": "ipython",
    "version": 2
   },
   "file_extension": ".py",
   "mimetype": "text/x-python",
   "name": "python",
   "nbconvert_exporter": "python",
   "pygments_lexer": "ipython2",
   "version": "2.7.11"
  }
 },
 "nbformat": 4,
 "nbformat_minor": 0
}
