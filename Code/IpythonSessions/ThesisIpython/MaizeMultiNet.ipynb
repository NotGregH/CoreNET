{
 "cells": [
  {
   "cell_type": "code",
   "execution_count": 1,
   "metadata": {
    "collapsed": false
   },
   "outputs": [
    {
     "name": "stdout",
     "output_type": "stream",
     "text": [
      "C:\\Users\\Greg Hamilton\\Desktop\\Thesis\\ThesisWriting\\SupplementaryFiles\\Network_data\\Maize\n"
     ]
    }
   ],
   "source": [
    "cd ../Network_data/Maize/"
   ]
  },
  {
   "cell_type": "code",
   "execution_count": 5,
   "metadata": {
    "collapsed": false
   },
   "outputs": [
    {
     "name": "stdout",
     "output_type": "stream",
     "text": [
      "1408146\n"
     ]
    }
   ],
   "source": [
    "ppList = []\n",
    "with open(\"Maize_pp_Net.SIF\",\"rb\",-1) as f:\n",
    "    lines = [line.strip().split(\"\\t\") for line in f]\n",
    "    for i in lines:\n",
    "        if \"GRMZM\" in i[0].upper():\n",
    "            if \"_P0\" in i[0]:\n",
    "                i[0] = i[0][:-4]\n",
    "        if \"GRMZM\" in i[2].upper():\n",
    "            if \"_P0\" in i[2]:\n",
    "                i[2] = i[2][:-4]\n",
    "        ppList.append([i[0],i[1],i[2]])\n",
    "        \n",
    "        \n",
    "with open(\"cornCyc.sif\",\"rb\",-1) as f:\n",
    "    metList = [line.strip().split(\"\\t\") for line in f]\n",
    "\n",
    "print len(ppList) + len(metList)"
   ]
  },
  {
   "cell_type": "code",
   "execution_count": 8,
   "metadata": {
    "collapsed": false
   },
   "outputs": [
    {
     "name": "stdout",
     "output_type": "stream",
     "text": [
      "1408146\n"
     ]
    }
   ],
   "source": [
    "from csv import writer\n",
    "fullNet = ppList+metList\n",
    "print len(fullNet)\n",
    "with open(\"MaizeMultiNet.sif\",\"wb\", -1) as o:\n",
    "    write = writer(o,delimiter=\"\\t\")\n",
    "    write.writerows(fullNet)\n",
    "    o.close()"
   ]
  },
  {
   "cell_type": "code",
   "execution_count": null,
   "metadata": {
    "collapsed": true
   },
   "outputs": [],
   "source": []
  }
 ],
 "metadata": {
  "kernelspec": {
   "display_name": "Python 2",
   "language": "python",
   "name": "python2"
  },
  "language_info": {
   "codemirror_mode": {
    "name": "ipython",
    "version": 2
   },
   "file_extension": ".py",
   "mimetype": "text/x-python",
   "name": "python",
   "nbconvert_exporter": "python",
   "pygments_lexer": "ipython2",
   "version": "2.7.11"
  }
 },
 "nbformat": 4,
 "nbformat_minor": 0
}
