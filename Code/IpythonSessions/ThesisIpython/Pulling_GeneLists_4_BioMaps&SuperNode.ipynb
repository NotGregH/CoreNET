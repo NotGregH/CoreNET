{
 "cells": [
  {
   "cell_type": "code",
   "execution_count": 1,
   "metadata": {
    "collapsed": true
   },
   "outputs": [],
   "source": [
    "##############################################################\n",
    "# Pulling the unique genelists from the conserved networks to\n",
    "# preform Biomaps and superNode Analysis. \n",
    "###############################################################"
   ]
  },
  {
   "cell_type": "code",
   "execution_count": 11,
   "metadata": {
    "collapsed": true
   },
   "outputs": [],
   "source": [
    "from csv import writer"
   ]
  },
  {
   "cell_type": "code",
   "execution_count": 2,
   "metadata": {
    "collapsed": false
   },
   "outputs": [
    {
     "name": "stdout",
     "output_type": "stream",
     "text": [
      "C:\\Users\\Greg Hamilton\\Documents\\Vplant\\Networking_Tool\\CrossSpeciesTool\n"
     ]
    }
   ],
   "source": [
    "cd ../Networking_Tool/CrossSpeciesTool/"
   ]
  },
  {
   "cell_type": "code",
   "execution_count": 3,
   "metadata": {
    "collapsed": false
   },
   "outputs": [
    {
     "name": "stdout",
     "output_type": "stream",
     "text": [
      "C:\\Users\\Greg Hamilton\\Documents\\Vplant\\Networking_Tool\\CrossSpeciesTool\\Rice_X_Ara_NewMCL\n"
     ]
    }
   ],
   "source": [
    "cd Rice_X_Ara_NewMCL/"
   ]
  },
  {
   "cell_type": "code",
   "execution_count": 5,
   "metadata": {
    "collapsed": false
   },
   "outputs": [
    {
     "name": "stdout",
     "output_type": "stream",
     "text": [
      " Volume in drive C has no label.\n",
      " Volume Serial Number is 3656-8D3F\n",
      "\n",
      " Directory of C:\\Users\\Greg Hamilton\\Documents\\Vplant\\Networking_Tool\\CrossSpeciesTool\\Rice_X_Ara_NewMCL\n",
      "\n",
      "04/17/2016  05:23 PM    <DIR>          .\n",
      "04/17/2016  05:23 PM    <DIR>          ..\n",
      "04/25/2016  04:05 PM            26,401 RootsAraNewMCL.sif\n",
      "04/25/2016  04:05 PM            25,064 RootsRiceNewMCL.sif\n",
      "04/25/2016  04:04 PM             9,043 ShootsAraNewMCL.sif\n",
      "04/25/2016  04:04 PM             5,246 ShootsRiceNewMCL.sif\n",
      "               4 File(s)         65,754 bytes\n",
      "               2 Dir(s)  108,602,146,816 bytes free\n"
     ]
    }
   ],
   "source": [
    "ls"
   ]
  },
  {
   "cell_type": "code",
   "execution_count": 7,
   "metadata": {
    "collapsed": true
   },
   "outputs": [],
   "source": [
    "ArabGenes = []\n",
    "RiceGenes = []\n",
    "with open(\"ShootsAraNewMCL.sif\",\"rb\",-1) as f:\n",
    "    lines = [line.strip().split(\"\\t\") for line in f][1:]\n",
    "    for i in lines:\n",
    "        if i[0].startswith(\"AT\"):\n",
    "            ArabGenes.append(i[0])\n",
    "        if i[2].startswith(\"AT\"):\n",
    "            ArabGenes.append(i[2])\n",
    "with open(\"RootsAraNewMCL.sif\",\"rb\",-1) as f:\n",
    "    lines = [line.strip().split(\"\\t\") for line in f][1:]\n",
    "    for i in lines:\n",
    "        if i[0].startswith(\"AT\"):\n",
    "            ArabGenes.append(i[0])\n",
    "        if i[2].startswith(\"AT\"):\n",
    "            ArabGenes.append(i[2])\n",
    "with open(\"RootsRiceNewMCL.sif\",\"rb\",-1) as f:\n",
    "    lines = [line.strip().split(\"\\t\") for line in f][1:]\n",
    "    for i in lines:\n",
    "        if \"LOC\" in i[0]:\n",
    "            RiceGenes.append(i[0])\n",
    "        if \"LOC\" in i[2]:\n",
    "            RiceGenes.append(i[2])\n",
    "with open(\"ShootsRiceNewMCL.sif\",\"rb\",-1) as f:\n",
    "    lines = [line.strip().split(\"\\t\") for line in f][1:]\n",
    "    for i in lines:\n",
    "        if \"LOC\" in i[0]:\n",
    "            RiceGenes.append(i[0])\n",
    "        if \"LOC\" in i[2]:\n",
    "            RiceGenes.append(i[2])\n",
    "ArabGenes = list(set(ArabGenes))\n",
    "RiceGenes = list(set(RiceGenes))"
   ]
  },
  {
   "cell_type": "code",
   "execution_count": 8,
   "metadata": {
    "collapsed": false
   },
   "outputs": [
    {
     "data": {
      "text/plain": [
       "65"
      ]
     },
     "execution_count": 8,
     "metadata": {},
     "output_type": "execute_result"
    }
   ],
   "source": [
    "len(ArabGenes)"
   ]
  },
  {
   "cell_type": "code",
   "execution_count": 9,
   "metadata": {
    "collapsed": false
   },
   "outputs": [
    {
     "data": {
      "text/plain": [
       "58"
      ]
     },
     "execution_count": 9,
     "metadata": {},
     "output_type": "execute_result"
    }
   ],
   "source": [
    "len(RiceGenes)"
   ]
  },
  {
   "cell_type": "code",
   "execution_count": 13,
   "metadata": {
    "collapsed": false
   },
   "outputs": [],
   "source": [
    "with open(\"AraGenesUnion.txt\",\"wb\",-1) as f:\n",
    "    write = writer(f,delimiter=\"\\t\")\n",
    "    write.writerow([\">ConservedAraGenes_RiceXAra_NewMCL\"])\n",
    "    for i in ArabGenes:\n",
    "        write.writerow([i])\n",
    "with open(\"RiceGenesUnion.txt\",\"wb\",-1) as f:\n",
    "    write = writer(f,delimiter=\"\\t\")\n",
    "    write.writerow([\">ConservedRiceGenes_RiceXAra_NewMCL\"])\n",
    "    for i in RiceGenes:\n",
    "        write.writerow([i])"
   ]
  },
  {
   "cell_type": "code",
   "execution_count": 5,
   "metadata": {
    "collapsed": false
   },
   "outputs": [],
   "source": [
    "MetAra = []\n",
    "MetRice= []\n",
    "with open(\"ShootsAraNewMCL.sif\",\"rb\",-1) as f:\n",
    "    lines = [line.strip().split(\"\\t\") for line in f][1:]\n",
    "    for i in lines:\n",
    "        if not i[0].startswith(\"AT\"):\n",
    "            MetAra.append(i[0])\n",
    "        if not i[2].startswith(\"AT\"):\n",
    "            MetAra.append(i[2])\n",
    "with open(\"RootsAraNewMCL.sif\",\"rb\",-1) as f:\n",
    "    lines = [line.strip().split(\"\\t\") for line in f][1:]\n",
    "    for i in lines:\n",
    "        if not i[0].startswith(\"AT\"):\n",
    "            MetAra.append(i[0])\n",
    "        if not i[2].startswith(\"AT\"):\n",
    "            MetAra.append(i[2])\n",
    "with open(\"RootsRiceNewMCL.sif\",\"rb\",-1) as f:\n",
    "    lines = [line.strip().split(\"\\t\") for line in f][1:]\n",
    "    for i in lines:\n",
    "        if \"LOC_OS\" not in i[0]:\n",
    "            MetRice.append(i[0])\n",
    "        if \"LOC_OS\" not in i[2]:\n",
    "            MetRice.append(i[2])\n",
    "with open(\"ShootsRiceNewMCL.sif\",\"rb\",-1) as f:\n",
    "    lines = [line.strip().split(\"\\t\") for line in f][1:]\n",
    "    for i in lines:\n",
    "        if \"LOC_OS\" not in i[0]:\n",
    "            MetRice.append(i[0])\n",
    "        if \"LOC_OS\" not in i[2]:\n",
    "            MetRice.append(i[2])\n",
    "MetAra = list(set(MetAra))\n",
    "MetRice = list(set(MetRice))"
   ]
  },
  {
   "cell_type": "code",
   "execution_count": 6,
   "metadata": {
    "collapsed": false
   },
   "outputs": [
    {
     "data": {
      "text/plain": [
       "23"
      ]
     },
     "execution_count": 6,
     "metadata": {},
     "output_type": "execute_result"
    }
   ],
   "source": [
    "len(MetAra)"
   ]
  },
  {
   "cell_type": "code",
   "execution_count": 7,
   "metadata": {
    "collapsed": false
   },
   "outputs": [
    {
     "data": {
      "text/plain": [
       "23"
      ]
     },
     "execution_count": 7,
     "metadata": {},
     "output_type": "execute_result"
    }
   ],
   "source": [
    "len(MetRice)"
   ]
  },
  {
   "cell_type": "code",
   "execution_count": 8,
   "metadata": {
    "collapsed": false
   },
   "outputs": [
    {
     "data": {
      "text/plain": [
       "['TREHALOSE',\n",
       " 'VIOLAXANTHIN',\n",
       " 'LINOLEATE',\n",
       " 'BETA-D-GLUCOSE-6-PHOSPHATE',\n",
       " 'ANTHERAXANTHIN',\n",
       " '2-OXOGLUTARATE',\n",
       " 'S-ADENOSYL-L-METHIONINE',\n",
       " 'NITRITE',\n",
       " 'L-GLUTAMATE',\n",
       " 'L-GLUTAMINE',\n",
       " 'ZEAXANTHIN',\n",
       " 'PHOSPHATE',\n",
       " 'NITRATE',\n",
       " 'UDP-D-GLUCOSE',\n",
       " 'A_REDUCED_FERREDOXIN',\n",
       " 'UDP',\n",
       " 'L-TYROSINE',\n",
       " 'AN_OXIDIZED_FERREDOXIN',\n",
       " '6-PHOSPHO-D-GLUCONATE',\n",
       " 'D-RIBULOSE-5-PHOSPHATE',\n",
       " 'TREHALOSE_6-PHOSPHATE',\n",
       " 'S-ADENOSYL-L-HOMOCYSTEINE',\n",
       " 'AMMONIA']"
      ]
     },
     "execution_count": 8,
     "metadata": {},
     "output_type": "execute_result"
    }
   ],
   "source": [
    "MetAra"
   ]
  },
  {
   "cell_type": "code",
   "execution_count": 12,
   "metadata": {
    "collapsed": false
   },
   "outputs": [],
   "source": [
    "for i in MetAra:\n",
    "    if i not in MetRice:\n",
    "        print i"
   ]
  },
  {
   "cell_type": "code",
   "execution_count": 11,
   "metadata": {
    "collapsed": true
   },
   "outputs": [],
   "source": [
    "for i in MetRice:\n",
    "    if i not in MetAra:\n",
    "        print i"
   ]
  },
  {
   "cell_type": "code",
   "execution_count": null,
   "metadata": {
    "collapsed": true
   },
   "outputs": [],
   "source": [
    "###### Same Metabolites in both"
   ]
  },
  {
   "cell_type": "code",
   "execution_count": null,
   "metadata": {
    "collapsed": true
   },
   "outputs": [],
   "source": []
  },
  {
   "cell_type": "code",
   "execution_count": null,
   "metadata": {
    "collapsed": true
   },
   "outputs": [],
   "source": []
  },
  {
   "cell_type": "code",
   "execution_count": null,
   "metadata": {
    "collapsed": true
   },
   "outputs": [],
   "source": []
  },
  {
   "cell_type": "code",
   "execution_count": null,
   "metadata": {
    "collapsed": true
   },
   "outputs": [],
   "source": []
  },
  {
   "cell_type": "code",
   "execution_count": null,
   "metadata": {
    "collapsed": true
   },
   "outputs": [],
   "source": []
  },
  {
   "cell_type": "code",
   "execution_count": null,
   "metadata": {
    "collapsed": true
   },
   "outputs": [],
   "source": []
  }
 ],
 "metadata": {
  "kernelspec": {
   "display_name": "Python 2",
   "language": "python",
   "name": "python2"
  },
  "language_info": {
   "codemirror_mode": {
    "name": "ipython",
    "version": 2
   },
   "file_extension": ".py",
   "mimetype": "text/x-python",
   "name": "python",
   "nbconvert_exporter": "python",
   "pygments_lexer": "ipython2",
   "version": "2.7.11"
  }
 },
 "nbformat": 4,
 "nbformat_minor": 0
}
