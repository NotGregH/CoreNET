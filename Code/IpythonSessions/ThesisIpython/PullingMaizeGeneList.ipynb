{
 "cells": [
  {
   "cell_type": "code",
   "execution_count": 1,
   "metadata": {
    "collapsed": false
   },
   "outputs": [
    {
     "name": "stdout",
     "output_type": "stream",
     "text": [
      "C:\\Users\\Greg Hamilton\\Desktop\\Thesis\\ThesisWriting\\CaseStudy2\\MaizeData\n"
     ]
    }
   ],
   "source": [
    "cd ../../CaseStudy2/MaizeData/"
   ]
  },
  {
   "cell_type": "code",
   "execution_count": 3,
   "metadata": {
    "collapsed": true
   },
   "outputs": [],
   "source": [
    "from csv import writer\n",
    "maizeGenes = []\n",
    "with open(\"allprobes2genes_one2one_final.txt\",\"rb\",-1) as f:\n",
    "    maizeGenes = [line.strip().split(\"\\t\")[1] for line in f]\n",
    "with open(\"maizeGenes.txt\",\"wb\",-1) as o:\n",
    "    write = writer(o,delimiter=\"\\t\")\n",
    "    for i in maizeGenes:\n",
    "        write.writerow([i])"
   ]
  },
  {
   "cell_type": "code",
   "execution_count": null,
   "metadata": {
    "collapsed": true
   },
   "outputs": [],
   "source": []
  },
  {
   "cell_type": "code",
   "execution_count": null,
   "metadata": {
    "collapsed": true
   },
   "outputs": [],
   "source": []
  }
 ],
 "metadata": {
  "kernelspec": {
   "display_name": "Python 2",
   "language": "python",
   "name": "python2"
  },
  "language_info": {
   "codemirror_mode": {
    "name": "ipython",
    "version": 2
   },
   "file_extension": ".py",
   "mimetype": "text/x-python",
   "name": "python",
   "nbconvert_exporter": "python",
   "pygments_lexer": "ipython2",
   "version": "2.7.11"
  }
 },
 "nbformat": 4,
 "nbformat_minor": 0
}
