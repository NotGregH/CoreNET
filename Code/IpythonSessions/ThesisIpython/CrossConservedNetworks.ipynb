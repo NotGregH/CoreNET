{
 "cells": [
  {
   "cell_type": "code",
   "execution_count": 43,
   "metadata": {
    "collapsed": false
   },
   "outputs": [],
   "source": [
    "def intersectNetworks(sif1,sif2,outfile):\n",
    "    from csv import writer\n",
    "    sif1List = []\n",
    "    sif2List = []\n",
    "    with open(sif1, \"rb\",-1) as f:\n",
    "        lines = [line.strip().split(\"\\t\") for line in f][1:]\n",
    "        for i in lines:\n",
    "            sif1List.append((i[0].upper(),i[1],i[2].upper()))\n",
    "            #sif1List.append((i[2],i[1],i[1]))\n",
    "        f.close()\n",
    "    with open(sif2, \"rb\",-1) as f:\n",
    "        lines = [line.strip().split(\"\\t\") for line in f][1:]     \n",
    "        for i in lines:\n",
    "            sif2List.append((i[0].upper(),i[1],i[2].upper()))\n",
    "            #sif2List.append((i[2],i[1],i[1]))\n",
    "        f.close()\n",
    "    intersectSif = []\n",
    "    for i in sif1List:\n",
    "        if i in sif2List:\n",
    "            intersectSif.append(i)\n",
    "        if (i[2],i[1],i[0]) in sif2List:\n",
    "            intersectSif.append(i)\n",
    "    for i in sif2List:\n",
    "        if i in sif1List:\n",
    "            intersectSif.append(i)\n",
    "        if (i[2],i[1],i[0]) in sif1List:\n",
    "            intersectSif.append(i)\n",
    "    intersectSif = list(set(intersectSif))\n",
    "    with open(outfile,\"wb\",-1) as o:\n",
    "        write = writer(o,delimiter=\"\\t\")\n",
    "        write.writerow([\"node_1\",\"edge\",\"node_2\"])\n",
    "        for i in intersectSif:\n",
    "            write.writerow(i)\n",
    "        o.close()\n",
    "        \n",
    "    return intersectSif, sif1List, sif2List\n",
    "    "
   ]
  },
  {
   "cell_type": "code",
   "execution_count": null,
   "metadata": {
    "collapsed": true
   },
   "outputs": [],
   "source": []
  },
  {
   "cell_type": "code",
   "execution_count": null,
   "metadata": {
    "collapsed": true
   },
   "outputs": [],
   "source": []
  },
  {
   "cell_type": "code",
   "execution_count": null,
   "metadata": {
    "collapsed": true
   },
   "outputs": [],
   "source": []
  },
  {
   "cell_type": "code",
   "execution_count": null,
   "metadata": {
    "collapsed": true
   },
   "outputs": [],
   "source": []
  },
  {
   "cell_type": "code",
   "execution_count": null,
   "metadata": {
    "collapsed": true
   },
   "outputs": [],
   "source": []
  },
  {
   "cell_type": "code",
   "execution_count": 2,
   "metadata": {
    "collapsed": false
   },
   "outputs": [
    {
     "name": "stdout",
     "output_type": "stream",
     "text": [
      "C:\\Users\\Greg Hamilton\\Desktop\\Thesis\\ThesisWriting\\CaseStudy1v2\\Networks\n"
     ]
    }
   ],
   "source": [
    "cd ../../CaseStudy1v2/Networks/"
   ]
  },
  {
   "cell_type": "code",
   "execution_count": 35,
   "metadata": {
    "collapsed": true
   },
   "outputs": [],
   "source": [
    "intersectSif, sif1List, sif2List = intersectNetworks(\"AraMaizeExp5MCL.SIF\",\"VP_AraUnionNewMCL.SIF\",\"AraRiceMaizeExp5.SIF\")"
   ]
  },
  {
   "cell_type": "code",
   "execution_count": null,
   "metadata": {
    "collapsed": true
   },
   "outputs": [],
   "source": []
  },
  {
   "cell_type": "code",
   "execution_count": null,
   "metadata": {
    "collapsed": true
   },
   "outputs": [],
   "source": []
  },
  {
   "cell_type": "code",
   "execution_count": 36,
   "metadata": {
    "collapsed": false
   },
   "outputs": [
    {
     "data": {
      "text/plain": [
       "12"
      ]
     },
     "execution_count": 36,
     "metadata": {},
     "output_type": "execute_result"
    }
   ],
   "source": [
    "len(intersectSif)"
   ]
  },
  {
   "cell_type": "code",
   "execution_count": null,
   "metadata": {
    "collapsed": true
   },
   "outputs": [],
   "source": []
  },
  {
   "cell_type": "code",
   "execution_count": 38,
   "metadata": {
    "collapsed": true
   },
   "outputs": [],
   "source": [
    "intersectSif, sif1List, sif2List = intersectNetworks(\"AraMaizeExp2MCLp01.SIF\",\"VP_AraUnionNewMCL.SIF\",\"AraRiceMaizeExp2.SIF\")"
   ]
  },
  {
   "cell_type": "code",
   "execution_count": null,
   "metadata": {
    "collapsed": true
   },
   "outputs": [],
   "source": []
  },
  {
   "cell_type": "code",
   "execution_count": 39,
   "metadata": {
    "collapsed": false
   },
   "outputs": [
    {
     "data": {
      "text/plain": [
       "[('A_REDUCED_FERREDOXIN', 'met:Aracyc', 'AT2G15620'),\n",
       " ('AT5G41670', 'met:Aracyc', 'D-RIBULOSE-5-PHOSPHATE'),\n",
       " ('AT2G15620', 'met:Aracyc', 'AN_OXIDIZED_FERREDOXIN'),\n",
       " ('AT1G77760', 'met:Aracyc', 'NITRITE'),\n",
       " ('AMMONIA', 'met:Aracyc', 'AT5G16570'),\n",
       " ('L-GLUTAMATE', 'met:Aracyc', 'AT5G16570'),\n",
       " ('AT5G16570', 'pp:Inparanoid_onetomanyBioGrid40', 'AT5G16570'),\n",
       " ('NITRITE', 'met:rc:KEGG', 'AT1G77760'),\n",
       " ('AT1G77760', 'met:rc:KEGG', 'NITRATE'),\n",
       " ('AT5G16570', 'met:Aracyc', 'L-GLUTAMINE'),\n",
       " ('AT2G15620', 'met:Aracyc', 'AMMONIA'),\n",
       " ('AT1G37130', 'met:rc:KEGG', 'NITRATE'),\n",
       " ('AT1G37130', 'met:Aracyc', 'NITRITE'),\n",
       " ('NITRITE', 'met:Aracyc', 'AT2G15620'),\n",
       " ('AT5G16570', 'met:Aracyc', 'PHOSPHATE'),\n",
       " ('NITRITE', 'met:Irc:KEGG', 'AT2G15620'),\n",
       " ('NITRITE', 'met:rc:KEGG', 'AT1G37130'),\n",
       " ('6-PHOSPHO-D-GLUCONATE', 'met:Aracyc', 'AT5G41670'),\n",
       " ('AT5G16570', 'pp:EnsemblBiomartBioGrid40', 'AT5G16570')]"
      ]
     },
     "execution_count": 39,
     "metadata": {},
     "output_type": "execute_result"
    }
   ],
   "source": [
    "intersectSif"
   ]
  },
  {
   "cell_type": "code",
   "execution_count": 23,
   "metadata": {
    "collapsed": true
   },
   "outputs": [],
   "source": [
    "genes1 = []\n",
    "genes2 = []\n",
    "for i in sif1List:\n",
    "    if i[0].startswith(\"AT\"):\n",
    "        genes1.append(i[0])\n",
    "    if i[2].startswith(\"AT\"):\n",
    "        genes1.append(i[2])\n",
    "for i in sif2List:\n",
    "    if i[0].startswith(\"AT\"):\n",
    "        genes2.append(i[0])\n",
    "    if i[2].startswith(\"AT\"):\n",
    "        genes2.append(i[2])\n",
    "genes1 = list(set(genes1))\n",
    "genes2 = list(set(genes2))"
   ]
  },
  {
   "cell_type": "code",
   "execution_count": 24,
   "metadata": {
    "collapsed": false
   },
   "outputs": [
    {
     "data": {
      "text/plain": [
       "['AT3G50670',\n",
       " 'AT5G46050',\n",
       " 'AT1G13110',\n",
       " 'AT3G48740',\n",
       " 'AT4G15560',\n",
       " 'AT1G14400',\n",
       " 'AT1G14870',\n",
       " 'AT2G40890',\n",
       " 'AT3G59920',\n",
       " 'AT3G47520',\n",
       " 'AT4G39800',\n",
       " 'AT5G47450',\n",
       " 'AT4G11570',\n",
       " 'AT3G46600',\n",
       " 'AT3G25230',\n",
       " 'AT3G23750',\n",
       " 'AT4G30190',\n",
       " 'AT1G04430',\n",
       " 'AT2G30490',\n",
       " 'AT2G24500',\n",
       " 'AT3G23810',\n",
       " 'AT1G68520',\n",
       " 'AT1G21750',\n",
       " 'AT5G60680',\n",
       " 'AT4G35770',\n",
       " 'AT1G14360',\n",
       " 'AT2G26080',\n",
       " 'AT1G07350',\n",
       " 'AT1G09210',\n",
       " 'AT1G72680',\n",
       " 'AT5G47210',\n",
       " 'AT4G36670',\n",
       " 'AT4G14440',\n",
       " 'AT5G49720',\n",
       " 'AT2G33830',\n",
       " 'AT5G49480',\n",
       " 'AT5G61020',\n",
       " 'AT4G33680',\n",
       " 'AT1G28380',\n",
       " 'AT3G62120',\n",
       " 'AT4G33580',\n",
       " 'AT5G43370',\n",
       " 'AT4G33010',\n",
       " 'AT5G64740',\n",
       " 'AT4G39950',\n",
       " 'AT4G23180',\n",
       " 'AT1G76590',\n",
       " 'AT3G28180',\n",
       " 'AT3G45140',\n",
       " 'AT5G01540',\n",
       " 'AT4G30210',\n",
       " 'AT3G11670',\n",
       " 'AT5G02870',\n",
       " 'AT3G13790',\n",
       " 'AT3G48520',\n",
       " 'AT2G47180',\n",
       " 'AT5G62390',\n",
       " 'AT1G56190',\n",
       " 'AT3G14310',\n",
       " 'AT5G49630',\n",
       " 'AT5G57290',\n",
       " 'AT3G51550',\n",
       " 'AT1G72040',\n",
       " 'AT3G57520',\n",
       " 'AT1G01560',\n",
       " 'AT2G20610',\n",
       " 'AT5G61780',\n",
       " 'AT3G61150',\n",
       " 'AT1G74790',\n",
       " 'AT4G02510',\n",
       " 'AT2G05920',\n",
       " 'AT1G15950',\n",
       " 'AT5G25350',\n",
       " 'AT2G27860',\n",
       " 'AT3G48560',\n",
       " 'AT5G44070',\n",
       " 'AT5G35735',\n",
       " 'AT1G17180',\n",
       " 'AT1G52400',\n",
       " 'AT4G33300',\n",
       " 'AT3G54030',\n",
       " 'AT3G11170',\n",
       " 'AT3G16780',\n",
       " 'AT5G06700',\n",
       " 'AT4G24120',\n",
       " 'AT1G53500',\n",
       " 'AT5G45340',\n",
       " 'AT1G56220',\n",
       " 'AT5G48010',\n",
       " 'AT1G31770',\n",
       " 'AT4G30440',\n",
       " 'AT1G23090',\n",
       " 'AT5G15450',\n",
       " 'AT1G14780',\n",
       " 'AT4G23630',\n",
       " 'AT1G17170',\n",
       " 'AT4G37370',\n",
       " 'AT1G48350',\n",
       " 'AT3G01120',\n",
       " 'AT4G27730',\n",
       " 'AT3G13230',\n",
       " 'AT2G36690',\n",
       " 'AT4G21150',\n",
       " 'AT3G16150',\n",
       " 'AT2G16660',\n",
       " 'AT2G36880',\n",
       " 'AT3G62600',\n",
       " 'AT5G03555',\n",
       " 'AT4G11240',\n",
       " 'AT5G48570',\n",
       " 'AT5G23020',\n",
       " 'AT5G25460',\n",
       " 'AT5G04280',\n",
       " 'AT4G34290',\n",
       " 'AT3G19390',\n",
       " 'AT5G42310',\n",
       " 'AT2G20360',\n",
       " 'AT2G30870',\n",
       " 'AT5G11420',\n",
       " 'AT4G13890',\n",
       " 'AT1G29310',\n",
       " 'AT1G22570',\n",
       " 'AT2G34640',\n",
       " 'AT5G22920',\n",
       " 'AT5G41670',\n",
       " 'AT1G72970',\n",
       " 'AT1G54690',\n",
       " 'AT5G06530',\n",
       " 'AT2G44310',\n",
       " 'AT4G34710',\n",
       " 'AT3G20500',\n",
       " 'AT5G07030',\n",
       " 'AT3G14940',\n",
       " 'AT1G01060',\n",
       " 'AT5G11110',\n",
       " 'AT5G47780',\n",
       " 'AT4G15550',\n",
       " 'AT5G19770',\n",
       " 'AT4G37910',\n",
       " 'AT5G26030',\n",
       " 'AT1G53310',\n",
       " 'AT3G51600',\n",
       " 'AT1G78000',\n",
       " 'AT5G63850',\n",
       " 'AT5G28540',\n",
       " 'AT1G10760',\n",
       " 'AT1G54050',\n",
       " 'AT3G17390',\n",
       " 'AT2G13790',\n",
       " 'AT1G69840',\n",
       " 'AT5G48370',\n",
       " 'AT5G61820',\n",
       " 'AT1G10070',\n",
       " 'AT5G25630',\n",
       " 'AT1G02500',\n",
       " 'AT4G28450',\n",
       " 'AT1G12110',\n",
       " 'AT4G14960',\n",
       " 'AT2G43100',\n",
       " 'AT4G27440',\n",
       " 'AT4G34150',\n",
       " 'AT4G29900',\n",
       " 'AT5G55930',\n",
       " 'AT5G12030',\n",
       " 'AT1G01620',\n",
       " 'AT3G11700',\n",
       " 'AT4G33400',\n",
       " 'AT1G18080',\n",
       " 'AT2G42880',\n",
       " 'AT3G48610',\n",
       " 'AT3G47960',\n",
       " 'AT3G10420',\n",
       " 'AT1G32450',\n",
       " 'AT1G66580',\n",
       " 'AT2G33210',\n",
       " 'AT4G34450',\n",
       " 'AT1G29470',\n",
       " 'AT3G60750',\n",
       " 'AT4G33700',\n",
       " 'AT5G43970',\n",
       " 'AT3G52040',\n",
       " 'AT2G39980',\n",
       " 'AT1G77760',\n",
       " 'AT3G01560',\n",
       " 'AT4G24570',\n",
       " 'AT5G02480',\n",
       " 'AT3G56290',\n",
       " 'AT3G02360',\n",
       " 'AT4G15770',\n",
       " 'AT3G06850',\n",
       " 'AT3G12580',\n",
       " 'AT5G60920',\n",
       " 'AT1G07890',\n",
       " 'AT1G21250',\n",
       " 'AT1G56340',\n",
       " 'AT3G07110',\n",
       " 'AT3G49670',\n",
       " 'AT2G02180',\n",
       " 'AT1G51680',\n",
       " 'AT3G12740',\n",
       " 'AT2G47060',\n",
       " 'AT2G20570',\n",
       " 'AT4G23210',\n",
       " 'AT5G37600',\n",
       " 'AT2G15620',\n",
       " 'AT5G16570',\n",
       " 'AT1G76690',\n",
       " 'AT3G12050',\n",
       " 'AT2G39570',\n",
       " 'AT5G64410',\n",
       " 'AT4G39670',\n",
       " 'AT3G54400',\n",
       " 'AT2G38470',\n",
       " 'AT4G13510',\n",
       " 'AT1G07040',\n",
       " 'AT5G27140',\n",
       " 'AT5G28900',\n",
       " 'AT5G49910',\n",
       " 'AT1G01320',\n",
       " 'AT2G46600',\n",
       " 'AT2G41060',\n",
       " 'AT2G23810',\n",
       " 'AT3G17820',\n",
       " 'AT1G65960',\n",
       " 'AT3G45640',\n",
       " 'AT4G39980',\n",
       " 'AT1G15690',\n",
       " 'AT3G21230',\n",
       " 'AT1G17840',\n",
       " 'AT4G19170',\n",
       " 'AT1G77510',\n",
       " 'AT2G16430',\n",
       " 'AT4G23200',\n",
       " 'AT1G79990',\n",
       " 'AT5G40850',\n",
       " 'AT1G56110',\n",
       " 'AT5G67360',\n",
       " 'AT3G46740',\n",
       " 'AT4G34230',\n",
       " 'AT5G13930',\n",
       " 'AT2G37990',\n",
       " 'AT1G22360',\n",
       " 'AT4G31985',\n",
       " 'AT1G47128',\n",
       " 'AT1G12000',\n",
       " 'AT1G55850',\n",
       " 'AT5G65010',\n",
       " 'AT1G75270',\n",
       " 'AT1G12780',\n",
       " 'AT3G19720',\n",
       " 'AT2G37970',\n",
       " 'AT5G24800',\n",
       " 'AT4G39640',\n",
       " 'AT5G20270',\n",
       " 'AT2G01820',\n",
       " 'AT3G58990',\n",
       " 'AT4G30810',\n",
       " 'AT1G69870',\n",
       " 'AT4G24190',\n",
       " 'AT5G11670',\n",
       " 'AT1G73080',\n",
       " 'AT5G20250',\n",
       " 'AT3G47340',\n",
       " 'AT4G22710',\n",
       " 'AT1G09330',\n",
       " 'AT1G53910',\n",
       " 'AT3G21240',\n",
       " 'AT1G37130',\n",
       " 'AT1G80560',\n",
       " 'AT2G29550',\n",
       " 'AT1G47500',\n",
       " 'AT4G36250',\n",
       " 'AT1G62020',\n",
       " 'AT1G19020',\n",
       " 'AT4G20460',\n",
       " 'AT1G76670',\n",
       " 'AT3G23820',\n",
       " 'AT1G70320',\n",
       " 'AT2G38700',\n",
       " 'AT4G38470',\n",
       " 'AT2G36910',\n",
       " 'AT3G57490']"
      ]
     },
     "execution_count": 24,
     "metadata": {},
     "output_type": "execute_result"
    }
   ],
   "source": [
    "list(genes1)"
   ]
  },
  {
   "cell_type": "code",
   "execution_count": 25,
   "metadata": {
    "collapsed": false
   },
   "outputs": [
    {
     "data": {
      "text/plain": [
       "['AT3G56200',\n",
       " 'AT2G42600',\n",
       " 'AT5G39590',\n",
       " 'AT5G35630',\n",
       " 'AT5G62720',\n",
       " 'AT2G46740',\n",
       " 'AT1G30270',\n",
       " 'AT5G14070',\n",
       " 'AT3G07350',\n",
       " 'AT5G64550',\n",
       " 'AT4G24180',\n",
       " 'AT2G32560',\n",
       " 'AT3G21390',\n",
       " 'AT3G59940',\n",
       " 'AT5G53460',\n",
       " 'AT4G11460',\n",
       " 'AT2G24130',\n",
       " 'AT4G21410',\n",
       " 'AT4G15280',\n",
       " 'AT1G63940',\n",
       " 'AT4G35770',\n",
       " 'AT5G40850',\n",
       " 'AT3G47980',\n",
       " 'AT5G13420',\n",
       " 'AT2G44480',\n",
       " 'AT1G64190',\n",
       " 'AT5G13110',\n",
       " 'AT1G73600',\n",
       " 'AT3G16030',\n",
       " 'AT1G24280',\n",
       " 'AT4G09620',\n",
       " 'AT5G53970',\n",
       " 'AT1G48600',\n",
       " 'AT1G18370',\n",
       " 'AT1G30510',\n",
       " 'AT2G34180',\n",
       " 'AT1G73680',\n",
       " 'AT4G23130',\n",
       " 'AT4G05390',\n",
       " 'AT1G60140',\n",
       " 'AT4G38810',\n",
       " 'AT2G39360',\n",
       " 'AT3G44540',\n",
       " 'AT1G01140',\n",
       " 'AT5G54800',\n",
       " 'AT2G26980',\n",
       " 'AT1G54820',\n",
       " 'AT4G18170',\n",
       " 'AT1G77760',\n",
       " 'AT5G46800',\n",
       " 'AT1G37130',\n",
       " 'AT5G26340',\n",
       " 'AT5G50200',\n",
       " 'AT5G41670',\n",
       " 'AT3G21760',\n",
       " 'AT5G67030',\n",
       " 'AT1G55020',\n",
       " 'AT3G53810',\n",
       " 'AT3G51680',\n",
       " 'AT5G19140',\n",
       " 'AT2G40460',\n",
       " 'AT1G08090',\n",
       " 'AT2G15620',\n",
       " 'AT5G16570',\n",
       " 'AT3G14940']"
      ]
     },
     "execution_count": 25,
     "metadata": {},
     "output_type": "execute_result"
    }
   ],
   "source": [
    "list(genes2)"
   ]
  },
  {
   "cell_type": "code",
   "execution_count": 26,
   "metadata": {
    "collapsed": true
   },
   "outputs": [],
   "source": [
    "intersectGenes = []\n",
    "for i in genes1:\n",
    "    if i in genes2:\n",
    "        intersectGenes.append(i)\n",
    "for i in genes2:\n",
    "    if i in genes1:\n",
    "        intersectGenes.append(i)"
   ]
  },
  {
   "cell_type": "code",
   "execution_count": 27,
   "metadata": {
    "collapsed": false
   },
   "outputs": [
    {
     "data": {
      "text/plain": [
       "['AT4G35770',\n",
       " 'AT5G41670',\n",
       " 'AT3G14940',\n",
       " 'AT1G77760',\n",
       " 'AT2G15620',\n",
       " 'AT5G16570',\n",
       " 'AT5G40850',\n",
       " 'AT1G37130',\n",
       " 'AT4G35770',\n",
       " 'AT5G40850',\n",
       " 'AT1G77760',\n",
       " 'AT1G37130',\n",
       " 'AT5G41670',\n",
       " 'AT2G15620',\n",
       " 'AT5G16570',\n",
       " 'AT3G14940']"
      ]
     },
     "execution_count": 27,
     "metadata": {},
     "output_type": "execute_result"
    }
   ],
   "source": [
    "intersectGenes"
   ]
  },
  {
   "cell_type": "code",
   "execution_count": null,
   "metadata": {
    "collapsed": true
   },
   "outputs": [],
   "source": []
  },
  {
   "cell_type": "code",
   "execution_count": null,
   "metadata": {
    "collapsed": true
   },
   "outputs": [],
   "source": []
  },
  {
   "cell_type": "code",
   "execution_count": 47,
   "metadata": {
    "collapsed": true
   },
   "outputs": [],
   "source": [
    "intersectSif, sif1List, sif2List = intersectNetworks(\"AraMaizeExp1MCLp01.SIF\",\"VP_AraUnionNewMCL.SIF\",\"AraRiceMaizeExp1.SIF\")"
   ]
  },
  {
   "cell_type": "code",
   "execution_count": 49,
   "metadata": {
    "collapsed": false
   },
   "outputs": [
    {
     "data": {
      "text/plain": [
       "19"
      ]
     },
     "execution_count": 49,
     "metadata": {},
     "output_type": "execute_result"
    }
   ],
   "source": [
    "len(intersectSif)"
   ]
  },
  {
   "cell_type": "code",
   "execution_count": null,
   "metadata": {
    "collapsed": true
   },
   "outputs": [],
   "source": []
  },
  {
   "cell_type": "code",
   "execution_count": 44,
   "metadata": {
    "collapsed": true
   },
   "outputs": [],
   "source": [
    "intersectSif, sif1List, sif2List = intersectNetworks(\"AraMaizeExp4MCL.SIF\",\"VP_AraUnionNewMCL.SIF\",\"AraRiceMaizeExp4.SIF\")"
   ]
  },
  {
   "cell_type": "code",
   "execution_count": null,
   "metadata": {
    "collapsed": true
   },
   "outputs": [],
   "source": []
  },
  {
   "cell_type": "code",
   "execution_count": null,
   "metadata": {
    "collapsed": true
   },
   "outputs": [],
   "source": []
  },
  {
   "cell_type": "code",
   "execution_count": null,
   "metadata": {
    "collapsed": true
   },
   "outputs": [],
   "source": []
  },
  {
   "cell_type": "code",
   "execution_count": null,
   "metadata": {
    "collapsed": true
   },
   "outputs": [],
   "source": []
  },
  {
   "cell_type": "code",
   "execution_count": 51,
   "metadata": {
    "collapsed": false
   },
   "outputs": [],
   "source": [
    "intersectSif, sif1List, sif2List = intersectNetworks(\"AraMaizeExp2MCLp05.SIF\",\"VP_AraUnionNewMCL.SIF\",\"AraRiceMaizeExp2p05.SIF\")"
   ]
  },
  {
   "cell_type": "code",
   "execution_count": 52,
   "metadata": {
    "collapsed": false
   },
   "outputs": [
    {
     "data": {
      "text/plain": [
       "21"
      ]
     },
     "execution_count": 52,
     "metadata": {},
     "output_type": "execute_result"
    }
   ],
   "source": [
    "len(intersectSif)"
   ]
  },
  {
   "cell_type": "code",
   "execution_count": 53,
   "metadata": {
    "collapsed": false
   },
   "outputs": [
    {
     "data": {
      "text/plain": [
       "[('A_REDUCED_FERREDOXIN', 'met:Aracyc', 'AT2G15620'),\n",
       " ('AT5G41670', 'met:Aracyc', 'D-RIBULOSE-5-PHOSPHATE'),\n",
       " ('AT2G15620', 'met:Aracyc', 'AN_OXIDIZED_FERREDOXIN'),\n",
       " ('AT1G77760', 'met:Aracyc', 'NITRITE'),\n",
       " ('AMMONIA', 'met:Aracyc', 'AT5G16570'),\n",
       " ('L-GLUTAMATE', 'met:Aracyc', 'AT5G16570'),\n",
       " ('AT5G16570', 'pp:Inparanoid_onetomanyBioGrid40', 'AT5G16570'),\n",
       " ('AT1G37130', 'corr', 'AT2G15620'),\n",
       " ('NITRITE', 'met:rc:KEGG', 'AT1G77760'),\n",
       " ('AT1G77760', 'met:rc:KEGG', 'NITRATE'),\n",
       " ('NITRITE', 'met:Irc:KEGG', 'AT2G15620'),\n",
       " ('AT5G16570', 'met:Aracyc', 'L-GLUTAMINE'),\n",
       " ('AT2G15620', 'met:Aracyc', 'AMMONIA'),\n",
       " ('AT1G37130', 'met:rc:KEGG', 'NITRATE'),\n",
       " ('AT1G37130', 'met:Aracyc', 'NITRITE'),\n",
       " ('NITRITE', 'met:Aracyc', 'AT2G15620'),\n",
       " ('AT5G16570', 'met:Aracyc', 'PHOSPHATE'),\n",
       " ('AT5G40850', 'corr', 'AT1G37130'),\n",
       " ('NITRITE', 'met:rc:KEGG', 'AT1G37130'),\n",
       " ('6-PHOSPHO-D-GLUCONATE', 'met:Aracyc', 'AT5G41670'),\n",
       " ('AT5G16570', 'pp:EnsemblBiomartBioGrid40', 'AT5G16570')]"
      ]
     },
     "execution_count": 53,
     "metadata": {},
     "output_type": "execute_result"
    }
   ],
   "source": [
    "intersectSif"
   ]
  },
  {
   "cell_type": "code",
   "execution_count": null,
   "metadata": {
    "collapsed": true
   },
   "outputs": [],
   "source": []
  },
  {
   "cell_type": "code",
   "execution_count": 54,
   "metadata": {
    "collapsed": true
   },
   "outputs": [],
   "source": [
    "intersectSif, sif1List, sif2List = intersectNetworks(\"AraMaizeExp1p05MCL.SIF\",\"VP_AraUnionNewMCL.SIF\",\"AraRiceMaizeExp1p05.SIF\")"
   ]
  },
  {
   "cell_type": "code",
   "execution_count": 55,
   "metadata": {
    "collapsed": false
   },
   "outputs": [
    {
     "data": {
      "text/plain": [
       "21"
      ]
     },
     "execution_count": 55,
     "metadata": {},
     "output_type": "execute_result"
    }
   ],
   "source": [
    "len(intersectSif)"
   ]
  },
  {
   "cell_type": "code",
   "execution_count": 56,
   "metadata": {
    "collapsed": false
   },
   "outputs": [
    {
     "data": {
      "text/plain": [
       "[('NITRITE', 'met:Irc:KEGG', 'AT2G15620'),\n",
       " ('L-GLUTAMATE', 'met:Aracyc', 'AT5G16570'),\n",
       " ('AT2G15620', 'met:Aracyc', 'AN_OXIDIZED_FERREDOXIN'),\n",
       " ('AT1G77760', 'met:Aracyc', 'NITRITE'),\n",
       " ('AT1G77760', 'met:rc:KEGG', 'NITRATE'),\n",
       " ('AT5G41670', 'met:Aracyc', 'D-RIBULOSE-5-PHOSPHATE'),\n",
       " ('AT5G40850', 'corr', 'AT1G37130'),\n",
       " ('AT5G16570', 'pp:Inparanoid_onetomanyBioGrid40', 'AT5G16570'),\n",
       " ('AT1G37130', 'corr', 'AT2G15620'),\n",
       " ('NITRITE', 'met:rc:KEGG', 'AT1G37130'),\n",
       " ('NITRITE', 'met:Aracyc', 'AT2G15620'),\n",
       " ('AT5G16570', 'met:Aracyc', 'PHOSPHATE'),\n",
       " ('AT1G37130', 'met:rc:KEGG', 'NITRATE'),\n",
       " ('AT5G16570', 'met:Aracyc', 'L-GLUTAMINE'),\n",
       " ('A_REDUCED_FERREDOXIN', 'met:Aracyc', 'AT2G15620'),\n",
       " ('AT1G37130', 'met:Aracyc', 'NITRITE'),\n",
       " ('AT2G15620', 'met:Aracyc', 'AMMONIA'),\n",
       " ('NITRITE', 'met:rc:KEGG', 'AT1G77760'),\n",
       " ('AMMONIA', 'met:Aracyc', 'AT5G16570'),\n",
       " ('6-PHOSPHO-D-GLUCONATE', 'met:Aracyc', 'AT5G41670'),\n",
       " ('AT5G16570', 'pp:EnsemblBiomartBioGrid40', 'AT5G16570')]"
      ]
     },
     "execution_count": 56,
     "metadata": {},
     "output_type": "execute_result"
    }
   ],
   "source": [
    "intersectSif"
   ]
  },
  {
   "cell_type": "code",
   "execution_count": null,
   "metadata": {
    "collapsed": true
   },
   "outputs": [],
   "source": []
  },
  {
   "cell_type": "code",
   "execution_count": null,
   "metadata": {
    "collapsed": true
   },
   "outputs": [],
   "source": []
  },
  {
   "cell_type": "code",
   "execution_count": 57,
   "metadata": {
    "collapsed": true
   },
   "outputs": [],
   "source": [
    "def intersectNetworksLoose(sif1,sif2,outfile):\n",
    "    from csv import writer\n",
    "    sif1List = []\n",
    "    sif2List = []\n",
    "    with open(sif1, \"rb\",-1) as f:\n",
    "        lines = [line.strip().split(\"\\t\") for line in f][1:]\n",
    "        for i in lines:\n",
    "            if i[1] == \"corr\" or i[1] == \"negCorr\":\n",
    "                sif1List.append((i[0].upper(),\"corr\",i[2].upper()))\n",
    "            else:\n",
    "                sif1List.append((i[0].upper(),i[1],i[2].upper()))\n",
    "        f.close()\n",
    "    with open(sif2, \"rb\",-1) as f:\n",
    "        lines = [line.strip().split(\"\\t\") for line in f][1:]     \n",
    "        for i in lines:\n",
    "            if i[1] == \"corr\" or i[1] == \"negCorr\":\n",
    "                sif2List.append((i[0].upper(),\"corr\",i[2].upper()))\n",
    "            else:\n",
    "                sif2List.append((i[0].upper(),i[1],i[2].upper()))\n",
    "        f.close()\n",
    "    intersectSif = []\n",
    "    for i in sif1List:\n",
    "        if i in sif2List:\n",
    "            intersectSif.append(i)\n",
    "        if (i[2],i[1],i[0]) in sif2List:\n",
    "            intersectSif.append(i)\n",
    "    for i in sif2List:\n",
    "        if i in sif1List:\n",
    "            intersectSif.append(i)\n",
    "        if (i[2],i[1],i[0]) in sif1List:\n",
    "            intersectSif.append(i)\n",
    "    intersectSif = list(set(intersectSif))\n",
    "    with open(outfile,\"wb\",-1) as o:\n",
    "        write = writer(o,delimiter=\"\\t\")\n",
    "        write.writerow([\"node_1\",\"edge\",\"node_2\"])\n",
    "        for i in intersectSif:\n",
    "            write.writerow(i)\n",
    "        o.close()\n",
    "        \n",
    "    return intersectSif, sif1List, sif2List"
   ]
  },
  {
   "cell_type": "code",
   "execution_count": 58,
   "metadata": {
    "collapsed": true
   },
   "outputs": [],
   "source": [
    "intersectSif, sif1List, sif2List = intersectNetworksLoose(\"AraMaizeExp1p05MCL.SIF\",\"VP_AraUnionNewMCL.SIF\",\"AraRiceMaizeExp1p05Loose.SIF\")"
   ]
  },
  {
   "cell_type": "code",
   "execution_count": 59,
   "metadata": {
    "collapsed": false
   },
   "outputs": [
    {
     "data": {
      "text/plain": [
       "22"
      ]
     },
     "execution_count": 59,
     "metadata": {},
     "output_type": "execute_result"
    }
   ],
   "source": [
    "len(intersectSif)"
   ]
  },
  {
   "cell_type": "code",
   "execution_count": 60,
   "metadata": {
    "collapsed": false
   },
   "outputs": [
    {
     "data": {
      "text/plain": [
       "[('AT5G16570', 'met:Aracyc', 'PHOSPHATE'),\n",
       " ('AT1G37130', 'met:rc:KEGG', 'NITRATE'),\n",
       " ('NITRITE', 'met:rc:KEGG', 'AT1G77760'),\n",
       " ('AT1G37130', 'corr', 'AT2G15620'),\n",
       " ('L-GLUTAMATE', 'met:Aracyc', 'AT5G16570'),\n",
       " ('AMMONIA', 'met:Aracyc', 'AT5G16570'),\n",
       " ('AT5G41670', 'corr', 'AT2G15620'),\n",
       " ('NITRITE', 'met:Aracyc', 'AT2G15620'),\n",
       " ('AT2G15620', 'met:Aracyc', 'AMMONIA'),\n",
       " ('6-PHOSPHO-D-GLUCONATE', 'met:Aracyc', 'AT5G41670'),\n",
       " ('A_REDUCED_FERREDOXIN', 'met:Aracyc', 'AT2G15620'),\n",
       " ('AT2G15620', 'met:Aracyc', 'AN_OXIDIZED_FERREDOXIN'),\n",
       " ('AT1G77760', 'met:Aracyc', 'NITRITE'),\n",
       " ('AT5G41670', 'met:Aracyc', 'D-RIBULOSE-5-PHOSPHATE'),\n",
       " ('AT5G16570', 'pp:Inparanoid_onetomanyBioGrid40', 'AT5G16570'),\n",
       " ('AT1G37130', 'met:Aracyc', 'NITRITE'),\n",
       " ('AT5G40850', 'corr', 'AT1G37130'),\n",
       " ('AT5G16570', 'pp:EnsemblBiomartBioGrid40', 'AT5G16570'),\n",
       " ('NITRITE', 'met:Irc:KEGG', 'AT2G15620'),\n",
       " ('AT1G77760', 'met:rc:KEGG', 'NITRATE'),\n",
       " ('AT5G16570', 'met:Aracyc', 'L-GLUTAMINE'),\n",
       " ('NITRITE', 'met:rc:KEGG', 'AT1G37130')]"
      ]
     },
     "execution_count": 60,
     "metadata": {},
     "output_type": "execute_result"
    }
   ],
   "source": [
    "intersectSif"
   ]
  }
 ],
 "metadata": {
  "kernelspec": {
   "display_name": "Python 2",
   "language": "python",
   "name": "python2"
  },
  "language_info": {
   "codemirror_mode": {
    "name": "ipython",
    "version": 2
   },
   "file_extension": ".py",
   "mimetype": "text/x-python",
   "name": "python",
   "nbconvert_exporter": "python",
   "pygments_lexer": "ipython2",
   "version": "2.7.11"
  }
 },
 "nbformat": 4,
 "nbformat_minor": 0
}
