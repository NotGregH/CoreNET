{
 "cells": [
  {
   "cell_type": "code",
   "execution_count": 1,
   "metadata": {
    "collapsed": false
   },
   "outputs": [
    {
     "name": "stdout",
     "output_type": "stream",
     "text": [
      "C:\\Users\\Greg Hamilton\\Documents\\Vplant\\TestData\\RicePaper\n"
     ]
    }
   ],
   "source": [
    "cd ../TestData/RicePaper/"
   ]
  },
  {
   "cell_type": "code",
   "execution_count": 2,
   "metadata": {
    "collapsed": false
   },
   "outputs": [
    {
     "name": "stdout",
     "output_type": "stream",
     "text": [
      "C:\\Users\\Greg Hamilton\\Documents\\Vplant\\TestData\\ArabAndRiceData\n"
     ]
    }
   ],
   "source": [
    "cd ../ArabAndRiceData/"
   ]
  },
  {
   "cell_type": "code",
   "execution_count": 3,
   "metadata": {
    "collapsed": false
   },
   "outputs": [
    {
     "name": "stdout",
     "output_type": "stream",
     "text": [
      " Volume in drive C has no label.\n",
      " Volume Serial Number is 3656-8D3F\n",
      "\n",
      " Directory of C:\\Users\\Greg Hamilton\\Documents\\Vplant\\TestData\\ArabAndRiceData\n",
      "\n",
      "03/22/2016  11:32 PM    <DIR>          .\n",
      "03/22/2016  11:32 PM    <DIR>          ..\n",
      "02/20/2016  04:47 PM           456,427 061213_Ricecyc.sif\n",
      "11/18/2015  01:32 PM        24,045,625 Ara_1417Nreg_1181roots.cor\n",
      "11/18/2015  01:32 PM         2,081,766 Ara_1417Nreg_350shoots.cor\n",
      "02/20/2016  04:47 PM         3,335,461 Ara_RMAnorm_all.txt\n",
      "03/22/2016  05:36 PM           210,496 Ara_RMAnorm_DiffGenes.txt\n",
      "02/22/2016  12:55 PM         3,335,075 Ara_RMAnorm_Genes.txt\n",
      "02/21/2016  07:02 PM           119,440 ArabidopsisonlyNetwork_1417.txt\n",
      "03/22/2016  10:16 PM            94,375 AraRMAallRoots.txt\n",
      "03/22/2016  10:16 PM            28,075 AraRMAallShoots.txt\n",
      "03/22/2016  06:36 PM           207,473 AraRMADiffGenesAvg.txt\n",
      "03/22/2016  08:57 PM            92,944 AraRMADiffRoots.txt\n",
      "03/22/2016  08:57 PM            27,584 AraRMADiffShoots.txt\n",
      "03/22/2016  10:59 PM            27,526 AraRMAMaxShoots.txt\n",
      "03/22/2016  11:32 PM            27,529 AraRMATopShoots.txt\n",
      "11/18/2015  01:32 PM           423,817 ath1_1to1_noORF_updated_mapping_061313.txt\n",
      "11/18/2015  01:32 PM           272,802 Rice_451Nreg_142shoots.cor\n",
      "02/22/2016  12:59 PM         1,921,263 Rice_451Nreg_341roots.cor\n",
      "02/20/2016  04:48 PM       736,299,954 Rice_cisAra_predicted_regulatory.old.sif\n",
      "02/20/2016  04:47 PM        64,932,938 Rice_metppMultiNetwork070313.sif\n",
      "02/20/2016  04:48 PM     1,393,733,552 Rice_MultiNetwork070313.sif\n",
      "02/20/2016  04:47 PM            60,109 Rice_pp_PRIN-Exp_Ding_Rohila.sif\n",
      "02/20/2016  04:47 PM        64,416,402 Rice_PRIN_Geisler_predicted.sif\n",
      "11/18/2015  01:32 PM         1,399,714 Rice_probe2gene_mapping1tot1_032013.txt\n",
      "02/20/2016  04:47 PM         8,898,300 Rice_RMAnorm_all.txt\n",
      "03/22/2016  05:36 PM            90,933 Rice_RMAnorm_DiffGenes.txt\n",
      "02/22/2016  12:55 PM         8,737,448 Rice_RMAnorm_Genes.txt\n",
      "02/20/2016  04:47 PM         1,368,577 Ricecyc.sif\n",
      "02/21/2016  07:02 PM            26,537 RiceOnlyNetwork_450.txt\n",
      "03/22/2016  10:16 PM            37,740 RiceRMAallRoots.txt\n",
      "03/22/2016  10:16 PM            15,938 RiceRMAallShoots.txt\n",
      "03/22/2016  06:36 PM            69,864 RiceRMADiffGenesAvg.txt\n",
      "03/22/2016  08:57 PM            29,095 RiceRMADiffRoots.txt\n",
      "03/22/2016  08:57 PM            12,216 RiceRMADiffShoots.txt\n",
      "02/20/2016  04:48 PM       801,232,798 sorted_Rice_MultiNetwork070313.sif\n",
      "02/26/2016  01:56 PM     1,473,167,700 Test.out.sif\n",
      "              35 File(s)  4,591,237,493 bytes\n",
      "               2 Dir(s)  162,275,553,280 bytes free\n"
     ]
    }
   ],
   "source": [
    "ls"
   ]
  },
  {
   "cell_type": "code",
   "execution_count": 8,
   "metadata": {
    "collapsed": true
   },
   "outputs": [],
   "source": [
    "AraGenes = []\n",
    "riceGenes = []"
   ]
  },
  {
   "cell_type": "code",
   "execution_count": 9,
   "metadata": {
    "collapsed": false
   },
   "outputs": [],
   "source": [
    "with open(\"ArabidopsisonlyNetwork_1417.txt\", \"rb\", -1) as f:\n",
    "    for line in f:\n",
    "        if line.startswith(\">\"):\n",
    "            continue\n",
    "        else:\n",
    "            line = line.strip().split(\"\\t\")\n",
    "            line = line[0].upper()\n",
    "            AraGenes.append(line)"
   ]
  },
  {
   "cell_type": "code",
   "execution_count": 11,
   "metadata": {
    "collapsed": false
   },
   "outputs": [
    {
     "data": {
      "text/plain": [
       "1417"
      ]
     },
     "execution_count": 11,
     "metadata": {},
     "output_type": "execute_result"
    }
   ],
   "source": [
    "len(AraGenes) # all differentially expressed Arabidopsis Genes (root and/or shoot)"
   ]
  },
  {
   "cell_type": "code",
   "execution_count": 12,
   "metadata": {
    "collapsed": false
   },
   "outputs": [],
   "source": [
    "with open(\"RiceOnlyNetwork_450.txt\", \"rb\", -1) as f:\n",
    "    for line in f:\n",
    "        if line.startswith(\">\"):\n",
    "            continue\n",
    "        else:\n",
    "            line = line.strip().split(\"\\t\")\n",
    "            line = line[0].upper()\n",
    "            riceGenes.append(line)"
   ]
  },
  {
   "cell_type": "code",
   "execution_count": 13,
   "metadata": {
    "collapsed": false
   },
   "outputs": [
    {
     "data": {
      "text/plain": [
       "450"
      ]
     },
     "execution_count": 13,
     "metadata": {},
     "output_type": "execute_result"
    }
   ],
   "source": [
    "len(riceGenes) # all differentially expressed Rice Genes (root and/or shoot)"
   ]
  },
  {
   "cell_type": "code",
   "execution_count": 14,
   "metadata": {
    "collapsed": true
   },
   "outputs": [],
   "source": [
    "from csv import writer"
   ]
  },
  {
   "cell_type": "code",
   "execution_count": 25,
   "metadata": {
    "collapsed": false
   },
   "outputs": [],
   "source": [
    "# filtering the normalized genes down to just the differentially expressed ones\n",
    "with open(\"Ara_RMAnorm_Genes.txt\",\"rb\",-1) as f:\n",
    "    with open(\"Ara_RMAnorm_DiffGenes.txt\",\"wb\", -1) as o:\n",
    "        write = writer(o,delimiter=\"\\t\")\n",
    "        for line in f:\n",
    "            line = line.strip().split(\"\\t\")\n",
    "            if line[0] in AraGenes or \"Roots_KCl_1.CEL\" in line:\n",
    "                write.writerow(line)\n",
    "        o.close()\n",
    "    f.close()\n",
    "                \n",
    "with open(\"Rice_RMAnorm_Genes.txt\",\"rb\",-1) as f:\n",
    "    with open(\"Rice_RMAnorm_DiffGenes.txt\",\"wb\", -1) as o:\n",
    "        write = writer(o,delimiter=\"\\t\")\n",
    "        for line in f:\n",
    "            line = line.strip().split(\"\\t\")\n",
    "            if line[0] in riceGenes or \"Roots_KCl_1.CEL\" in line:\n",
    "                write.writerow(line)\n",
    "        o.close()      \n",
    "    f.close()\n",
    "                \n",
    "# 23 Repeats present in the Arabidopsis data \n",
    "# 152 repeats present in the rice data"
   ]
  },
  {
   "cell_type": "code",
   "execution_count": 19,
   "metadata": {
    "collapsed": false
   },
   "outputs": [],
   "source": [
    "########################################\n",
    "# For the paper they avg the expression\n",
    "# accross the repeats. \n",
    "#######################################\n",
    "riceExp = {}\n",
    "araExp = {}\n",
    "for i in riceGenes:\n",
    "    riceExp[i] = {}\n",
    "for i in AraGenes:\n",
    "    araExp[i] = {}\n",
    "    \n",
    "with open(\"Rice_RMAnorm_DiffGenes.txt\",\"rb\",-1) as f:\n",
    "    for line in f:\n",
    "        line = line.strip().split(\"\\t\")\n",
    "        try:\n",
    "            if len(riceExp[line[0]]) >= 1:\n",
    "                count = len(riceExp[line[0]]) \n",
    "                count = count + 1\n",
    "                riceExp[line[0]][count] = {1 : float(line[1]), 2 : float(line[2]) ,\n",
    "                                           3 : float(line[3]), 4: float(line[4]),\n",
    "                                           5: float(line[5]), 6: float(line[6]),\n",
    "                                          7: float(line[7]) , 8: float(line[8])}\n",
    "            if len(riceExp[line[0]]) == 0:\n",
    "                riceExp[line[0]] = { 1 : {1 : float(line[1]), 2 : float(line[2]) ,\n",
    "                                         3 : float(line[3]), 4: float(line[4]), \n",
    "                                          5: float(line[5]), 6: float(line[6]),\n",
    "                                         7: float(line[7]) , 8: float(line[8])}}\n",
    "        except KeyError:\n",
    "            continue\n",
    "            \n",
    "with open(\"Ara_RMAnorm_DiffGenes.txt\",\"rb\",-1) as f:\n",
    "    for line in f:\n",
    "        line = line.strip().split(\"\\t\")\n",
    "        try:\n",
    "            if len(araExp[line[0]]) >= 1:\n",
    "                count = len(araExp[line[0]]) \n",
    "                count = count + 1\n",
    "                araExp[line[0]][count] = {1 : float(line[1]) , 2 : float(line[2]),\n",
    "                                          3 : float(line[3]) , 4 : float(line[4]),\n",
    "                                          5 : float(line[5]) , 6 : float(line[6]),\n",
    "                                          7 : float(line[7]) , 8 : float(line[8])}\n",
    "            if len(araExp[line[0]]) == 0:\n",
    "                araExp[line[0]] = { 1 : {1 : float(line[1]), 2 : float(line[2]) ,\n",
    "                                         3 : float(line[3]) , 4 : float(line[4]), \n",
    "                                         5 : float(line[5]) , 6 : float(line[6]),\n",
    "                                         7 : float(line[7]) , 8 : float(line[8])}}\n",
    "        except KeyError:\n",
    "            continue"
   ]
  },
  {
   "cell_type": "code",
   "execution_count": 22,
   "metadata": {
    "collapsed": false
   },
   "outputs": [
    {
     "name": "stdout",
     "output_type": "stream",
     "text": [
      "AT2G27900\n"
     ]
    }
   ],
   "source": [
    "count = 0\n",
    "for i in araExp:\n",
    "    if len(araExp[i]) > 2:\n",
    "        count = count + 1\n",
    "        print i"
   ]
  },
  {
   "cell_type": "code",
   "execution_count": 21,
   "metadata": {
    "collapsed": false
   },
   "outputs": [
    {
     "data": {
      "text/plain": [
       "1"
      ]
     },
     "execution_count": 21,
     "metadata": {},
     "output_type": "execute_result"
    }
   ],
   "source": [
    "count"
   ]
  },
  {
   "cell_type": "code",
   "execution_count": 23,
   "metadata": {
    "collapsed": false
   },
   "outputs": [
    {
     "data": {
      "text/plain": [
       "{1: {1: 5.27477448479155,\n",
       "  2: 4.95777761764861,\n",
       "  3: 6.09480427290794,\n",
       "  4: 4.97987547336289,\n",
       "  5: 5.92895043447948,\n",
       "  6: 4.57828538093533,\n",
       "  7: 5.45287937099724,\n",
       "  8: 4.08884003070415},\n",
       " 2: {1: 8.78596194801878,\n",
       "  2: 8.57979102062985,\n",
       "  3: 8.46168199368584,\n",
       "  4: 8.35281883591578,\n",
       "  5: 7.57914170163433,\n",
       "  6: 8.00320341281074,\n",
       "  7: 6.78324600081148,\n",
       "  8: 6.22467437084173}}"
      ]
     },
     "execution_count": 23,
     "metadata": {},
     "output_type": "execute_result"
    }
   ],
   "source": [
    "araExp['AT3G53670']"
   ]
  },
  {
   "cell_type": "code",
   "execution_count": 61,
   "metadata": {
    "collapsed": true
   },
   "outputs": [],
   "source": [
    "count = 0\n",
    "for i in riceExp:\n",
    "    if len(riceExp[i]) > 1:\n",
    "        count = count + 1"
   ]
  },
  {
   "cell_type": "code",
   "execution_count": 62,
   "metadata": {
    "collapsed": false
   },
   "outputs": [
    {
     "data": {
      "text/plain": [
       "115"
      ]
     },
     "execution_count": 62,
     "metadata": {},
     "output_type": "execute_result"
    }
   ],
   "source": [
    "count"
   ]
  },
  {
   "cell_type": "code",
   "execution_count": 63,
   "metadata": {
    "collapsed": true
   },
   "outputs": [],
   "source": [
    "import numpy as np\n",
    "for i in araExp:\n",
    "    if len(araExp[i]) > 1:\n",
    "        exp1 = []\n",
    "        exp2 = []\n",
    "        exp3 = []\n",
    "        exp4 = []\n",
    "        exp5 = []\n",
    "        exp6 = []\n",
    "        exp7 = []\n",
    "        exp8 = []\n",
    "        for l in araExp[i]:\n",
    "            exp1.append(araExp[i][l][1])\n",
    "            exp2.append(araExp[i][l][2])\n",
    "            exp3.append(araExp[i][l][3])\n",
    "            exp4.append(araExp[i][l][4])\n",
    "            exp5.append(araExp[i][l][5])\n",
    "            exp6.append(araExp[i][l][6])\n",
    "            exp7.append(araExp[i][l][7])\n",
    "            exp8.append(araExp[i][l][8])\n",
    "        exp1 = np.mean(exp1)\n",
    "        exp2 = np.mean(exp2)\n",
    "        exp3 = np.mean(exp3)\n",
    "        exp4 = np.mean(exp4)\n",
    "        exp5 = np.mean(exp5)\n",
    "        exp6 = np.mean(exp6)\n",
    "        exp7 = np.mean(exp7)\n",
    "        exp8 = np.mean(exp8)\n",
    "        araExp[i][0] = {1 : exp1 , 2 : exp2 , 3 : exp3 ,\n",
    "                       4 : exp4 , 5 : exp5 , 6 : exp6 ,\n",
    "                       7 : exp7, 8 : exp8 }"
   ]
  },
  {
   "cell_type": "code",
   "execution_count": 64,
   "metadata": {
    "collapsed": false
   },
   "outputs": [],
   "source": [
    "count = 0\n",
    "for i in araExp:\n",
    "    try:\n",
    "        araExp[i][0]\n",
    "        count = count + 1\n",
    "    except KeyError:\n",
    "        continue"
   ]
  },
  {
   "cell_type": "code",
   "execution_count": 65,
   "metadata": {
    "collapsed": false
   },
   "outputs": [
    {
     "data": {
      "text/plain": [
       "22"
      ]
     },
     "execution_count": 65,
     "metadata": {},
     "output_type": "execute_result"
    }
   ],
   "source": [
    "count # perfect"
   ]
  },
  {
   "cell_type": "code",
   "execution_count": 66,
   "metadata": {
    "collapsed": true
   },
   "outputs": [],
   "source": [
    "for i in riceExp:\n",
    "    if len(riceExp[i]) > 1:\n",
    "        exp1 = []\n",
    "        exp2 = []\n",
    "        exp3 = []\n",
    "        exp4 = []\n",
    "        exp5 = []\n",
    "        exp6 = []\n",
    "        exp7 = []\n",
    "        exp8 = []\n",
    "        for l in riceExp[i]:\n",
    "            exp1.append(riceExp[i][l][1])\n",
    "            exp2.append(riceExp[i][l][2])\n",
    "            exp3.append(riceExp[i][l][3])\n",
    "            exp4.append(riceExp[i][l][4])\n",
    "            exp5.append(riceExp[i][l][5])\n",
    "            exp6.append(riceExp[i][l][6])\n",
    "            exp7.append(riceExp[i][l][7])\n",
    "            exp8.append(riceExp[i][l][8])\n",
    "        exp1 = np.mean(exp1)\n",
    "        exp2 = np.mean(exp2)\n",
    "        exp3 = np.mean(exp3)\n",
    "        exp4 = np.mean(exp4)\n",
    "        exp5 = np.mean(exp5)\n",
    "        exp6 = np.mean(exp6)\n",
    "        exp7 = np.mean(exp7)\n",
    "        exp8 = np.mean(exp8)\n",
    "        riceExp[i][0] = {1 : exp1 , 2 : exp2 , 3 : exp3 ,\n",
    "                       4 : exp4 , 5 : exp5 , 6 : exp6 ,\n",
    "                       7 : exp7, 8 : exp8 }"
   ]
  },
  {
   "cell_type": "code",
   "execution_count": 67,
   "metadata": {
    "collapsed": false
   },
   "outputs": [
    {
     "data": {
      "text/plain": [
       "115"
      ]
     },
     "execution_count": 67,
     "metadata": {},
     "output_type": "execute_result"
    }
   ],
   "source": [
    "count = 0\n",
    "for i in riceExp:\n",
    "    try:\n",
    "        riceExp[i][0]\n",
    "        count = count + 1\n",
    "    except KeyError:\n",
    "        continue\n",
    "count # Perfect"
   ]
  },
  {
   "cell_type": "code",
   "execution_count": 69,
   "metadata": {
    "collapsed": false
   },
   "outputs": [],
   "source": [
    "Titles = [\"Roots_KCl_1.CEL\",\n",
    "          \"Roots_KCl_2.CEL\",\n",
    "          \"Roots_N_1.CEL\",\n",
    "          \"Roots_N_2.CEL\",\n",
    "          \"Shoots_KCl_1.CEL\",\n",
    "          \"Shoots_KCl_2.CEL\",\n",
    "          \"Shoots_N_1.CEL\",\n",
    "          \"Shoots_N_2.CEL\"]\n",
    "\n",
    "with open(\"AraRMADiffGenesAvg.txt\", \"wb\" , -1) as f:\n",
    "    write = writer(f,delimiter=\"\\t\")\n",
    "    write.writerow(Titles)\n",
    "    for i in araExp:\n",
    "        line = []\n",
    "        if len(araExp[i]) > 1:\n",
    "            line = [i , araExp[i][0][1],araExp[i][0][2], araExp[i][0][3], \n",
    "                    araExp[i][0][4], araExp[i][0][5], araExp[i][0][6],\n",
    "                   araExp[i][0][7], araExp[i][0][8]]\n",
    "        if len(araExp[i]) == 1:\n",
    "            line = [i , araExp[i][1][1],araExp[i][1][2], araExp[i][1][3], \n",
    "                    araExp[i][1][4], araExp[i][1][5], araExp[i][1][6],\n",
    "                    araExp[i][1][7], araExp[i][1][8]]\n",
    "        write.writerow(line)\n",
    "    f.close()\n",
    "    \n",
    "with open(\"RiceRMADiffGenesAvg.txt\", \"wb\" , -1) as f:\n",
    "    write = writer(f,delimiter=\"\\t\")\n",
    "    write.writerow(Titles)\n",
    "    for i in riceExp:\n",
    "        line = []\n",
    "        if len(riceExp[i]) > 1:\n",
    "            line = [i , riceExp[i][0][1],riceExp[i][0][2], riceExp[i][0][3], \n",
    "                    riceExp[i][0][4], riceExp[i][0][5], riceExp[i][0][6],\n",
    "                    riceExp[i][0][7], riceExp[i][0][8]]\n",
    "        if len(riceExp[i]) == 1:\n",
    "            line = [i , riceExp[i][1][1],riceExp[i][1][2], riceExp[i][1][3], \n",
    "                    riceExp[i][1][4], riceExp[i][1][5], riceExp[i][1][6],\n",
    "                    riceExp[i][1][7], riceExp[i][1][8]]\n",
    "        write.writerow(line)\n",
    "    f.close()"
   ]
  },
  {
   "cell_type": "code",
   "execution_count": null,
   "metadata": {
    "collapsed": true
   },
   "outputs": [],
   "source": [
    "########################################################\n",
    "# Stop point so the files will need to be reloaded into \n",
    "# enviroment\n",
    "#########################################################"
   ]
  },
  {
   "cell_type": "code",
   "execution_count": 41,
   "metadata": {
    "collapsed": false
   },
   "outputs": [
    {
     "name": "stdout",
     "output_type": "stream",
     "text": [
      "142 341 350 1181\n"
     ]
    }
   ],
   "source": [
    "riceShoots = []\n",
    "riceRoots = []\n",
    "araShoots = []\n",
    "araRoots = []\n",
    "\n",
    "with open(\"Rice_451Nreg_142shoots.cor\",\"rb\" , -1) as f:\n",
    "    for line in f:\n",
    "        line = line.strip().split(\",\")\n",
    "        riceShoots.append(line[0])\n",
    "        riceShoots.append(line[1])\n",
    "    f.close()\n",
    "\n",
    "with open(\"Rice_451Nreg_341roots.cor\",\"rb\" , -1) as f:\n",
    "    for line in f:\n",
    "        line = line.strip().split(\",\")\n",
    "        riceRoots.append(line[0])\n",
    "        riceRoots.append(line[1])\n",
    "    f.close()\n",
    "\n",
    "with open(\"Ara_1417Nreg_350shoots.cor\",\"rb\" , -1) as f:\n",
    "    for line in f:\n",
    "        line = line.strip().split(\",\")\n",
    "        araShoots.append(line[0])\n",
    "        araShoots.append(line[1])\n",
    "    f.close()\n",
    "\n",
    "with open(\"Ara_1417Nreg_1181roots.cor\",\"rb\" , -1) as f:\n",
    "    for line in f:\n",
    "        line = line.strip().split(\",\")\n",
    "        araRoots.append(line[0])\n",
    "        araRoots.append(line[1])\n",
    "    f.close()\n",
    "    \n",
    "araShoots = list(set(araShoots))\n",
    "araRoots = list(set(araRoots))\n",
    "riceShoots = list(set(riceShoots))\n",
    "riceRoots = list(set(riceRoots))\n",
    "\n",
    "print len(riceShoots) , len(riceRoots), len(araShoots) , len(araRoots)"
   ]
  },
  {
   "cell_type": "code",
   "execution_count": 12,
   "metadata": {
    "collapsed": false
   },
   "outputs": [],
   "source": [
    "roots = [\"Roots_KCl_1.CEL\",\n",
    "          \"Roots_KCl_2.CEL\",\n",
    "          \"Roots_N_1.CEL\",\n",
    "          \"Roots_N_2.CEL\"]\n",
    "shoots = [\"Shoots_KCl_1.CEL\",\n",
    "          \"Shoots_KCl_2.CEL\",\n",
    "          \"Shoots_N_1.CEL\",\n",
    "          \"Shoots_N_2.CEL\"]\n",
    "with open(\"AraRMADiffGenesAvg.txt\",\"rb\",-1) as f:\n",
    "    with open(\"AraRMADiffRoots.txt\",\"wb\",-1) as r:\n",
    "        with open(\"AraRMADiffShoots.txt\",\"wb\",-1) as s:\n",
    "            writeR = writer(r, delimiter=\"\\t\")\n",
    "            writeS = writer(s, delimiter=\"\\t\")\n",
    "            writeR.writerow(roots)\n",
    "            writeS.writerow(shoots)\n",
    "            for line in f:\n",
    "                line = line.strip().split(\"\\t\")\n",
    "                if line[0] in araRoots:\n",
    "                    writeR.writerow([line[0],line[1],line[2],line[3],line[4]])\n",
    "                if line[0] in araShoots:\n",
    "                    writeS.writerow([line[0],line[5],line[6],line[7],line[8]])\n",
    "            s.close()\n",
    "        r.close()\n",
    "    f.close()\n",
    "    \n",
    "with open(\"RiceRMADiffGenesAvg.txt\",\"rb\",-1) as f:\n",
    "    with open(\"RiceRMADiffRoots.txt\",\"wb\",-1) as r:\n",
    "        with open(\"RiceRMADiffShoots.txt\",\"wb\",-1) as s:\n",
    "            writeR = writer(r, delimiter=\"\\t\")\n",
    "            writeS = writer(s, delimiter=\"\\t\")\n",
    "            writeR.writerow(roots)\n",
    "            writeS.writerow(shoots)\n",
    "            for line in f:\n",
    "                line = line.strip().split(\"\\t\")\n",
    "                if line[0] in riceRoots:\n",
    "                    writeR.writerow([line[0],line[1],line[2],line[3],line[4]])\n",
    "                if line[0] in riceShoots:\n",
    "                    writeS.writerow([line[0],line[5],line[6],line[7],line[8]])\n",
    "            s.close()\n",
    "        r.close()\n",
    "    f.close()"
   ]
  },
  {
   "cell_type": "code",
   "execution_count": 13,
   "metadata": {
    "collapsed": true
   },
   "outputs": [],
   "source": [
    "########################################\n",
    "# Numbers add up in final files\n",
    "# Now moving on to running correltation\n",
    "# and comparing with the previous study\n",
    "########################################"
   ]
  },
  {
   "cell_type": "code",
   "execution_count": 4,
   "metadata": {
    "collapsed": true
   },
   "outputs": [],
   "source": [
    "#########################################################\n",
    "# Time for a new filter\n",
    "# let try taking all of the possible probe to gene combos\n",
    "# then I will try max \n",
    "########################################################"
   ]
  },
  {
   "cell_type": "code",
   "execution_count": 25,
   "metadata": {
    "collapsed": false
   },
   "outputs": [
    {
     "name": "stdout",
     "output_type": "stream",
     "text": [
      "142 341 350 1181\n"
     ]
    }
   ],
   "source": [
    "riceShoots = []\n",
    "riceRoots = []\n",
    "araShoots = []\n",
    "araRoots = []\n",
    "\n",
    "with open(\"Rice_451Nreg_142shoots.cor\",\"rb\" , -1) as f:\n",
    "    for line in f:\n",
    "        line = line.strip().split(\",\")\n",
    "        riceShoots.append(line[0])\n",
    "        riceShoots.append(line[1])\n",
    "    f.close()\n",
    "\n",
    "with open(\"Rice_451Nreg_341roots.cor\",\"rb\" , -1) as f:\n",
    "    for line in f:\n",
    "        line = line.strip().split(\",\")\n",
    "        riceRoots.append(line[0])\n",
    "        riceRoots.append(line[1])\n",
    "    f.close()\n",
    "\n",
    "with open(\"Ara_1417Nreg_350shoots.cor\",\"rb\" , -1) as f:\n",
    "    for line in f:\n",
    "        line = line.strip().split(\",\")\n",
    "        araShoots.append(line[0])\n",
    "        araShoots.append(line[1])\n",
    "    f.close()\n",
    "\n",
    "with open(\"Ara_1417Nreg_1181roots.cor\",\"rb\" , -1) as f:\n",
    "    for line in f:\n",
    "        line = line.strip().split(\",\")\n",
    "        araRoots.append(line[0])\n",
    "        araRoots.append(line[1])\n",
    "    f.close()\n",
    "    \n",
    "araShoots = list(set(araShoots))\n",
    "araRoots = list(set(araRoots))\n",
    "riceShoots = list(set(riceShoots))\n",
    "riceRoots = list(set(riceRoots))\n",
    "\n",
    "print len(riceShoots) , len(riceRoots), len(araShoots) , len(araRoots)"
   ]
  },
  {
   "cell_type": "code",
   "execution_count": 7,
   "metadata": {
    "collapsed": true
   },
   "outputs": [],
   "source": [
    "from csv import writer"
   ]
  },
  {
   "cell_type": "code",
   "execution_count": 9,
   "metadata": {
    "collapsed": false
   },
   "outputs": [],
   "source": [
    "roots = [\"Roots_KCl_1.CEL\",\n",
    "          \"Roots_KCl_2.CEL\",\n",
    "          \"Roots_N_1.CEL\",\n",
    "          \"Roots_N_2.CEL\"]\n",
    "\n",
    "shoots = [\"Shoots_KCl_1.CEL\",\n",
    "          \"Shoots_KCl_2.CEL\",\n",
    "          \"Shoots_N_1.CEL\",\n",
    "          \"Shoots_N_2.CEL\"]\n",
    "\n",
    "with open(\"Ara_RMAnorm_Genes.txt\",\"rb\",-1) as f:\n",
    "    with open(\"AraRMAallRoots.txt\",\"wb\",-1) as r:\n",
    "        with open(\"AraRMAallShoots.txt\",\"wb\",-1) as s:\n",
    "            writeR = writer(r, delimiter=\"\\t\")\n",
    "            writeS = writer(s, delimiter=\"\\t\")\n",
    "            writeR.writerow(roots)\n",
    "            writeS.writerow(shoots)\n",
    "            for line in f:\n",
    "                line = line.strip().split(\"\\t\")\n",
    "                if line[0] in araRoots:\n",
    "                    writeR.writerow([line[0],line[1],line[2],line[3],line[4]])\n",
    "                if line[0] in araShoots:\n",
    "                    writeS.writerow([line[0],line[5],line[6],line[7],line[8]])\n",
    "            s.close()\n",
    "        r.close()\n",
    "    f.close()\n",
    "    \n",
    "with open(\"Rice_RMAnorm_Genes.txt\",\"rb\",-1) as f:\n",
    "    with open(\"RiceRMAallRoots.txt\",\"wb\",-1) as r:\n",
    "        with open(\"RiceRMAallShoots.txt\",\"wb\",-1) as s:\n",
    "            writeR = writer(r, delimiter=\"\\t\")\n",
    "            writeS = writer(s, delimiter=\"\\t\")\n",
    "            writeR.writerow(roots)\n",
    "            writeS.writerow(shoots)\n",
    "            for line in f:\n",
    "                line = line.strip().split(\"\\t\")\n",
    "                if line[0] in riceRoots:\n",
    "                    writeR.writerow([line[0],line[1],line[2],line[3],line[4]])\n",
    "                if line[0] in riceShoots:\n",
    "                    writeS.writerow([line[0],line[5],line[6],line[7],line[8]])\n",
    "            s.close()\n",
    "        r.close()\n",
    "    f.close()"
   ]
  },
  {
   "cell_type": "code",
   "execution_count": 10,
   "metadata": {
    "collapsed": true
   },
   "outputs": [],
   "source": [
    "# AraRoots - is now 1201 was 1181\n",
    "# AraShoots - 357 / 350 \n",
    "# RiceRoots - 452 / 340\n",
    "# RiceShoots - 191 / 142"
   ]
  },
  {
   "cell_type": "code",
   "execution_count": 11,
   "metadata": {
    "collapsed": true
   },
   "outputs": [],
   "source": [
    "######################################\n",
    "# Back to the correlation Compare\n",
    "######################################"
   ]
  },
  {
   "cell_type": "code",
   "execution_count": 24,
   "metadata": {
    "collapsed": true
   },
   "outputs": [],
   "source": [
    "for i in araExp:\n",
    "    if len(araExp[i]) > 1:\n",
    "        exp1 = 0\n",
    "        exp2 = 0\n",
    "        exp3 = 0\n",
    "        exp4 = 0\n",
    "        exp5 = 0\n",
    "        exp6 = 0\n",
    "        exp7 = 0\n",
    "        exp8 = 0\n",
    "        for l in araExp[i]:\n",
    "            if exp1 < araExp[i][l][1]:\n",
    "                exp1 = araExp[i][l][1]\n",
    "            if exp2 < araExp[i][l][2]:\n",
    "                exp2 = araExp[i][l][2]\n",
    "            if exp3 < araExp[i][l][3]:\n",
    "                exp3 = araExp[i][l][3]\n",
    "            if exp4 < araExp[i][l][4]:\n",
    "                exp4 = araExp[i][l][4]\n",
    "            if exp5 < araExp[i][l][5]:\n",
    "                exp5 = araExp[i][l][5]\n",
    "            if exp6 < araExp[i][l][6]:\n",
    "                exp6 = araExp[i][l][6]\n",
    "            if exp7 < araExp[i][l][7]:\n",
    "                exp7 = araExp[i][l][7]\n",
    "            if exp8 < araExp[i][l][8]:\n",
    "                exp8 = araExp[i][l][8]\n",
    "        araExp[i][0] = {1 : exp1 , 2 : exp2 , 3 : exp3 ,\n",
    "                       4 : exp4 , 5 : exp5 , 6 : exp6 ,\n",
    "                       7 : exp7, 8 : exp8 }"
   ]
  },
  {
   "cell_type": "code",
   "execution_count": 26,
   "metadata": {
    "collapsed": true
   },
   "outputs": [],
   "source": [
    "shoots = [\"  Shoots_KCl_1.CEL\",\n",
    "          \"Shoots_KCl_2.CEL\",\n",
    "          \"Shoots_N_1.CEL\",\n",
    "          \"Shoots_N_2.CEL\"]\n",
    "\n",
    "with open(\"AraRMAMaxShoots.txt\",\"wb\",-1) as s:\n",
    "    writeS = writer(s, delimiter=\"\\t\")\n",
    "    writeS.writerow(shoots)\n",
    "    for i in araExp:\n",
    "        if len(araExp[i]) > 1: \n",
    "            if i in araShoots:\n",
    "                writeS.writerow([i,araExp[i][0][5],araExp[i][0][6],araExp[i][0][7],araExp[i][0][8]])\n",
    "        if len(araExp[i]) == 1: \n",
    "            if i in araShoots:\n",
    "                writeS.writerow([i,araExp[i][1][5],araExp[i][1][6],araExp[i][1][7],araExp[i][1][8]])\n",
    "    s.close()"
   ]
  },
  {
   "cell_type": "code",
   "execution_count": null,
   "metadata": {
    "collapsed": true
   },
   "outputs": [],
   "source": [
    "#############\n",
    "# New Plan\n",
    "##############\n",
    "### Setting up a version that has the highest avg expression."
   ]
  },
  {
   "cell_type": "code",
   "execution_count": 15,
   "metadata": {
    "collapsed": true
   },
   "outputs": [],
   "source": [
    "araExp = {}\n",
    "for i in AraGenes:\n",
    "    araExp[i] = {}\n",
    "    \n",
    "with open(\"Ara_RMAnorm_DiffGenes.txt\",\"rb\",-1) as f:\n",
    "    for line in f:\n",
    "        line = line.strip().split(\"\\t\")\n",
    "        try:\n",
    "            if len(araExp[line[0]]) >= 1:\n",
    "                count = len(araExp[line[0]]) \n",
    "                count = count + 1\n",
    "                araExp[line[0]][count] = {1 : float(line[1]) , 2 : float(line[2]),\n",
    "                                          3 : float(line[3]) , 4 : float(line[4]),\n",
    "                                          5 : float(line[5]) , 6 : float(line[6]),\n",
    "                                          7 : float(line[7]) , 8 : float(line[8])}\n",
    "            if len(araExp[line[0]]) == 0:\n",
    "                araExp[line[0]] = { 1 : {1 : float(line[1]), 2 : float(line[2]) ,\n",
    "                                         3 : float(line[3]) , 4 : float(line[4]), \n",
    "                                         5 : float(line[5]) , 6 : float(line[6]),\n",
    "                                         7 : float(line[7]) , 8 : float(line[8])}}\n",
    "        except KeyError:\n",
    "            continue"
   ]
  },
  {
   "cell_type": "code",
   "execution_count": 35,
   "metadata": {
    "collapsed": false
   },
   "outputs": [],
   "source": [
    "import numpy as np\n",
    "exp = {}\n",
    "for i in araExp:\n",
    "    if len(araExp[i]) > 1:\n",
    "        exp[i] = {}\n",
    "        for l in araExp[i]:\n",
    "            empty = []\n",
    "            for j in araExp[i][l]:\n",
    "                empty.append(araExp[i][l][j])\n",
    "            exp[i][np.mean(empty)] = araExp[i][l]"
   ]
  },
  {
   "cell_type": "code",
   "execution_count": 28,
   "metadata": {
    "collapsed": false
   },
   "outputs": [
    {
     "data": {
      "text/plain": [
       "list"
      ]
     },
     "execution_count": 28,
     "metadata": {},
     "output_type": "execute_result"
    }
   ],
   "source": [
    ""
   ]
  },
  {
   "cell_type": "code",
   "execution_count": null,
   "metadata": {
    "collapsed": true
   },
   "outputs": [],
   "source": [
    "araExp[]"
   ]
  },
  {
   "cell_type": "code",
   "execution_count": 36,
   "metadata": {
    "collapsed": false,
    "scrolled": false
   },
   "outputs": [
    {
     "data": {
      "text/plain": [
       "{5.7258281681622734: {1: 4.74379384654602,\n",
       "  2: 4.70611385136879,\n",
       "  3: 4.67073209977748,\n",
       "  4: 4.45431119914176,\n",
       "  5: 6.84899988342238,\n",
       "  6: 7.13232304535441,\n",
       "  7: 6.45691287361255,\n",
       "  8: 6.7934385460748},\n",
       " 7.1409314715187637: {1: 4.93821522811363,\n",
       "  2: 4.74589700237994,\n",
       "  3: 5.09748848557048,\n",
       "  4: 5.14471784663024,\n",
       "  5: 9.51615806724567,\n",
       "  6: 9.68418208161956,\n",
       "  7: 8.8753175307985,\n",
       "  8: 9.12547552979209}}"
      ]
     },
     "execution_count": 36,
     "metadata": {},
     "output_type": "execute_result"
    }
   ],
   "source": [
    "exp['AT1G01320']"
   ]
  },
  {
   "cell_type": "code",
   "execution_count": 37,
   "metadata": {
    "collapsed": true
   },
   "outputs": [],
   "source": [
    "for i in exp:\n",
    "    maxVal = 0\n",
    "    index = 0\n",
    "    for l in exp[i]:\n",
    "        if l > maxVal:\n",
    "            maxVal = l\n",
    "    exp[i][0] = exp[i][maxVal]"
   ]
  },
  {
   "cell_type": "code",
   "execution_count": 39,
   "metadata": {
    "collapsed": false
   },
   "outputs": [],
   "source": [
    "for i in exp:\n",
    "    araExp[i][0] = exp[i][0]"
   ]
  },
  {
   "cell_type": "code",
   "execution_count": 43,
   "metadata": {
    "collapsed": false
   },
   "outputs": [],
   "source": [
    "shoots = [\"  Shoots_KCl_1.CEL\",\n",
    "          \"Shoots_KCl_2.CEL\",\n",
    "          \"Shoots_N_1.CEL\",\n",
    "          \"Shoots_N_2.CEL\"]\n",
    "roots = [\"   Roots_KCl_1.CEL\",\n",
    "          \"Roots_KCl_2.CEL\",\n",
    "          \"Roots_N_1.CEL\",\n",
    "          \"Roots_N_2.CEL\"]\n",
    "\n",
    "with open(\"AraRMAMaxAvgShoots.txt\",\"wb\",-1) as s:\n",
    "    writeS = writer(s, delimiter=\"\\t\")\n",
    "    writeS.writerow(shoots)\n",
    "    for i in araExp:\n",
    "        if len(araExp[i]) > 1: \n",
    "            if i in araShoots:\n",
    "                writeS.writerow([i,araExp[i][0][5],araExp[i][0][6],araExp[i][0][7],araExp[i][0][8]])\n",
    "        if len(araExp[i]) == 1: \n",
    "            if i in araShoots:\n",
    "                writeS.writerow([i,araExp[i][1][5],araExp[i][1][6],araExp[i][1][7],araExp[i][1][8]])\n",
    "    s.close()\n",
    "    \n",
    "with open(\"AraRMAMaxAvgRoots.txt\",\"wb\",-1) as r:\n",
    "    writeR = writer(r, delimiter=\"\\t\")\n",
    "    writeR.writerow(roots)\n",
    "    for i in araExp:\n",
    "        if len(araExp[i]) > 1: \n",
    "            if i in araRoots:\n",
    "                writeR.writerow([i,araExp[i][0][1],araExp[i][0][2],araExp[i][0][3],araExp[i][0][4]])\n",
    "        if len(araExp[i]) == 1: \n",
    "            if i in araRoots:\n",
    "                writeR.writerow([i,araExp[i][1][1],araExp[i][1][2],araExp[i][1][3],araExp[i][1][4]])\n",
    "    r.close()"
   ]
  },
  {
   "cell_type": "code",
   "execution_count": null,
   "metadata": {
    "collapsed": true
   },
   "outputs": [],
   "source": [
    ""
   ]
  },
  {
   "cell_type": "code",
   "execution_count": null,
   "metadata": {
    "collapsed": true
   },
   "outputs": [],
   "source": [
    ""
   ]
  },
  {
   "cell_type": "code",
   "execution_count": 22,
   "metadata": {
    "collapsed": true
   },
   "outputs": [],
   "source": [
    "###################################################\n",
    "# Creating a version where I take the one with the \n",
    "# highest overall value\n",
    "###################################################"
   ]
  },
  {
   "cell_type": "code",
   "execution_count": 16,
   "metadata": {
    "collapsed": true
   },
   "outputs": [],
   "source": [
    "exp = {}\n",
    "for i in araExp:\n",
    "    if len(araExp[i]) > 1:\n",
    "        exp[i] = {}\n",
    "        for l in araExp[i]:\n",
    "            empty = 0\n",
    "            empty = araExp[i][l][1] + araExp[i][l][2] + araExp[i][l][3] + araExp[i][l][4] + araExp[i][l][5] + araExp[i][l][6] + araExp[i][l][7] + araExp[i][l][8] \n",
    "            exp[i][empty] = [ araExp[i][l][1] , araExp[i][l][2] , araExp[i][l][3] , araExp[i][l][4] ]"
   ]
  },
  {
   "cell_type": "code",
   "execution_count": 54,
   "metadata": {
    "collapsed": false
   },
   "outputs": [],
   "source": [
    "for i in exp:\n",
    "    maxVal = 0\n",
    "    index = 0\n",
    "    for l in exp[i]:\n",
    "        if l > maxVal:\n",
    "            maxVal = l\n",
    "    exp[i][0] = exp[i][maxVal]"
   ]
  },
  {
   "cell_type": "code",
   "execution_count": 55,
   "metadata": {
    "collapsed": true
   },
   "outputs": [
    {
     "data": {
      "text/plain": [
       "{'AT1G01320': {0: [4.93821522811363,\n",
       "   4.74589700237994,\n",
       "   5.09748848557048,\n",
       "   5.14471784663024],\n",
       "  18.574950996834048: [4.74379384654602,\n",
       "   4.70611385136879,\n",
       "   4.67073209977748,\n",
       "   4.45431119914176],\n",
       "  19.92631856269429: [4.93821522811363,\n",
       "   4.74589700237994,\n",
       "   5.09748848557048,\n",
       "   5.14471784663024]},\n",
       " 'AT1G05490': {0: [4.82691174129984,\n",
       "   4.90325168524869,\n",
       "   4.28018119929631,\n",
       "   4.25868950166954],\n",
       "  16.329157014933962: [4.05775420441365,\n",
       "   4.04824274488969,\n",
       "   4.09540084357377,\n",
       "   4.12775922205685],\n",
       "  18.26903412751438: [4.82691174129984,\n",
       "   4.90325168524869,\n",
       "   4.28018119929631,\n",
       "   4.25868950166954]},\n",
       " 'AT1G31050': {0: [7.64674484905338,\n",
       "   7.52989438644391,\n",
       "   7.91477844610422,\n",
       "   8.09030669283969],\n",
       "  26.60898542440248: [5.77876490132983,\n",
       "   6.18780997154604,\n",
       "   7.24591393667199,\n",
       "   7.39649661485462],\n",
       "  31.181724374441202: [7.64674484905338,\n",
       "   7.52989438644391,\n",
       "   7.91477844610422,\n",
       "   8.09030669283969]},\n",
       " 'AT1G31690': {0: [5.23333613899337,\n",
       "   5.06761938395389,\n",
       "   4.49043112717411,\n",
       "   4.43012575843004],\n",
       "  19.034847247592353: [4.92143479869285,\n",
       "   5.18232785471617,\n",
       "   4.31550911169188,\n",
       "   4.61557548249145],\n",
       "  19.22151240855141: [5.23333613899337,\n",
       "   5.06761938395389,\n",
       "   4.49043112717411,\n",
       "   4.43012575843004]},\n",
       " 'AT1G52240': {0: [4.90775924429376,\n",
       "   4.43698627470243,\n",
       "   5.45159438457035,\n",
       "   5.91866145136821],\n",
       "  18.57507282724903: [4.9910579547926,\n",
       "   5.22369267796073,\n",
       "   4.12161744437483,\n",
       "   4.23870475012087],\n",
       "  20.71500135493475: [4.90775924429376,\n",
       "   4.43698627470243,\n",
       "   5.45159438457035,\n",
       "   5.91866145136821]},\n",
       " 'AT2G13230': {0: [5.6290091751595,\n",
       "   5.60077608670666,\n",
       "   4.24653338765601,\n",
       "   4.43893461144309],\n",
       "  19.163383942242163: [5.46703100253355,\n",
       "   5.16567507224235,\n",
       "   4.20999558979184,\n",
       "   4.32068227767442],\n",
       "  19.915253260965258: [5.6290091751595,\n",
       "   5.60077608670666,\n",
       "   4.24653338765601,\n",
       "   4.43893461144309]},\n",
       " 'AT2G27900': {0: [6.20903114768229,\n",
       "   7.04684598751278,\n",
       "   6.76981530172295,\n",
       "   6.84896545378011],\n",
       "  21.5165013387474: [5.18472905808895,\n",
       "   5.27739319610691,\n",
       "   5.53278563891537,\n",
       "   5.52159344563617],\n",
       "  24.92803104793687: [5.87738356480298,\n",
       "   5.91040321424627,\n",
       "   6.68012046551394,\n",
       "   6.46012380337368],\n",
       "  26.87465789069813: [6.20903114768229,\n",
       "   7.04684598751278,\n",
       "   6.76981530172295,\n",
       "   6.84896545378011]},\n",
       " 'AT2G30600': {0: [7.84573434294451,\n",
       "   7.11188535909014,\n",
       "   9.23791222330835,\n",
       "   8.77977812590157],\n",
       "  30.230281976967042: [6.65553601354951,\n",
       "   6.43007304253193,\n",
       "   8.79954809254647,\n",
       "   8.34512482833913],\n",
       "  32.97531005124457: [7.84573434294451,\n",
       "   7.11188535909014,\n",
       "   9.23791222330835,\n",
       "   8.77977812590157]},\n",
       " 'AT2G32560': {0: [5.50468054148974,\n",
       "   5.82823631415206,\n",
       "   5.41596085615797,\n",
       "   5.29753778397881],\n",
       "  16.794094556919532: [4.70594191048537,\n",
       "   4.49288931121119,\n",
       "   3.84427269861219,\n",
       "   3.75099063661078],\n",
       "  22.046415495778582: [5.50468054148974,\n",
       "   5.82823631415206,\n",
       "   5.41596085615797,\n",
       "   5.29753778397881]},\n",
       " 'AT2G35450': {0: [4.67000221047826,\n",
       "   4.6195868004027,\n",
       "   5.41641269339686,\n",
       "   5.35853098227799],\n",
       "  17.88221193999123: [4.41173003418848,\n",
       "   4.15712727231833,\n",
       "   4.70503676088634,\n",
       "   4.60831787259808],\n",
       "  20.06453268655581: [4.67000221047826,\n",
       "   4.6195868004027,\n",
       "   5.41641269339686,\n",
       "   5.35853098227799]},\n",
       " 'AT2G35710': {0: [6.04501084975408,\n",
       "   5.65375517771609,\n",
       "   6.80394021007508,\n",
       "   6.99489710296161],\n",
       "  19.52028628712885: [5.1598068461136,\n",
       "   4.6812157556868,\n",
       "   4.72404072373681,\n",
       "   4.95522296159164],\n",
       "  25.49760334050686: [6.04501084975408,\n",
       "   5.65375517771609,\n",
       "   6.80394021007508,\n",
       "   6.99489710296161]},\n",
       " 'AT3G44510': {0: [5.17650128362553,\n",
       "   5.38532189252984,\n",
       "   4.5095809106182,\n",
       "   4.66059230049026],\n",
       "  18.6361675603696: [4.9830432800475,\n",
       "   4.83884625027367,\n",
       "   4.37274909950011,\n",
       "   4.44152893054832],\n",
       "  19.731996387263827: [5.17650128362553,\n",
       "   5.38532189252984,\n",
       "   4.5095809106182,\n",
       "   4.66059230049026]},\n",
       " 'AT3G47980': {0: [5.71611954269663,\n",
       "   5.64356148044512,\n",
       "   6.59876973790311,\n",
       "   7.00788842945588],\n",
       "  21.033486841134852: [4.90933870090678,\n",
       "   4.75516311241564,\n",
       "   5.53193429071154,\n",
       "   5.83705073710089],\n",
       "  24.96633919050074: [5.71611954269663,\n",
       "   5.64356148044512,\n",
       "   6.59876973790311,\n",
       "   7.00788842945588]},\n",
       " 'AT3G53670': {0: [8.78596194801878,\n",
       "   8.57979102062985,\n",
       "   8.46168199368584,\n",
       "   8.35281883591578],\n",
       "  21.30723184871099: [5.27477448479155,\n",
       "   4.95777761764861,\n",
       "   6.09480427290794,\n",
       "   4.97987547336289],\n",
       "  34.18025379825025: [8.78596194801878,\n",
       "   8.57979102062985,\n",
       "   8.46168199368584,\n",
       "   8.35281883591578]},\n",
       " 'AT3G54320': {0: [4.98591233653831,\n",
       "   4.76604299924418,\n",
       "   5.726551801339,\n",
       "   5.70090663224257],\n",
       "  20.896684089009568: [5.46207074518781,\n",
       "   5.29705069112503,\n",
       "   5.07436240929596,\n",
       "   5.06320024340077],\n",
       "  21.17941376936406: [4.98591233653831,\n",
       "   4.76604299924418,\n",
       "   5.726551801339,\n",
       "   5.70090663224257]},\n",
       " 'AT4G00630': {0: [6.42598207967037,\n",
       "   6.32963528365148,\n",
       "   7.84920502937442,\n",
       "   8.11170729718012],\n",
       "  17.80954870242817: [4.19634883334102,\n",
       "   4.19048471475698,\n",
       "   4.65604106372438,\n",
       "   4.76667409060579],\n",
       "  28.71652968987639: [6.42598207967037,\n",
       "   6.32963528365148,\n",
       "   7.84920502937442,\n",
       "   8.11170729718012]},\n",
       " 'AT4G09900': {0: [4.64859218947924,\n",
       "   4.80337192194468,\n",
       "   4.52758221014209,\n",
       "   4.41867058746465],\n",
       "  16.06814254709742: [3.87143585373589,\n",
       "   4.11595830062447,\n",
       "   4.08936700819898,\n",
       "   3.99138138453808],\n",
       "  18.39821690903066: [4.64859218947924,\n",
       "   4.80337192194468,\n",
       "   4.52758221014209,\n",
       "   4.41867058746465]},\n",
       " 'AT4G29490': {0: [7.58008907129988,\n",
       "   7.20511098601078,\n",
       "   7.84893117465151,\n",
       "   7.97625368465173],\n",
       "  25.488150036512888: [5.7877238231272,\n",
       "   5.8819995644596,\n",
       "   6.98101894461355,\n",
       "   6.83740770431254],\n",
       "  30.610384916613903: [7.58008907129988,\n",
       "   7.20511098601078,\n",
       "   7.84893117465151,\n",
       "   7.97625368465173]},\n",
       " 'AT5G24710': {0: [7.21412515853019,\n",
       "   6.73093390910774,\n",
       "   6.79318618873649,\n",
       "   7.02804532611418],\n",
       "  19.678161290150513: [4.56871353467935,\n",
       "   4.55157795560755,\n",
       "   5.32432495970312,\n",
       "   5.23354484016049],\n",
       "  27.7662905824886: [7.21412515853019,\n",
       "   6.73093390910774,\n",
       "   6.79318618873649,\n",
       "   7.02804532611418]},\n",
       " 'AT5G26880': {0: [7.03749044027072,\n",
       "   6.58595480164276,\n",
       "   7.67041647603226,\n",
       "   7.58579143935441],\n",
       "  18.143107554195968: [4.95376269058483,\n",
       "   5.32591952338367,\n",
       "   3.93757752352016,\n",
       "   3.92584781670731],\n",
       "  28.879653157300147: [7.03749044027072,\n",
       "   6.58595480164276,\n",
       "   7.67041647603226,\n",
       "   7.58579143935441]},\n",
       " 'AT5G47400': {0: [5.55829462380613,\n",
       "   5.30506106481062,\n",
       "   6.48016474160294,\n",
       "   6.29010388955831],\n",
       "  21.57012753827066: [5.07720219217391,\n",
       "   5.71619490262767,\n",
       "   5.28839662842579,\n",
       "   5.48833381504329],\n",
       "  23.633624319778: [5.55829462380613,\n",
       "   5.30506106481062,\n",
       "   6.48016474160294,\n",
       "   6.29010388955831]},\n",
       " 'AT5G54130': {0: [5.76469151374854,\n",
       "   6.7100573682786,\n",
       "   8.70400831842954,\n",
       "   8.67427509791853],\n",
       "  26.19056494213524: [5.25209322594122,\n",
       "   5.33164177806648,\n",
       "   7.81753832822125,\n",
       "   7.78929160990629],\n",
       "  29.85303229837521: [5.76469151374854,\n",
       "   6.7100573682786,\n",
       "   8.70400831842954,\n",
       "   8.67427509791853]}}"
      ]
     },
     "execution_count": 55,
     "metadata": {},
     "output_type": "execute_result"
    }
   ],
   "source": [
    "exp"
   ]
  },
  {
   "cell_type": "code",
   "execution_count": 56,
   "metadata": {
    "collapsed": true
   },
   "outputs": [],
   "source": [
    "for i in exp:\n",
    "    araExp[i][0] = exp[i][0]"
   ]
  },
  {
   "cell_type": "code",
   "execution_count": 34,
   "metadata": {
    "collapsed": false
   },
   "outputs": [
    {
     "data": {
      "text/plain": [
       "dict"
      ]
     },
     "execution_count": 34,
     "metadata": {},
     "output_type": "execute_result"
    }
   ],
   "source": [
    "type(araExp['AT2G03270'][1])"
   ]
  },
  {
   "cell_type": "code",
   "execution_count": null,
   "metadata": {
    "collapsed": true
   },
   "outputs": [],
   "source": [
    ""
   ]
  },
  {
   "cell_type": "code",
   "execution_count": 58,
   "metadata": {
    "collapsed": true
   },
   "outputs": [],
   "source": [
    "shoots = [\"  Shoots_KCl_1.CEL\",\n",
    "          \"Shoots_KCl_2.CEL\",\n",
    "          \"Shoots_N_1.CEL\",\n",
    "          \"Shoots_N_2.CEL\"]\n",
    "\n",
    "with open(\"AraRMATopShoots.txt\",\"wb\",-1) as s:\n",
    "    writeS = writer(s, delimiter=\"\\t\")\n",
    "    writeS.writerow(shoots)\n",
    "    for i in araExp:\n",
    "        if len(araExp[i]) > 1: \n",
    "            if i in araShoots:\n",
    "                writeS.writerow([i,araExp[i][0][0],araExp[i][0][1],araExp[i][0][2],araExp[i][0][3]])\n",
    "        if len(araExp[i]) == 1: \n",
    "            if i in araShoots:\n",
    "                writeS.writerow([i,araExp[i][1][5],araExp[i][1][6],araExp[i][1][7],araExp[i][1][8]])\n",
    "    s.close()"
   ]
  },
  {
   "cell_type": "code",
   "execution_count": null,
   "metadata": {
    "collapsed": true
   },
   "outputs": [],
   "source": [
    ""
   ]
  },
  {
   "cell_type": "code",
   "execution_count": null,
   "metadata": {
    "collapsed": true
   },
   "outputs": [],
   "source": [
    ""
   ]
  },
  {
   "cell_type": "code",
   "execution_count": null,
   "metadata": {
    "collapsed": true
   },
   "outputs": [],
   "source": [
    ""
   ]
  }
 ],
 "metadata": {
  "kernelspec": {
   "display_name": "Python 2",
   "language": "python",
   "name": "python2"
  },
  "language_info": {
   "codemirror_mode": {
    "name": "ipython",
    "version": 2.0
   },
   "file_extension": ".py",
   "mimetype": "text/x-python",
   "name": "python",
   "nbconvert_exporter": "python",
   "pygments_lexer": "ipython2",
   "version": "2.7.11"
  }
 },
 "nbformat": 4,
 "nbformat_minor": 0
}